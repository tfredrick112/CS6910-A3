{
  "nbformat": 4,
  "nbformat_minor": 0,
  "metadata": {
    "colab": {
      "name": "Attention_with_WANDB.ipynb",
      "provenance": [],
      "collapsed_sections": []
    },
    "kernelspec": {
      "name": "python3",
      "display_name": "Python 3"
    },
    "language_info": {
      "name": "python"
    },
    "accelerator": "GPU",
    "widgets": {
      "application/vnd.jupyter.widget-state+json": {
        "9b74f3d5744f4a81a44d150fc50c68b1": {
          "model_module": "@jupyter-widgets/controls",
          "model_name": "VBoxModel",
          "state": {
            "_view_name": "VBoxView",
            "_dom_classes": [],
            "_model_name": "VBoxModel",
            "_view_module": "@jupyter-widgets/controls",
            "_model_module_version": "1.5.0",
            "_view_count": null,
            "_view_module_version": "1.5.0",
            "box_style": "",
            "layout": "IPY_MODEL_dd2e69e8c33a47f59807a9738a822106",
            "_model_module": "@jupyter-widgets/controls",
            "children": [
              "IPY_MODEL_29da8ab4dc1c4617ae8c884413cbdf4d",
              "IPY_MODEL_03cac0b2305f477bb10149ceae95f2b1"
            ]
          }
        },
        "dd2e69e8c33a47f59807a9738a822106": {
          "model_module": "@jupyter-widgets/base",
          "model_name": "LayoutModel",
          "state": {
            "_view_name": "LayoutView",
            "grid_template_rows": null,
            "right": null,
            "justify_content": null,
            "_view_module": "@jupyter-widgets/base",
            "overflow": null,
            "_model_module_version": "1.2.0",
            "_view_count": null,
            "flex_flow": null,
            "width": null,
            "min_width": null,
            "border": null,
            "align_items": null,
            "bottom": null,
            "_model_module": "@jupyter-widgets/base",
            "top": null,
            "grid_column": null,
            "overflow_y": null,
            "overflow_x": null,
            "grid_auto_flow": null,
            "grid_area": null,
            "grid_template_columns": null,
            "flex": null,
            "_model_name": "LayoutModel",
            "justify_items": null,
            "grid_row": null,
            "max_height": null,
            "align_content": null,
            "visibility": null,
            "align_self": null,
            "height": null,
            "min_height": null,
            "padding": null,
            "grid_auto_rows": null,
            "grid_gap": null,
            "max_width": null,
            "order": null,
            "_view_module_version": "1.2.0",
            "grid_template_areas": null,
            "object_position": null,
            "object_fit": null,
            "grid_auto_columns": null,
            "margin": null,
            "display": null,
            "left": null
          }
        },
        "29da8ab4dc1c4617ae8c884413cbdf4d": {
          "model_module": "@jupyter-widgets/controls",
          "model_name": "LabelModel",
          "state": {
            "_view_name": "LabelView",
            "style": "IPY_MODEL_eff4ab6af1af4ed5a75ad17ce9c59ab3",
            "_dom_classes": [],
            "description": "",
            "_model_name": "LabelModel",
            "placeholder": "​",
            "_view_module": "@jupyter-widgets/controls",
            "_model_module_version": "1.5.0",
            "value": " 1.19MB of 1.19MB uploaded (0.00MB deduped)\r",
            "_view_count": null,
            "_view_module_version": "1.5.0",
            "description_tooltip": null,
            "_model_module": "@jupyter-widgets/controls",
            "layout": "IPY_MODEL_60e5a6c21c814b3daadb7ca15c1f3203"
          }
        },
        "03cac0b2305f477bb10149ceae95f2b1": {
          "model_module": "@jupyter-widgets/controls",
          "model_name": "FloatProgressModel",
          "state": {
            "_view_name": "ProgressView",
            "style": "IPY_MODEL_638f7358d5fe4baa931911a03a7e0192",
            "_dom_classes": [],
            "description": "",
            "_model_name": "FloatProgressModel",
            "bar_style": "",
            "max": 1,
            "_view_module": "@jupyter-widgets/controls",
            "_model_module_version": "1.5.0",
            "value": 1,
            "_view_count": null,
            "_view_module_version": "1.5.0",
            "orientation": "horizontal",
            "min": 0,
            "description_tooltip": null,
            "_model_module": "@jupyter-widgets/controls",
            "layout": "IPY_MODEL_dd6ba058fa874e2a81b9e2dfff33ba97"
          }
        },
        "eff4ab6af1af4ed5a75ad17ce9c59ab3": {
          "model_module": "@jupyter-widgets/controls",
          "model_name": "DescriptionStyleModel",
          "state": {
            "_view_name": "StyleView",
            "_model_name": "DescriptionStyleModel",
            "description_width": "",
            "_view_module": "@jupyter-widgets/base",
            "_model_module_version": "1.5.0",
            "_view_count": null,
            "_view_module_version": "1.2.0",
            "_model_module": "@jupyter-widgets/controls"
          }
        },
        "60e5a6c21c814b3daadb7ca15c1f3203": {
          "model_module": "@jupyter-widgets/base",
          "model_name": "LayoutModel",
          "state": {
            "_view_name": "LayoutView",
            "grid_template_rows": null,
            "right": null,
            "justify_content": null,
            "_view_module": "@jupyter-widgets/base",
            "overflow": null,
            "_model_module_version": "1.2.0",
            "_view_count": null,
            "flex_flow": null,
            "width": null,
            "min_width": null,
            "border": null,
            "align_items": null,
            "bottom": null,
            "_model_module": "@jupyter-widgets/base",
            "top": null,
            "grid_column": null,
            "overflow_y": null,
            "overflow_x": null,
            "grid_auto_flow": null,
            "grid_area": null,
            "grid_template_columns": null,
            "flex": null,
            "_model_name": "LayoutModel",
            "justify_items": null,
            "grid_row": null,
            "max_height": null,
            "align_content": null,
            "visibility": null,
            "align_self": null,
            "height": null,
            "min_height": null,
            "padding": null,
            "grid_auto_rows": null,
            "grid_gap": null,
            "max_width": null,
            "order": null,
            "_view_module_version": "1.2.0",
            "grid_template_areas": null,
            "object_position": null,
            "object_fit": null,
            "grid_auto_columns": null,
            "margin": null,
            "display": null,
            "left": null
          }
        },
        "638f7358d5fe4baa931911a03a7e0192": {
          "model_module": "@jupyter-widgets/controls",
          "model_name": "ProgressStyleModel",
          "state": {
            "_view_name": "StyleView",
            "_model_name": "ProgressStyleModel",
            "description_width": "",
            "_view_module": "@jupyter-widgets/base",
            "_model_module_version": "1.5.0",
            "_view_count": null,
            "_view_module_version": "1.2.0",
            "bar_color": null,
            "_model_module": "@jupyter-widgets/controls"
          }
        },
        "dd6ba058fa874e2a81b9e2dfff33ba97": {
          "model_module": "@jupyter-widgets/base",
          "model_name": "LayoutModel",
          "state": {
            "_view_name": "LayoutView",
            "grid_template_rows": null,
            "right": null,
            "justify_content": null,
            "_view_module": "@jupyter-widgets/base",
            "overflow": null,
            "_model_module_version": "1.2.0",
            "_view_count": null,
            "flex_flow": null,
            "width": null,
            "min_width": null,
            "border": null,
            "align_items": null,
            "bottom": null,
            "_model_module": "@jupyter-widgets/base",
            "top": null,
            "grid_column": null,
            "overflow_y": null,
            "overflow_x": null,
            "grid_auto_flow": null,
            "grid_area": null,
            "grid_template_columns": null,
            "flex": null,
            "_model_name": "LayoutModel",
            "justify_items": null,
            "grid_row": null,
            "max_height": null,
            "align_content": null,
            "visibility": null,
            "align_self": null,
            "height": null,
            "min_height": null,
            "padding": null,
            "grid_auto_rows": null,
            "grid_gap": null,
            "max_width": null,
            "order": null,
            "_view_module_version": "1.2.0",
            "grid_template_areas": null,
            "object_position": null,
            "object_fit": null,
            "grid_auto_columns": null,
            "margin": null,
            "display": null,
            "left": null
          }
        },
        "f00aae44f6e7442e82a3048d56a22f34": {
          "model_module": "@jupyter-widgets/controls",
          "model_name": "VBoxModel",
          "state": {
            "_view_name": "VBoxView",
            "_dom_classes": [],
            "_model_name": "VBoxModel",
            "_view_module": "@jupyter-widgets/controls",
            "_model_module_version": "1.5.0",
            "_view_count": null,
            "_view_module_version": "1.5.0",
            "box_style": "",
            "layout": "IPY_MODEL_c57f66bdbdf149e7a959795949f6c1bf",
            "_model_module": "@jupyter-widgets/controls",
            "children": [
              "IPY_MODEL_c171a52b434746e7828e56a2d358432c",
              "IPY_MODEL_cbcb38753641408e865ffe0f23616dad"
            ]
          }
        },
        "c57f66bdbdf149e7a959795949f6c1bf": {
          "model_module": "@jupyter-widgets/base",
          "model_name": "LayoutModel",
          "state": {
            "_view_name": "LayoutView",
            "grid_template_rows": null,
            "right": null,
            "justify_content": null,
            "_view_module": "@jupyter-widgets/base",
            "overflow": null,
            "_model_module_version": "1.2.0",
            "_view_count": null,
            "flex_flow": null,
            "width": null,
            "min_width": null,
            "border": null,
            "align_items": null,
            "bottom": null,
            "_model_module": "@jupyter-widgets/base",
            "top": null,
            "grid_column": null,
            "overflow_y": null,
            "overflow_x": null,
            "grid_auto_flow": null,
            "grid_area": null,
            "grid_template_columns": null,
            "flex": null,
            "_model_name": "LayoutModel",
            "justify_items": null,
            "grid_row": null,
            "max_height": null,
            "align_content": null,
            "visibility": null,
            "align_self": null,
            "height": null,
            "min_height": null,
            "padding": null,
            "grid_auto_rows": null,
            "grid_gap": null,
            "max_width": null,
            "order": null,
            "_view_module_version": "1.2.0",
            "grid_template_areas": null,
            "object_position": null,
            "object_fit": null,
            "grid_auto_columns": null,
            "margin": null,
            "display": null,
            "left": null
          }
        },
        "c171a52b434746e7828e56a2d358432c": {
          "model_module": "@jupyter-widgets/controls",
          "model_name": "LabelModel",
          "state": {
            "_view_name": "LabelView",
            "style": "IPY_MODEL_7c85b5313b0d44c389642f865b16fc40",
            "_dom_classes": [],
            "description": "",
            "_model_name": "LabelModel",
            "placeholder": "​",
            "_view_module": "@jupyter-widgets/controls",
            "_model_module_version": "1.5.0",
            "value": " 2.19MB of 2.19MB uploaded (0.00MB deduped)\r",
            "_view_count": null,
            "_view_module_version": "1.5.0",
            "description_tooltip": null,
            "_model_module": "@jupyter-widgets/controls",
            "layout": "IPY_MODEL_2754664a912c491cb2e4aa7f2f2534f4"
          }
        },
        "cbcb38753641408e865ffe0f23616dad": {
          "model_module": "@jupyter-widgets/controls",
          "model_name": "FloatProgressModel",
          "state": {
            "_view_name": "ProgressView",
            "style": "IPY_MODEL_ef4f56c2b1d2418db67790abbeff7efc",
            "_dom_classes": [],
            "description": "",
            "_model_name": "FloatProgressModel",
            "bar_style": "",
            "max": 1,
            "_view_module": "@jupyter-widgets/controls",
            "_model_module_version": "1.5.0",
            "value": 1,
            "_view_count": null,
            "_view_module_version": "1.5.0",
            "orientation": "horizontal",
            "min": 0,
            "description_tooltip": null,
            "_model_module": "@jupyter-widgets/controls",
            "layout": "IPY_MODEL_65bea3a2a73847179bd6e1159f333645"
          }
        },
        "7c85b5313b0d44c389642f865b16fc40": {
          "model_module": "@jupyter-widgets/controls",
          "model_name": "DescriptionStyleModel",
          "state": {
            "_view_name": "StyleView",
            "_model_name": "DescriptionStyleModel",
            "description_width": "",
            "_view_module": "@jupyter-widgets/base",
            "_model_module_version": "1.5.0",
            "_view_count": null,
            "_view_module_version": "1.2.0",
            "_model_module": "@jupyter-widgets/controls"
          }
        },
        "2754664a912c491cb2e4aa7f2f2534f4": {
          "model_module": "@jupyter-widgets/base",
          "model_name": "LayoutModel",
          "state": {
            "_view_name": "LayoutView",
            "grid_template_rows": null,
            "right": null,
            "justify_content": null,
            "_view_module": "@jupyter-widgets/base",
            "overflow": null,
            "_model_module_version": "1.2.0",
            "_view_count": null,
            "flex_flow": null,
            "width": null,
            "min_width": null,
            "border": null,
            "align_items": null,
            "bottom": null,
            "_model_module": "@jupyter-widgets/base",
            "top": null,
            "grid_column": null,
            "overflow_y": null,
            "overflow_x": null,
            "grid_auto_flow": null,
            "grid_area": null,
            "grid_template_columns": null,
            "flex": null,
            "_model_name": "LayoutModel",
            "justify_items": null,
            "grid_row": null,
            "max_height": null,
            "align_content": null,
            "visibility": null,
            "align_self": null,
            "height": null,
            "min_height": null,
            "padding": null,
            "grid_auto_rows": null,
            "grid_gap": null,
            "max_width": null,
            "order": null,
            "_view_module_version": "1.2.0",
            "grid_template_areas": null,
            "object_position": null,
            "object_fit": null,
            "grid_auto_columns": null,
            "margin": null,
            "display": null,
            "left": null
          }
        },
        "ef4f56c2b1d2418db67790abbeff7efc": {
          "model_module": "@jupyter-widgets/controls",
          "model_name": "ProgressStyleModel",
          "state": {
            "_view_name": "StyleView",
            "_model_name": "ProgressStyleModel",
            "description_width": "",
            "_view_module": "@jupyter-widgets/base",
            "_model_module_version": "1.5.0",
            "_view_count": null,
            "_view_module_version": "1.2.0",
            "bar_color": null,
            "_model_module": "@jupyter-widgets/controls"
          }
        },
        "65bea3a2a73847179bd6e1159f333645": {
          "model_module": "@jupyter-widgets/base",
          "model_name": "LayoutModel",
          "state": {
            "_view_name": "LayoutView",
            "grid_template_rows": null,
            "right": null,
            "justify_content": null,
            "_view_module": "@jupyter-widgets/base",
            "overflow": null,
            "_model_module_version": "1.2.0",
            "_view_count": null,
            "flex_flow": null,
            "width": null,
            "min_width": null,
            "border": null,
            "align_items": null,
            "bottom": null,
            "_model_module": "@jupyter-widgets/base",
            "top": null,
            "grid_column": null,
            "overflow_y": null,
            "overflow_x": null,
            "grid_auto_flow": null,
            "grid_area": null,
            "grid_template_columns": null,
            "flex": null,
            "_model_name": "LayoutModel",
            "justify_items": null,
            "grid_row": null,
            "max_height": null,
            "align_content": null,
            "visibility": null,
            "align_self": null,
            "height": null,
            "min_height": null,
            "padding": null,
            "grid_auto_rows": null,
            "grid_gap": null,
            "max_width": null,
            "order": null,
            "_view_module_version": "1.2.0",
            "grid_template_areas": null,
            "object_position": null,
            "object_fit": null,
            "grid_auto_columns": null,
            "margin": null,
            "display": null,
            "left": null
          }
        },
        "aa3036eca60c466b962c0a086f924abe": {
          "model_module": "@jupyter-widgets/controls",
          "model_name": "VBoxModel",
          "state": {
            "_view_name": "VBoxView",
            "_dom_classes": [],
            "_model_name": "VBoxModel",
            "_view_module": "@jupyter-widgets/controls",
            "_model_module_version": "1.5.0",
            "_view_count": null,
            "_view_module_version": "1.5.0",
            "box_style": "",
            "layout": "IPY_MODEL_8ff4255bbd674ef69b199420d31b0ea9",
            "_model_module": "@jupyter-widgets/controls",
            "children": [
              "IPY_MODEL_91ea808dab7d44f9bc9c7996d18dbca2",
              "IPY_MODEL_30e715625fd14c12a1869c0be6c9b74d"
            ]
          }
        },
        "8ff4255bbd674ef69b199420d31b0ea9": {
          "model_module": "@jupyter-widgets/base",
          "model_name": "LayoutModel",
          "state": {
            "_view_name": "LayoutView",
            "grid_template_rows": null,
            "right": null,
            "justify_content": null,
            "_view_module": "@jupyter-widgets/base",
            "overflow": null,
            "_model_module_version": "1.2.0",
            "_view_count": null,
            "flex_flow": null,
            "width": null,
            "min_width": null,
            "border": null,
            "align_items": null,
            "bottom": null,
            "_model_module": "@jupyter-widgets/base",
            "top": null,
            "grid_column": null,
            "overflow_y": null,
            "overflow_x": null,
            "grid_auto_flow": null,
            "grid_area": null,
            "grid_template_columns": null,
            "flex": null,
            "_model_name": "LayoutModel",
            "justify_items": null,
            "grid_row": null,
            "max_height": null,
            "align_content": null,
            "visibility": null,
            "align_self": null,
            "height": null,
            "min_height": null,
            "padding": null,
            "grid_auto_rows": null,
            "grid_gap": null,
            "max_width": null,
            "order": null,
            "_view_module_version": "1.2.0",
            "grid_template_areas": null,
            "object_position": null,
            "object_fit": null,
            "grid_auto_columns": null,
            "margin": null,
            "display": null,
            "left": null
          }
        },
        "91ea808dab7d44f9bc9c7996d18dbca2": {
          "model_module": "@jupyter-widgets/controls",
          "model_name": "LabelModel",
          "state": {
            "_view_name": "LabelView",
            "style": "IPY_MODEL_74d17aabc82949b7a1285d2efde447f6",
            "_dom_classes": [],
            "description": "",
            "_model_name": "LabelModel",
            "placeholder": "​",
            "_view_module": "@jupyter-widgets/controls",
            "_model_module_version": "1.5.0",
            "value": " 1.19MB of 1.19MB uploaded (0.00MB deduped)\r",
            "_view_count": null,
            "_view_module_version": "1.5.0",
            "description_tooltip": null,
            "_model_module": "@jupyter-widgets/controls",
            "layout": "IPY_MODEL_0e655c1fdbad4f3b81c0f37e2da0127a"
          }
        },
        "30e715625fd14c12a1869c0be6c9b74d": {
          "model_module": "@jupyter-widgets/controls",
          "model_name": "FloatProgressModel",
          "state": {
            "_view_name": "ProgressView",
            "style": "IPY_MODEL_8a01ec31fbf349188db8fff6dced6063",
            "_dom_classes": [],
            "description": "",
            "_model_name": "FloatProgressModel",
            "bar_style": "",
            "max": 1,
            "_view_module": "@jupyter-widgets/controls",
            "_model_module_version": "1.5.0",
            "value": 1,
            "_view_count": null,
            "_view_module_version": "1.5.0",
            "orientation": "horizontal",
            "min": 0,
            "description_tooltip": null,
            "_model_module": "@jupyter-widgets/controls",
            "layout": "IPY_MODEL_413fe6722ff244e5abfebcbc369154ef"
          }
        },
        "74d17aabc82949b7a1285d2efde447f6": {
          "model_module": "@jupyter-widgets/controls",
          "model_name": "DescriptionStyleModel",
          "state": {
            "_view_name": "StyleView",
            "_model_name": "DescriptionStyleModel",
            "description_width": "",
            "_view_module": "@jupyter-widgets/base",
            "_model_module_version": "1.5.0",
            "_view_count": null,
            "_view_module_version": "1.2.0",
            "_model_module": "@jupyter-widgets/controls"
          }
        },
        "0e655c1fdbad4f3b81c0f37e2da0127a": {
          "model_module": "@jupyter-widgets/base",
          "model_name": "LayoutModel",
          "state": {
            "_view_name": "LayoutView",
            "grid_template_rows": null,
            "right": null,
            "justify_content": null,
            "_view_module": "@jupyter-widgets/base",
            "overflow": null,
            "_model_module_version": "1.2.0",
            "_view_count": null,
            "flex_flow": null,
            "width": null,
            "min_width": null,
            "border": null,
            "align_items": null,
            "bottom": null,
            "_model_module": "@jupyter-widgets/base",
            "top": null,
            "grid_column": null,
            "overflow_y": null,
            "overflow_x": null,
            "grid_auto_flow": null,
            "grid_area": null,
            "grid_template_columns": null,
            "flex": null,
            "_model_name": "LayoutModel",
            "justify_items": null,
            "grid_row": null,
            "max_height": null,
            "align_content": null,
            "visibility": null,
            "align_self": null,
            "height": null,
            "min_height": null,
            "padding": null,
            "grid_auto_rows": null,
            "grid_gap": null,
            "max_width": null,
            "order": null,
            "_view_module_version": "1.2.0",
            "grid_template_areas": null,
            "object_position": null,
            "object_fit": null,
            "grid_auto_columns": null,
            "margin": null,
            "display": null,
            "left": null
          }
        },
        "8a01ec31fbf349188db8fff6dced6063": {
          "model_module": "@jupyter-widgets/controls",
          "model_name": "ProgressStyleModel",
          "state": {
            "_view_name": "StyleView",
            "_model_name": "ProgressStyleModel",
            "description_width": "",
            "_view_module": "@jupyter-widgets/base",
            "_model_module_version": "1.5.0",
            "_view_count": null,
            "_view_module_version": "1.2.0",
            "bar_color": null,
            "_model_module": "@jupyter-widgets/controls"
          }
        },
        "413fe6722ff244e5abfebcbc369154ef": {
          "model_module": "@jupyter-widgets/base",
          "model_name": "LayoutModel",
          "state": {
            "_view_name": "LayoutView",
            "grid_template_rows": null,
            "right": null,
            "justify_content": null,
            "_view_module": "@jupyter-widgets/base",
            "overflow": null,
            "_model_module_version": "1.2.0",
            "_view_count": null,
            "flex_flow": null,
            "width": null,
            "min_width": null,
            "border": null,
            "align_items": null,
            "bottom": null,
            "_model_module": "@jupyter-widgets/base",
            "top": null,
            "grid_column": null,
            "overflow_y": null,
            "overflow_x": null,
            "grid_auto_flow": null,
            "grid_area": null,
            "grid_template_columns": null,
            "flex": null,
            "_model_name": "LayoutModel",
            "justify_items": null,
            "grid_row": null,
            "max_height": null,
            "align_content": null,
            "visibility": null,
            "align_self": null,
            "height": null,
            "min_height": null,
            "padding": null,
            "grid_auto_rows": null,
            "grid_gap": null,
            "max_width": null,
            "order": null,
            "_view_module_version": "1.2.0",
            "grid_template_areas": null,
            "object_position": null,
            "object_fit": null,
            "grid_auto_columns": null,
            "margin": null,
            "display": null,
            "left": null
          }
        },
        "10f7009a72ef435d826d6f985ef10701": {
          "model_module": "@jupyter-widgets/controls",
          "model_name": "VBoxModel",
          "state": {
            "_view_name": "VBoxView",
            "_dom_classes": [],
            "_model_name": "VBoxModel",
            "_view_module": "@jupyter-widgets/controls",
            "_model_module_version": "1.5.0",
            "_view_count": null,
            "_view_module_version": "1.5.0",
            "box_style": "",
            "layout": "IPY_MODEL_bb6cdda503cc411fa68c0821aca9f212",
            "_model_module": "@jupyter-widgets/controls",
            "children": [
              "IPY_MODEL_d4cfc2ca75f54da1aaf6a99a83f4d11b",
              "IPY_MODEL_219dd8e644b04824892a7087b6d81430"
            ]
          }
        },
        "bb6cdda503cc411fa68c0821aca9f212": {
          "model_module": "@jupyter-widgets/base",
          "model_name": "LayoutModel",
          "state": {
            "_view_name": "LayoutView",
            "grid_template_rows": null,
            "right": null,
            "justify_content": null,
            "_view_module": "@jupyter-widgets/base",
            "overflow": null,
            "_model_module_version": "1.2.0",
            "_view_count": null,
            "flex_flow": null,
            "width": null,
            "min_width": null,
            "border": null,
            "align_items": null,
            "bottom": null,
            "_model_module": "@jupyter-widgets/base",
            "top": null,
            "grid_column": null,
            "overflow_y": null,
            "overflow_x": null,
            "grid_auto_flow": null,
            "grid_area": null,
            "grid_template_columns": null,
            "flex": null,
            "_model_name": "LayoutModel",
            "justify_items": null,
            "grid_row": null,
            "max_height": null,
            "align_content": null,
            "visibility": null,
            "align_self": null,
            "height": null,
            "min_height": null,
            "padding": null,
            "grid_auto_rows": null,
            "grid_gap": null,
            "max_width": null,
            "order": null,
            "_view_module_version": "1.2.0",
            "grid_template_areas": null,
            "object_position": null,
            "object_fit": null,
            "grid_auto_columns": null,
            "margin": null,
            "display": null,
            "left": null
          }
        },
        "d4cfc2ca75f54da1aaf6a99a83f4d11b": {
          "model_module": "@jupyter-widgets/controls",
          "model_name": "LabelModel",
          "state": {
            "_view_name": "LabelView",
            "style": "IPY_MODEL_d4a60a1ca0ec44e8b6dafd8150cbbf0e",
            "_dom_classes": [],
            "description": "",
            "_model_name": "LabelModel",
            "placeholder": "​",
            "_view_module": "@jupyter-widgets/controls",
            "_model_module_version": "1.5.0",
            "value": " 2.67MB of 2.67MB uploaded (0.00MB deduped)\r",
            "_view_count": null,
            "_view_module_version": "1.5.0",
            "description_tooltip": null,
            "_model_module": "@jupyter-widgets/controls",
            "layout": "IPY_MODEL_c6568d0fb7414a0e81ba90bdba93e2ed"
          }
        },
        "219dd8e644b04824892a7087b6d81430": {
          "model_module": "@jupyter-widgets/controls",
          "model_name": "FloatProgressModel",
          "state": {
            "_view_name": "ProgressView",
            "style": "IPY_MODEL_5b2f255407414a49b6118dbacea8f362",
            "_dom_classes": [],
            "description": "",
            "_model_name": "FloatProgressModel",
            "bar_style": "",
            "max": 1,
            "_view_module": "@jupyter-widgets/controls",
            "_model_module_version": "1.5.0",
            "value": 1,
            "_view_count": null,
            "_view_module_version": "1.5.0",
            "orientation": "horizontal",
            "min": 0,
            "description_tooltip": null,
            "_model_module": "@jupyter-widgets/controls",
            "layout": "IPY_MODEL_21d24839a8bf4461a49eb0b894782d2c"
          }
        },
        "d4a60a1ca0ec44e8b6dafd8150cbbf0e": {
          "model_module": "@jupyter-widgets/controls",
          "model_name": "DescriptionStyleModel",
          "state": {
            "_view_name": "StyleView",
            "_model_name": "DescriptionStyleModel",
            "description_width": "",
            "_view_module": "@jupyter-widgets/base",
            "_model_module_version": "1.5.0",
            "_view_count": null,
            "_view_module_version": "1.2.0",
            "_model_module": "@jupyter-widgets/controls"
          }
        },
        "c6568d0fb7414a0e81ba90bdba93e2ed": {
          "model_module": "@jupyter-widgets/base",
          "model_name": "LayoutModel",
          "state": {
            "_view_name": "LayoutView",
            "grid_template_rows": null,
            "right": null,
            "justify_content": null,
            "_view_module": "@jupyter-widgets/base",
            "overflow": null,
            "_model_module_version": "1.2.0",
            "_view_count": null,
            "flex_flow": null,
            "width": null,
            "min_width": null,
            "border": null,
            "align_items": null,
            "bottom": null,
            "_model_module": "@jupyter-widgets/base",
            "top": null,
            "grid_column": null,
            "overflow_y": null,
            "overflow_x": null,
            "grid_auto_flow": null,
            "grid_area": null,
            "grid_template_columns": null,
            "flex": null,
            "_model_name": "LayoutModel",
            "justify_items": null,
            "grid_row": null,
            "max_height": null,
            "align_content": null,
            "visibility": null,
            "align_self": null,
            "height": null,
            "min_height": null,
            "padding": null,
            "grid_auto_rows": null,
            "grid_gap": null,
            "max_width": null,
            "order": null,
            "_view_module_version": "1.2.0",
            "grid_template_areas": null,
            "object_position": null,
            "object_fit": null,
            "grid_auto_columns": null,
            "margin": null,
            "display": null,
            "left": null
          }
        },
        "5b2f255407414a49b6118dbacea8f362": {
          "model_module": "@jupyter-widgets/controls",
          "model_name": "ProgressStyleModel",
          "state": {
            "_view_name": "StyleView",
            "_model_name": "ProgressStyleModel",
            "description_width": "",
            "_view_module": "@jupyter-widgets/base",
            "_model_module_version": "1.5.0",
            "_view_count": null,
            "_view_module_version": "1.2.0",
            "bar_color": null,
            "_model_module": "@jupyter-widgets/controls"
          }
        },
        "21d24839a8bf4461a49eb0b894782d2c": {
          "model_module": "@jupyter-widgets/base",
          "model_name": "LayoutModel",
          "state": {
            "_view_name": "LayoutView",
            "grid_template_rows": null,
            "right": null,
            "justify_content": null,
            "_view_module": "@jupyter-widgets/base",
            "overflow": null,
            "_model_module_version": "1.2.0",
            "_view_count": null,
            "flex_flow": null,
            "width": null,
            "min_width": null,
            "border": null,
            "align_items": null,
            "bottom": null,
            "_model_module": "@jupyter-widgets/base",
            "top": null,
            "grid_column": null,
            "overflow_y": null,
            "overflow_x": null,
            "grid_auto_flow": null,
            "grid_area": null,
            "grid_template_columns": null,
            "flex": null,
            "_model_name": "LayoutModel",
            "justify_items": null,
            "grid_row": null,
            "max_height": null,
            "align_content": null,
            "visibility": null,
            "align_self": null,
            "height": null,
            "min_height": null,
            "padding": null,
            "grid_auto_rows": null,
            "grid_gap": null,
            "max_width": null,
            "order": null,
            "_view_module_version": "1.2.0",
            "grid_template_areas": null,
            "object_position": null,
            "object_fit": null,
            "grid_auto_columns": null,
            "margin": null,
            "display": null,
            "left": null
          }
        }
      }
    }
  },
  "cells": [
    {
      "cell_type": "markdown",
      "metadata": {
        "id": "k5-ZQiR2vCOg"
      },
      "source": [
        "### Download the dataset"
      ]
    },
    {
      "cell_type": "code",
      "metadata": {
        "id": "KR1lofiovHQ3"
      },
      "source": [
        "import os\n",
        "import shutil\n",
        "try:\n",
        "    shutil.rmtree(\"/content/hi\")\n",
        "except:\n",
        "    pass\n",
        "\n",
        "try:\n",
        "    os.remove(\"/content/hi.zip\")\n",
        "except:\n",
        "    pass\n",
        "\n",
        "try:\n",
        "    shutil.rmtree(\"/content/wandb\")\n",
        "except:\n",
        "    pass"
      ],
      "execution_count": null,
      "outputs": []
    },
    {
      "cell_type": "code",
      "metadata": {
        "id": "jefgYyjetqZP"
      },
      "source": [
        "%%capture\n",
        "# !gdown https://drive.google.com/uc?id=1oG_Alz4wmqIMJxNPTZNuvYo1beMwTFHn\n",
        "!gdown https://drive.google.com/uc?id=1TkaNm9ucnEn3S5Pz3D5SRFiroFgx4fjs\n",
        "!unzip \"/content/hi.zip\"\n",
        "!pip install wandb"
      ],
      "execution_count": null,
      "outputs": []
    },
    {
      "cell_type": "code",
      "metadata": {
        "colab": {
          "base_uri": "https://localhost:8080/"
        },
        "id": "Tz-nfHW0DKDS",
        "outputId": "c0351efe-ffb3-4085-9d63-03d07f8363cf"
      },
      "source": [
        "!nvidia-smi"
      ],
      "execution_count": null,
      "outputs": [
        {
          "output_type": "stream",
          "text": [
            "Tue May 11 03:00:28 2021       \n",
            "+-----------------------------------------------------------------------------+\n",
            "| NVIDIA-SMI 465.19.01    Driver Version: 460.32.03    CUDA Version: 11.2     |\n",
            "|-------------------------------+----------------------+----------------------+\n",
            "| GPU  Name        Persistence-M| Bus-Id        Disp.A | Volatile Uncorr. ECC |\n",
            "| Fan  Temp  Perf  Pwr:Usage/Cap|         Memory-Usage | GPU-Util  Compute M. |\n",
            "|                               |                      |               MIG M. |\n",
            "|===============================+======================+======================|\n",
            "|   0  Tesla K80           Off  | 00000000:00:04.0 Off |                    0 |\n",
            "| N/A   35C    P8    27W / 149W |      0MiB / 11441MiB |      0%      Default |\n",
            "|                               |                      |                  N/A |\n",
            "+-------------------------------+----------------------+----------------------+\n",
            "                                                                               \n",
            "+-----------------------------------------------------------------------------+\n",
            "| Processes:                                                                  |\n",
            "|  GPU   GI   CI        PID   Type   Process name                  GPU Memory |\n",
            "|        ID   ID                                                   Usage      |\n",
            "|=============================================================================|\n",
            "|  No running processes found                                                 |\n",
            "+-----------------------------------------------------------------------------+\n"
          ],
          "name": "stdout"
        }
      ]
    },
    {
      "cell_type": "markdown",
      "metadata": {
        "id": "0ndInECm_vCQ"
      },
      "source": [
        "### Import libraries"
      ]
    },
    {
      "cell_type": "code",
      "metadata": {
        "id": "Do_jSiMNz-wS"
      },
      "source": [
        "import numpy as np\n",
        "import tensorflow as tf\n",
        "from tensorflow import keras\n",
        "import matplotlib.pyplot as plt\n",
        "import pandas as pd\n",
        "import wandb\n",
        "from wandb.keras import WandbCallback\n",
        "import seaborn as sns\n",
        "from matplotlib.font_manager import FontProperties\n",
        "%matplotlib inline"
      ],
      "execution_count": null,
      "outputs": []
    },
    {
      "cell_type": "markdown",
      "metadata": {
        "id": "a58pzJUVGGy7"
      },
      "source": [
        "### Load the data"
      ]
    },
    {
      "cell_type": "code",
      "metadata": {
        "colab": {
          "base_uri": "https://localhost:8080/"
        },
        "id": "B6Nfgwq-FXWp",
        "outputId": "09b97fbb-0987-4484-c88f-e90e17ba98fe"
      },
      "source": [
        "# Load the training lexicons\n",
        "with open(\"hi/lexicons/hi.translit.sampled.train.tsv\") as f:\n",
        "    training_lines = f.readlines()\n",
        "training_pairs = [line.strip(\"\\n\").split(\"\\t\") for line in training_lines]\n",
        "training_map = dict([(example[1], example[0]) for example in training_pairs])\n",
        "\n",
        "# Load the validation lexicons\n",
        "with open(\"hi/lexicons/hi.translit.sampled.dev.tsv\") as f:\n",
        "    validation_lines = f.readlines()\n",
        "validation_pairs = [line.strip(\"\\n\").split(\"\\t\") for line in validation_lines]\n",
        "validation_map = dict([(example[1], example[0]) for example in validation_pairs])\n",
        "\n",
        "# Load the test lexicons\n",
        "with open(\"hi/lexicons/hi.translit.sampled.test.tsv\") as f:\n",
        "    test_lines = f.readlines()\n",
        "test_pairs = [line.strip(\"\\n\").split(\"\\t\") for line in test_lines]\n",
        "test_map = dict([(example[1], example[0]) for example in test_pairs])\n",
        "\n",
        "# Number of training examples\n",
        "M_train = len(training_map.keys())\n",
        "\n",
        "# Number of validation examples\n",
        "M_val = len(validation_map.keys())\n",
        "\n",
        "# Number of test examples\n",
        "M_test = len(test_map.keys())\n",
        "\n",
        "print(f\"Number of training examples = {M_train}\")\n",
        "print(f\"Number of validation examples = {M_val}\")\n",
        "print(f\"Number of test examples = {M_test}\")\n",
        "print()"
      ],
      "execution_count": null,
      "outputs": [
        {
          "output_type": "stream",
          "text": [
            "Number of training examples = 41345\n",
            "Number of validation examples = 4321\n",
            "Number of test examples = 4442\n",
            "\n"
          ],
          "name": "stdout"
        }
      ]
    },
    {
      "cell_type": "markdown",
      "metadata": {
        "id": "KXRxQh-xwfbT"
      },
      "source": [
        "### Prepare the data"
      ]
    },
    {
      "cell_type": "markdown",
      "metadata": {
        "id": "WuU71yP_QJka"
      },
      "source": [
        "We have used \"tab\" for the START sequence character and \"newline\" as the END sequence character."
      ]
    },
    {
      "cell_type": "code",
      "metadata": {
        "id": "Hm4PvtAjQDcc"
      },
      "source": [
        "def extract_data_info(data_dict):\n",
        "    \"\"\"\n",
        "    Returns important information about the data.\n",
        "    \"\"\"\n",
        "    input_words = []\n",
        "    target_words = []\n",
        "    input_characters = []\n",
        "    target_characters = []\n",
        "\n",
        "    for key in data_dict:\n",
        "        # Store the word in the source language\n",
        "        input_words.append(key)\n",
        "        # Store the word in the target language\n",
        "        target_words.append(\"\\t\"+data_dict[key]+\"\\n\")\n",
        "        # Add the characters to the respective character lists\n",
        "        input_characters = list(set(input_characters + list(key)))\n",
        "        target_characters = list(set(target_characters + list(data_dict[key])))\n",
        "\n",
        "    # Sort the input characters\n",
        "    input_characters = sorted(list(set(input_characters)))\n",
        "    # Sort the target characters\n",
        "    target_characters = target_characters + [\"\\t\", \"\\n\"]\n",
        "    target_characters = sorted(list(set(target_characters)))\n",
        "\n",
        "    # Number of unique tokens in the source language\n",
        "    num_input_tokens = len(input_characters)\n",
        "    # Number of unique tokens in the target language\n",
        "    num_target_tokens = len(target_characters)\n",
        "\n",
        "    # Max input word length\n",
        "    max_encoder_seq_length = max([len(word) for word in input_words]) \n",
        "    # Max output word length\n",
        "    max_decoder_seq_length = max([len(word) for word in target_words])\n",
        "\n",
        "    print(f\"Number of unique input characters: {num_input_tokens}\")\n",
        "    print(f\"Number of unique output characters: {num_target_tokens}\")\n",
        "    print()\n",
        "    print(f\"Maximum sequence length for the input: {max_encoder_seq_length}\")\n",
        "    print(f\"Maximum sequence length for the output: {max_decoder_seq_length}\")\n",
        "\n",
        "    # Map characters to numerical indices (using +1 to avoid any character being mapped to 0)\n",
        "    input_char_map = dict([(ch, i + 1) for i, ch in enumerate(input_characters)])\n",
        "    target_char_map = dict([(ch, i + 1) for i, ch in enumerate(target_characters)])\n",
        "\n",
        "    return input_characters, target_characters, num_input_tokens, num_target_tokens, max_encoder_seq_length, max_decoder_seq_length, input_char_map, target_char_map\n",
        "\n",
        "def make_one_hot_arrays(data_dict, max_encoder_seq_length, max_decoder_seq_length, num_input_tokens, num_target_tokens):\n",
        "    \"\"\"\n",
        "    This function takes the training/validation/test dictionary as input and produces\n",
        "    the one-hot encoded versions of the respective data.\n",
        "    \"\"\"\n",
        "    input_words = []\n",
        "    target_words = []\n",
        "\n",
        "    for key in data_dict:\n",
        "        # Store the word in the source language\n",
        "        input_words.append(key)\n",
        "        # Store the word in the target language\n",
        "        target_words.append(\"\\t\"+data_dict[key]+\"\\n\")\n",
        "\n",
        "    M = len(data_dict.keys())\n",
        "    encoder_input_array = np.zeros((M, max_encoder_seq_length, num_input_tokens + 1), dtype=\"float\")\n",
        "    decoder_input_array = np.zeros((M, max_decoder_seq_length, num_target_tokens + 1), dtype=\"float\")\n",
        "    decoder_output_array = np.zeros((M, max_decoder_seq_length, num_target_tokens + 1), dtype=\"float\")\n",
        "\n",
        "    for i in range(M):\n",
        "        source_word = input_words[i]\n",
        "        target_word = target_words[i]\n",
        "\n",
        "        # One-hot encoding for the input\n",
        "        for j, ch in enumerate(source_word):\n",
        "            encoder_input_array[i, j, input_char_map[ch]] = 1.0\n",
        "\n",
        "        # One-hot encoding for the output\n",
        "        for j, ch in enumerate(target_word):\n",
        "            decoder_input_array[i, j, target_char_map[ch]]= 1.0\n",
        "            if j >= 1:\n",
        "                # The decoder output is one step ahead of the decoder input\n",
        "                decoder_output_array[i, j-1, target_char_map[ch]] = 1.0\n",
        "\n",
        "    # encoder_input_array = []\n",
        "    # decoder_input_array = []\n",
        "    # decoder_output_array = []\n",
        "\n",
        "    # for i in range(M):\n",
        "    #     source_word = input_words[i]\n",
        "    #     target_word = target_words[i]\n",
        "\n",
        "    #     # Numerical encoding for the source word\n",
        "    #     encoder_input_array.append([input_char_map[ch] for ch in source_word])\n",
        "\n",
        "    #     # One-hot encoding for the output\n",
        "    #     decoder_input_array.append([target_char_map[ch] for ch in target_word])\n",
        "    #     # The decoder output is one step ahead of the decoder input\n",
        "    #     decoder_output_array.append([target_char_map[ch] for ch in target_word][1:])\n",
        "\n",
        "    return input_words, target_words, encoder_input_array, decoder_input_array, decoder_output_array"
      ],
      "execution_count": null,
      "outputs": []
    },
    {
      "cell_type": "code",
      "metadata": {
        "colab": {
          "base_uri": "https://localhost:8080/"
        },
        "id": "JIYKpEm9MILL",
        "outputId": "e2d35f8e-a7bb-4c47-b162-9a179fe70512"
      },
      "source": [
        "input_characters, target_characters, num_input_tokens, num_target_tokens, max_encoder_seq_length, max_decoder_seq_length, input_char_map, target_char_map = extract_data_info(training_map)"
      ],
      "execution_count": null,
      "outputs": [
        {
          "output_type": "stream",
          "text": [
            "Number of unique input characters: 26\n",
            "Number of unique output characters: 64\n",
            "\n",
            "Maximum sequence length for the input: 20\n",
            "Maximum sequence length for the output: 21\n"
          ],
          "name": "stdout"
        }
      ]
    },
    {
      "cell_type": "code",
      "metadata": {
        "id": "HVxmygruOuYr"
      },
      "source": [
        "# Get the one-hot training matrices\n",
        "input_words, target_words, encoder_input_array, decoder_input_array, decoder_output_array = make_one_hot_arrays(training_map, max_encoder_seq_length, max_decoder_seq_length, num_input_tokens, num_target_tokens)\n",
        "\n",
        "# # Pad sequences\n",
        "# padded_encoder_input_array = keras.preprocessing.sequence.pad_sequences(encoder_input_array, padding=\"post\", maxlen=max_encoder_seq_length)\n",
        "# padded_decoder_input_array = keras.preprocessing.sequence.pad_sequences(decoder_input_array, padding=\"post\", maxlen=max_decoder_seq_length)\n",
        "# padded_decoder_output_array = keras.preprocessing.sequence.pad_sequences(decoder_output_array, padding=\"post\", maxlen=max_decoder_seq_length)\n",
        "\n",
        "# # Decoder output should be one hot\n",
        "# padded_decoder_output_array_oh = np.zeros((padded_decoder_output_array.shape[0], max_decoder_seq_length, num_target_tokens), dtype=\"float\")\n",
        "# for i in range(padded_decoder_output_array.shape[0]):\n",
        "#     for j in range(max_decoder_seq_length):\n",
        "#         padded_decoder_output_array_oh[i][j][padded_decoder_output_array[i][j]] = 1.0"
      ],
      "execution_count": null,
      "outputs": []
    },
    {
      "cell_type": "code",
      "metadata": {
        "id": "KIiDB6KXveoh"
      },
      "source": [
        "# Get the one-hot validation matrices\n",
        "val_input_words, val_target_words, val_encoder_input_array, val_decoder_input_array, val_decoder_output_array = make_one_hot_arrays(validation_map, max_encoder_seq_length, max_decoder_seq_length, num_input_tokens, num_target_tokens)\n",
        "\n",
        "# # Pad sequences\n",
        "# padded_val_encoder_input_array = keras.preprocessing.sequence.pad_sequences(val_encoder_input_array, padding=\"post\", maxlen=max_encoder_seq_length)\n",
        "# padded_val_decoder_input_array = keras.preprocessing.sequence.pad_sequences(val_decoder_input_array, padding=\"post\", maxlen=max_decoder_seq_length)\n",
        "# padded_val_decoder_output_array = keras.preprocessing.sequence.pad_sequences(val_decoder_output_array, padding=\"post\", maxlen=max_decoder_seq_length)\n",
        "\n",
        "# # Decoder output should be one hot\n",
        "# padded_val_decoder_output_array_oh = np.zeros((padded_val_decoder_output_array.shape[0], max_decoder_seq_length, num_target_tokens), dtype=\"float\")\n",
        "# for i in range(padded_val_decoder_output_array.shape[0]):\n",
        "#     for j in range(max_decoder_seq_length):\n",
        "#         padded_val_decoder_output_array_oh[i][j][padded_val_decoder_output_array[i][j]] = 1.0"
      ],
      "execution_count": null,
      "outputs": []
    },
    {
      "cell_type": "code",
      "metadata": {
        "id": "YPDddQWpi527"
      },
      "source": [
        "# Get the one-hot validation matrices\n",
        "test_input_words, test_target_words, test_encoder_input_array, test_decoder_input_array, test_decoder_output_array = make_one_hot_arrays(test_map, max_encoder_seq_length, max_decoder_seq_length, num_input_tokens, num_target_tokens)\n",
        "\n",
        "# # Pad sequences\n",
        "# padded_test_encoder_input_array = keras.preprocessing.sequence.pad_sequences(test_encoder_input_array, padding=\"post\", maxlen=max_encoder_seq_length)\n",
        "# padded_test_decoder_input_array = keras.preprocessing.sequence.pad_sequences(test_decoder_input_array, padding=\"post\", maxlen=max_decoder_seq_length)\n",
        "# padded_test_decoder_output_array = keras.preprocessing.sequence.pad_sequences(test_decoder_output_array, padding=\"post\", maxlen=max_decoder_seq_length)\n",
        "\n",
        "# # Decoder output should be one hot\n",
        "# padded_test_decoder_output_array_oh = np.zeros((padded_test_decoder_output_array.shape[0], max_decoder_seq_length, num_target_tokens), dtype=\"float\")\n",
        "# for i in range(padded_test_decoder_output_array.shape[0]):\n",
        "#     for j in range(max_decoder_seq_length):\n",
        "#         padded_test_decoder_output_array_oh[i][j][padded_test_decoder_output_array[i][j]] = 1.0"
      ],
      "execution_count": null,
      "outputs": []
    },
    {
      "cell_type": "code",
      "metadata": {
        "id": "HMz64fi4QG9-"
      },
      "source": [
        "# Using label encoding for the encoder inputs (and then find an embedding using the Embedding layer)\n",
        "encoder_input_array = np.argmax(encoder_input_array, axis=2)\n",
        "val_encoder_input_array = np.argmax(val_encoder_input_array, axis=2)\n",
        "test_encoder_input_array = np.argmax(test_encoder_input_array, axis=2)\n",
        "\n",
        "decoder_input_array = np.argmax(decoder_input_array, axis=2)\n",
        "val_decoder_input_array = np.argmax(val_decoder_input_array, axis=2)\n",
        "test_decoder_input_array = np.argmax(test_decoder_input_array, axis=2)\n",
        "\n",
        "# Dictionaries mapping from indices to characters\n",
        "reverse_input_char_map = dict((i, char) for char, i in input_char_map.items())\n",
        "reverse_target_char_map = dict((i, char) for char, i in target_char_map.items())\n",
        "reverse_target_char_map[0] = \"\\n\""
      ],
      "execution_count": null,
      "outputs": []
    },
    {
      "cell_type": "code",
      "metadata": {
        "colab": {
          "base_uri": "https://localhost:8080/"
        },
        "id": "wMRjIShxma5z",
        "outputId": "7f15d8b6-768b-4fcb-a3f1-087ee07d6ced"
      },
      "source": [
        "encoder_input_array[1]"
      ],
      "execution_count": null,
      "outputs": [
        {
          "output_type": "execute_result",
          "data": {
            "text/plain": [
              "array([ 1, 14, 11,  7,  1, 14,  9, 20,  0,  0,  0,  0,  0,  0,  0,  0,  0,\n",
              "        0,  0,  0])"
            ]
          },
          "metadata": {
            "tags": []
          },
          "execution_count": 12
        }
      ]
    },
    {
      "cell_type": "code",
      "metadata": {
        "colab": {
          "base_uri": "https://localhost:8080/"
        },
        "id": "eurBPYNwmHQT",
        "outputId": "797580fb-9aa1-41b0-9da7-b54363d395d7"
      },
      "source": [
        "decoder_input_array[1]"
      ],
      "execution_count": null,
      "outputs": [
        {
          "output_type": "execute_result",
          "data": {
            "text/plain": [
              "array([ 1,  6,  4, 18, 20, 31, 52, 32,  2,  0,  0,  0,  0,  0,  0,  0,  0,\n",
              "        0,  0,  0,  0])"
            ]
          },
          "metadata": {
            "tags": []
          },
          "execution_count": 13
        }
      ]
    },
    {
      "cell_type": "markdown",
      "metadata": {
        "id": "hIE7VXznwkRI"
      },
      "source": [
        "### Define the model"
      ]
    },
    {
      "cell_type": "markdown",
      "metadata": {
        "id": "ByPNy4Dej72M"
      },
      "source": [
        "Define Attention Layer"
      ]
    },
    {
      "cell_type": "code",
      "metadata": {
        "id": "9KixXhfV1xdP"
      },
      "source": [
        "import tensorflow as tf\n",
        "import os\n",
        "from tensorflow.python.keras.layers import Layer\n",
        "from tensorflow.python.keras import backend as K\n",
        "\n",
        "\n",
        "class AttentionLayer(Layer):\n",
        "    \"\"\"\n",
        "    This class implements Bahdanau attention (https://arxiv.org/pdf/1409.0473.pdf).\n",
        "    There are three sets of weights introduced W_a, U_a, and V_a\n",
        "     \"\"\"\n",
        "\n",
        "    def __init__(self, **kwargs):\n",
        "        super(AttentionLayer, self).__init__(**kwargs)\n",
        "\n",
        "    def build(self, input_shape):\n",
        "        assert isinstance(input_shape, list)\n",
        "        # Create a trainable weight variable for this layer.\n",
        "\n",
        "        self.W_a = self.add_weight(name='W_a',\n",
        "                                   shape=tf.TensorShape((input_shape[0][2], input_shape[0][2])),\n",
        "                                   initializer='uniform',\n",
        "                                   trainable=True)\n",
        "        self.U_a = self.add_weight(name='U_a',\n",
        "                                   shape=tf.TensorShape((input_shape[1][2], input_shape[0][2])),\n",
        "                                   initializer='uniform',\n",
        "                                   trainable=True)\n",
        "        self.V_a = self.add_weight(name='V_a',\n",
        "                                   shape=tf.TensorShape((input_shape[0][2], 1)),\n",
        "                                   initializer='uniform',\n",
        "                                   trainable=True)\n",
        "\n",
        "        super(AttentionLayer, self).build(input_shape)  # Be sure to call this at the end\n",
        "\n",
        "    def call(self, inputs, verbose=False):\n",
        "        \"\"\"\n",
        "        inputs: [encoder_output_sequence, decoder_output_sequence]\n",
        "        \"\"\"\n",
        "        assert type(inputs) == list\n",
        "        encoder_out_seq, decoder_out_seq = inputs\n",
        "        if verbose:\n",
        "            print('encoder_out_seq>', encoder_out_seq.shape)\n",
        "            print('decoder_out_seq>', decoder_out_seq.shape)\n",
        "\n",
        "        def energy_step(inputs, states):\n",
        "            \"\"\" Step function for computing energy for a single decoder state\n",
        "            inputs: (batchsize * 1 * de_in_dim)\n",
        "            states: (batchsize * 1 * de_latent_dim)\n",
        "            \"\"\"\n",
        "\n",
        "            assert_msg = \"States must be an iterable. Got {} of type {}\".format(states, type(states))\n",
        "            assert isinstance(states, list) or isinstance(states, tuple), assert_msg\n",
        "\n",
        "            \"\"\" Some parameters required for shaping tensors\"\"\"\n",
        "            en_seq_len, en_hidden = encoder_out_seq.shape[1], encoder_out_seq.shape[2]\n",
        "            de_hidden = inputs.shape[-1]\n",
        "\n",
        "            \"\"\" Computing S.Wa where S=[s0, s1, ..., si]\"\"\"\n",
        "            # <= batch size * en_seq_len * latent_dim\n",
        "            W_a_dot_s = K.dot(encoder_out_seq, self.W_a)\n",
        "\n",
        "            \"\"\" Computing hj.Ua \"\"\"\n",
        "            U_a_dot_h = K.expand_dims(K.dot(inputs, self.U_a), 1)  # <= batch_size, 1, latent_dim\n",
        "            if verbose:\n",
        "                print('Ua.h>', U_a_dot_h.shape)\n",
        "\n",
        "            \"\"\" tanh(S.Wa + hj.Ua) \"\"\"\n",
        "            # <= batch_size*en_seq_len, latent_dim\n",
        "            Ws_plus_Uh = K.tanh(W_a_dot_s + U_a_dot_h)\n",
        "            if verbose:\n",
        "                print('Ws+Uh>', Ws_plus_Uh.shape)\n",
        "\n",
        "            \"\"\" softmax(va.tanh(S.Wa + hj.Ua)) \"\"\"\n",
        "            # <= batch_size, en_seq_len\n",
        "            e_i = K.squeeze(K.dot(Ws_plus_Uh, self.V_a), axis=-1)\n",
        "            # <= batch_size, en_seq_len\n",
        "            e_i = K.softmax(e_i)\n",
        "\n",
        "            if verbose:\n",
        "                print('ei>', e_i.shape)\n",
        "\n",
        "            return e_i, [e_i]\n",
        "\n",
        "        def context_step(inputs, states):\n",
        "            \"\"\" Step function for computing ci using ei \"\"\"\n",
        "\n",
        "            assert_msg = \"States must be an iterable. Got {} of type {}\".format(states, type(states))\n",
        "            assert isinstance(states, list) or isinstance(states, tuple), assert_msg\n",
        "\n",
        "            # <= batch_size, hidden_size\n",
        "            c_i = K.sum(encoder_out_seq * K.expand_dims(inputs, -1), axis=1)\n",
        "            if verbose:\n",
        "                print('ci>', c_i.shape)\n",
        "            return c_i, [c_i]\n",
        "\n",
        "        fake_state_c = K.sum(encoder_out_seq, axis=1)\n",
        "        fake_state_e = K.sum(encoder_out_seq, axis=2)  # <= (batch_size, enc_seq_len, latent_dim\n",
        "\n",
        "        \"\"\" Computing energy outputs \"\"\"\n",
        "        # e_outputs => (batch_size, de_seq_len, en_seq_len)\n",
        "        last_out, e_outputs, _ = K.rnn(\n",
        "            energy_step, decoder_out_seq, [fake_state_e],\n",
        "        )\n",
        "\n",
        "        \"\"\" Computing context vectors \"\"\"\n",
        "        last_out, c_outputs, _ = K.rnn(\n",
        "            context_step, e_outputs, [fake_state_c],\n",
        "        )\n",
        "\n",
        "        return c_outputs, e_outputs\n",
        "\n",
        "    def compute_output_shape(self, input_shape):\n",
        "        \"\"\" Outputs produced by the layer \"\"\"\n",
        "        return [\n",
        "            tf.TensorShape((input_shape[1][0], input_shape[1][1], input_shape[1][2])),\n",
        "            tf.TensorShape((input_shape[1][0], input_shape[1][1], input_shape[0][1]))\n",
        "        ]"
      ],
      "execution_count": null,
      "outputs": []
    },
    {
      "cell_type": "markdown",
      "metadata": {
        "id": "k-IU1mELkCmi"
      },
      "source": [
        "Define Seq2Seq model with attention for training "
      ]
    },
    {
      "cell_type": "code",
      "metadata": {
        "id": "G1qE_0-FwGiG"
      },
      "source": [
        "def define_model(num_cells, cell_type, input_embedding_size, dropout_fraction, beam_size):\n",
        "    \"\"\"\n",
        "    num_cells: Number of cells in the encoder and decoder layers\n",
        "    cell_type: choice of cell type: Simple RNN, LSTM, GRU\n",
        "    num_encoder_layers: Number of layers in the encoder\n",
        "    num_decoder_layers: Number of layers in the decoder\n",
        "    input_embedding_size: Dimenions of the vector to represent each character\n",
        "    dropout_fraction: fraction of neurons to drop out\n",
        "    \"\"\"\n",
        "    ## ENCODER\n",
        "    # encoder_input = keras.Input(shape=(None, num_input_tokens), name=\"EncoderInput\")\n",
        "    encoder_input = keras.Input(shape=(None, ), name=\"EncoderInput\")\n",
        "    encoder_embedding = keras.layers.Embedding(num_input_tokens + 1, input_embedding_size, name=\"EncoderInputEmbedding\", mask_zero=True)(encoder_input)\n",
        "\n",
        "    #encoder lstm 1\n",
        "    if cell_type == 'LSTM':\n",
        "        encoder_lstm = tf.keras.layers.LSTM(num_cells,return_sequences=True,return_state=True,name=\"EncoderLayer\" ,dropout=dropout_fraction,recurrent_dropout=dropout_fraction)\n",
        "        encoder_output, state_h, state_c = encoder_lstm(encoder_embedding)\n",
        "    if cell_type == 'GRU':\n",
        "        encoder_gru = tf.keras.layers.GRU(num_cells,return_sequences=True,return_state=True,name=\"EncoderLayer\" ,dropout=dropout_fraction,recurrent_dropout=dropout_fraction)\n",
        "        encoder_output, gru_state = encoder_gru(encoder_embedding)\n",
        "    if cell_type == 'RNN':\n",
        "        encoder_rnn = tf.keras.layers.SimpleRNN(num_cells,return_sequences=True,return_state=True,name=\"EncoderLayer\" ,dropout=dropout_fraction,recurrent_dropout=dropout_fraction)\n",
        "        encoder_output, rnn_state = encoder_rnn(encoder_embedding)   \n",
        "\n",
        "    ## DECODER\n",
        "    decoder_input = keras.Input(shape=(None, ), name=\"DecoderInput\")\n",
        "    dec_emb = keras.layers.Embedding(num_target_tokens + 1, 64, name=\"DecoderInputEmbedding\", mask_zero=True)(decoder_input)\n",
        "\n",
        "    if cell_type == 'LSTM':\n",
        "        decoder_lstm = tf.keras.layers.LSTM(num_cells, return_sequences=True, return_state=True, name=\"DecoderLayer\" ,dropout=dropout_fraction,recurrent_dropout=dropout_fraction )\n",
        "        decoder_output,decoder_fwd_state, decoder_back_state = decoder_lstm(dec_emb,initial_state=[state_h, state_c])\n",
        "    if cell_type == 'GRU':\n",
        "        decoder_gru = tf.keras.layers.GRU(num_cells,return_sequences=True,return_state=True,name=\"DecoderLayer\" ,dropout=dropout_fraction,recurrent_dropout=dropout_fraction)\n",
        "        decoder_output, decoder_state_gru = decoder_gru(dec_emb,initial_state = gru_state)\n",
        "    if cell_type =='RNN':\n",
        "        decoder_rnn = tf.keras.layers.SimpleRNN(num_cells,return_sequences=True,return_state=True,name=\"DecoderLayer\" ,dropout=dropout_fraction,recurrent_dropout=dropout_fraction)\n",
        "        decoder_output, decoder_state_rnn = decoder_rnn(dec_emb,initial_state = rnn_state)\n",
        "\n",
        "    # Attention layer\n",
        "    attn_out, attn_states = AttentionLayer(name='attention_layer')([encoder_output, decoder_output])\n",
        "\n",
        "\n",
        "    # Concat attention input and decoder LSTM output\n",
        "    decoder_concat_input = tf.keras.layers.Concatenate(axis=-1, name='concat_layer')([decoder_output, attn_out])\n",
        "\n",
        "    #dense layer\n",
        "    decoder_dense =  tf.keras.layers.TimeDistributed(keras.layers.Dense(num_target_tokens + 1, activation='softmax'))\n",
        "    #decoder_dense = keras.layers.Dense(num_target_tokens + 1, activation=\"softmax\", name=\"DecoderDenseLayer\") # Softmax picks one character\n",
        "    decoder_outputs = decoder_dense(decoder_concat_input)\n",
        "\n",
        "    # Define the model \n",
        "    model = keras.Model([encoder_input, decoder_input], decoder_outputs)\n",
        "\n",
        "    return model"
      ],
      "execution_count": null,
      "outputs": []
    },
    {
      "cell_type": "markdown",
      "metadata": {
        "id": "RsW6MgOnkIJY"
      },
      "source": [
        "Inference model for 1 LSTM encoder - 1 LSTM decoder layers"
      ]
    },
    {
      "cell_type": "code",
      "metadata": {
        "id": "_xdZRFsIDMKR"
      },
      "source": [
        "def prepare_inference_model_lstm_1(model, num_cells):\n",
        "    # Input to the encoder, sequence of characters (word) in the source language\n",
        "    encoder_inputs = model.input[0]\n",
        "\n",
        "    # Output of the encoder\n",
        "    encoder_outputs, state_h_enc, state_c_enc = model.layers[4].output\n",
        "    encoder_states = [encoder_outputs,state_h_enc, state_c_enc]\n",
        "\n",
        "    # Create an encoder model \n",
        "    encoder_model = keras.Model(encoder_inputs, encoder_states)\n",
        "\n",
        "\n",
        "    # Input to the decoder\n",
        "\n",
        "    decoder_state_input_h = keras.Input(shape=(num_cells,))\n",
        "    decoder_state_input_c = keras.Input(shape=(num_cells,))\n",
        "    decoder_hidden_state_inputs = keras.Input(shape=(None,num_cells))\n",
        "    decoder_states_inputs = [decoder_state_input_h, decoder_state_input_c]\n",
        "\n",
        "    decoder_inputs = model.layers[1].output\n",
        "    decoder_embedding_layer = model.layers[3]\n",
        "    decoder_embedding = decoder_embedding_layer(decoder_inputs)\n",
        "\n",
        "    decoder_lstm = model.layers[5]\n",
        "\n",
        "    decoder_outputs, state_h_dec, state_c_dec = decoder_lstm(decoder_embedding, initial_state=decoder_states_inputs)\n",
        "    decoder_states = [state_h_dec, state_c_dec]\n",
        "\n",
        "    #attention\n",
        "    attn_layer = model.layers[6]\n",
        "    attn_out_inf, attn_states_inf = attn_layer([decoder_hidden_state_inputs,decoder_outputs])\n",
        "\n",
        "    #concat\n",
        "    concate = model.layers[7]\n",
        "    decoder_inf_concat = concate([decoder_outputs,attn_out_inf])\n",
        "\n",
        "    # Softmax layer\n",
        "    decoder_dense = model.layers[8]\n",
        "    decoder_outputs = decoder_dense(decoder_inf_concat)\n",
        "\n",
        "    # Create the decoder model\n",
        "    decoder_model = keras.Model([decoder_inputs] + [decoder_hidden_state_inputs,decoder_state_input_h,decoder_state_input_c], [decoder_outputs] + decoder_states +[attn_states_inf])\n",
        "\n",
        "\n",
        "    return encoder_model, decoder_model\n",
        "\n",
        "\n",
        "def transliterate_word_lstm_1(input_words, encoder_model, decoder_model):\n",
        "    \"\"\"\n",
        "    Decodes the given input sequence, one character at a time.\n",
        "    \"\"\"\n",
        "    # Get batch_size\n",
        "    batch_size = input_words.shape[0]\n",
        "    # Encode the input string\n",
        "    encoded_hidden_cell_states = encoder_model.predict(input_words)\n",
        "\n",
        "    target_sequence = np.zeros((batch_size, 1, num_target_tokens+1))\n",
        "    # Set the first character to \"tab\" as it is the start of sequence character\n",
        "    target_sequence[:, 0, target_char_map[\"\\t\"]] = 1.0\n",
        "    target_sequence = np.argmax(target_sequence, axis=2)\n",
        "\n",
        "    decoded_words = [\"\"]*batch_size\n",
        "    for i in range(max_decoder_seq_length):\n",
        "        output_tokens, h, c,attn = decoder_model.predict([target_sequence] + encoded_hidden_cell_states)\n",
        "\n",
        "        # Sample the most probable character using softmax outputs\n",
        "        sampled_char_indices = np.argmax(output_tokens[:, -1, :], axis=1)\n",
        "\n",
        "        # Update the target sequence which goes back as input to the decoder.\n",
        "        target_sequence = np.zeros((batch_size, 1, num_target_tokens+1))\n",
        "\n",
        "        for j, ch_index in enumerate(sampled_char_indices):\n",
        "            decoded_words[j] += reverse_target_char_map[ch_index]\n",
        "            target_sequence[j, 0, ch_index] = 1.0\n",
        "\n",
        "        target_sequence = np.argmax(target_sequence, axis=2)\n",
        "\n",
        "        # Update the hidden state and cell state \n",
        "        encoded_hidden_cell_states[1],encoded_hidden_cell_states[2] = [h, c]\n",
        "\n",
        "    # To remove the \\n chars\n",
        "    decoded_words = [word[:word.find(\"\\n\")] for word in decoded_words]\n",
        "    return decoded_words"
      ],
      "execution_count": null,
      "outputs": []
    },
    {
      "cell_type": "markdown",
      "metadata": {
        "id": "7mSyMOSHkRdT"
      },
      "source": [
        "Inference model for 1 RNN/GRU encoder - 1 RNN/GRU decoder layers"
      ]
    },
    {
      "cell_type": "code",
      "metadata": {
        "id": "Hc5zs5PZI1pB"
      },
      "source": [
        "def prepare_inference_model_rnngru_1(model, num_cells):\n",
        "    # Input to the encoder, sequence of characters (word) in the source language\n",
        "    encoder_inputs = model.input[0]\n",
        "\n",
        "    # Output of the encoder\n",
        "    encoder_outputs, state_gru_enc = model.layers[4].output\n",
        "    encoder_states = [encoder_outputs,state_gru_enc]\n",
        "\n",
        "    # Create an encoder model \n",
        "    encoder_model = keras.Model(encoder_inputs, encoder_states)\n",
        "\n",
        "    # Input to the decoder\n",
        "\n",
        "    decoder_state_input = keras.Input(shape=(num_cells,))\n",
        "    decoder_hidden_state_inputs = keras.Input(shape=(None,num_cells))\n",
        "    decoder_states_inputs = [decoder_state_input]\n",
        "\n",
        "    decoder_inputs = model.layers[1].output\n",
        "    decoder_embedding_layer = model.layers[3]\n",
        "    decoder_embedding = decoder_embedding_layer(decoder_inputs)\n",
        "\n",
        "    decoder_gru = model.layers[5]\n",
        "\n",
        "    decoder_outputs, state_gru_dec = decoder_gru(decoder_embedding, initial_state=decoder_states_inputs)\n",
        "    decoder_states = [state_gru_dec]\n",
        "\n",
        "\n",
        "    #attention\n",
        "    attn_layer = model.layers[6]\n",
        "    attn_out_inf, attn_states_inf = attn_layer([decoder_hidden_state_inputs,decoder_outputs])\n",
        "\n",
        "    #concat\n",
        "    concate = model.layers[7]\n",
        "    decoder_inf_concat = concate([decoder_outputs,attn_out_inf])\n",
        "\n",
        "    # Softmax layer\n",
        "    decoder_dense = model.layers[8]\n",
        "    decoder_outputs = decoder_dense(decoder_inf_concat)\n",
        "\n",
        "    # Create the decoder model\n",
        "    decoder_model = keras.Model([decoder_inputs] + [decoder_hidden_state_inputs,decoder_state_input], [decoder_outputs] + decoder_states +[attn_states_inf])\n",
        "\n",
        "    return encoder_model, decoder_model\n",
        "\n",
        "\n",
        "def transliterate_word_rnngru_1(input_words, encoder_model, decoder_model):\n",
        "    \"\"\"\n",
        "    Decodes the given input sequence, one character at a time.\n",
        "    \"\"\"\n",
        "    # Get batch_size\n",
        "    batch_size = input_words.shape[0]\n",
        "    # Encode the input string\n",
        "    encoded_hidden_cell_states = encoder_model.predict(input_words)\n",
        "\n",
        "    target_sequence = np.zeros((batch_size, 1, num_target_tokens+1))\n",
        "    # Set the first character to \"tab\" as it is the start of sequence character\n",
        "    target_sequence[:, 0, target_char_map[\"\\t\"]] = 1.0\n",
        "    target_sequence = np.argmax(target_sequence, axis=2)\n",
        "\n",
        "    decoded_words = [\"\"]*batch_size\n",
        "    for i in range(max_decoder_seq_length):\n",
        "        output_tokens, state, attn = decoder_model.predict([target_sequence] + [encoded_hidden_cell_states])\n",
        "\n",
        "        # Sample the most probable character using softmax outputs\n",
        "        sampled_char_indices = np.argmax(output_tokens[:, -1, :], axis=1)\n",
        "\n",
        "        # Update the target sequence which goes back as input to the decoder.\n",
        "        target_sequence = np.zeros((batch_size, 1, num_target_tokens+1))\n",
        "\n",
        "        for j, ch_index in enumerate(sampled_char_indices):\n",
        "            decoded_words[j] += reverse_target_char_map[ch_index]\n",
        "            target_sequence[j, 0, ch_index] = 1.0\n",
        "\n",
        "        target_sequence = np.argmax(target_sequence, axis=2)\n",
        "\n",
        "        # Update the hidden state and cell state \n",
        "        encoded_hidden_cell_states[1] = [state]\n",
        "\n",
        "    # To remove the \\n chars\n",
        "    decoded_words = [word[:word.find(\"\\n\")] for word in decoded_words]\n",
        "    return decoded_words"
      ],
      "execution_count": null,
      "outputs": []
    },
    {
      "cell_type": "markdown",
      "metadata": {
        "id": "4gAi1DtrEyGk"
      },
      "source": [
        "### Training the model with hyperparameter search (WANDB)"
      ]
    },
    {
      "cell_type": "code",
      "metadata": {
        "id": "4A-4B6MFE64D"
      },
      "source": [
        "def train_with_wandb():\n",
        "    \"\"\"\n",
        "    This function performs hyperparameter search using WANDB\n",
        "    \"\"\"\n",
        "    #, , num_encoder_layers, num_decoder_layers, input_embedding_size, dropout_fraction, \n",
        "\n",
        "    # Default values for hyper-parameters\n",
        "    config_defaults = {\n",
        "        \"num_cells\": 256,\n",
        "        \"cell_type\": \"LSTM\",\n",
        "        \"input_embedding_size\": 16,\n",
        "        \"batch_size\": 64,\n",
        "        \"epochs\": 10\n",
        "    }\n",
        "\n",
        "    # Initialize a new wandb run\n",
        "    wandb.init(config=config_defaults)\n",
        "    \n",
        "    # Config is a variable that holds and saves hyperparameters and inputs\n",
        "    config = wandb.config\n",
        "\n",
        "    # Local variables, values obtained from wandb config\n",
        "    cell_type = config.cell_type\n",
        "    num_cells = config.num_cells\n",
        "    input_embedding_size = config.input_embedding_size\n",
        "    dropout_fraction = 0.4\n",
        "    batch_size = config.batch_size\n",
        "    epochs = config.epochs\n",
        "    \n",
        "    # Display the hyperparameters\n",
        "    run_name = \"cell_{}_ncell_{}_emb_{}_dp_{}_bs_{}_epoc_{}\".format(cell_type, num_cells, input_embedding_size, dropout_fraction, batch_size,epochs)\n",
        "    print(run_name)\n",
        "\n",
        "    # Define the model\n",
        "    model = define_model(num_cells, cell_type, input_embedding_size, dropout_fraction, 1)\n",
        "\n",
        "    # Compile the model\n",
        "    model.compile(optimizer=\"adam\", loss=\"categorical_crossentropy\", metrics=[\"accuracy\"])\n",
        "\n",
        "    # Train the model\n",
        "    history = model.fit(\n",
        "            [encoder_input_array, decoder_input_array],\n",
        "            decoder_output_array,\n",
        "            batch_size = batch_size,\n",
        "            epochs = epochs,\n",
        "            verbose = 2,\n",
        "            validation_data = ([val_encoder_input_array, val_decoder_input_array], val_decoder_output_array),\n",
        "            callbacks=[WandbCallback()]\n",
        "            )\n",
        "    \n",
        "    if cell_type == \"LSTM\":\n",
        "        cell = \"lstm\"\n",
        "    else:\n",
        "        cell = \"rnngru\"\n",
        "\n",
        "    func1_name = \"prepare_inference_model_\" + cell + \"_1\"  \n",
        "    func2_name = \"transliterate_word_\" + cell + \"_1\" \n",
        "\n",
        "    # Get the encoder and decoder model\n",
        "    encoder_model, decoder_model = globals()[func1_name](model, num_cells)\n",
        "\n",
        "    outputs = []\n",
        "    n = val_encoder_input_array.shape[0]\n",
        "    batch_size = 1000\n",
        "    for i in range(0, n, batch_size):\n",
        "        # Inputs\n",
        "        query = val_encoder_input_array[i:i+batch_size]\n",
        "        # Results\n",
        "        decoded_words = globals()[func2_name](query, encoder_model, decoder_model)\n",
        "        outputs = outputs + decoded_words\n",
        "\n",
        "    # To remove the tab and newline characters from the ground truth\n",
        "    ground_truths = [word[1:-1] for word in val_target_words]\n",
        "    # Calculate validation accuracy\n",
        "    validation_inference_accuracy = np.mean(np.array(outputs) == np.array(ground_truths))\n",
        "    print(\"Validation accuracy based on whole string matching = {} %\".format(validation_inference_accuracy*100.0))\n",
        "\n",
        "    wandb.log({\"inference_val_accuracy\": validation_inference_accuracy})\n",
        "\n",
        "    # Plots of accuracy and loss\n",
        "    plt.plot(history.history[\"val_accuracy\"], label=\"Validation accuracy\")\n",
        "    plt.plot(history.history[\"accuracy\"], label = \"Training accuracy\")\n",
        "    plt.title(\"Accuracy vs epoch\", size=14)\n",
        "    plt.legend()\n",
        "    plt.show()\n",
        "\n",
        "    plt.plot(history.history[\"val_loss\"], label=\"Validation loss\")\n",
        "    plt.plot(history.history[\"loss\"], label = \"Training loss\")\n",
        "    plt.title(\"Loss vs epoch\", size=14)\n",
        "    plt.legend()\n",
        "    plt.show()\n",
        "\n",
        "    # Meaningful name for the run\n",
        "    wandb.run.name = run_name\n",
        "    wandb.run.save()\n",
        "    wandb.run.finish()"
      ],
      "execution_count": null,
      "outputs": []
    },
    {
      "cell_type": "code",
      "metadata": {
        "colab": {
          "base_uri": "https://localhost:8080/",
          "height": 1000,
          "referenced_widgets": [
            "9b74f3d5744f4a81a44d150fc50c68b1",
            "dd2e69e8c33a47f59807a9738a822106",
            "29da8ab4dc1c4617ae8c884413cbdf4d",
            "03cac0b2305f477bb10149ceae95f2b1",
            "eff4ab6af1af4ed5a75ad17ce9c59ab3",
            "60e5a6c21c814b3daadb7ca15c1f3203",
            "638f7358d5fe4baa931911a03a7e0192",
            "dd6ba058fa874e2a81b9e2dfff33ba97",
            "5069118b5b824dcfa6687c535d70d27b",
            "f00aae44f6e7442e82a3048d56a22f34",
            "c57f66bdbdf149e7a959795949f6c1bf",
            "c171a52b434746e7828e56a2d358432c",
            "cbcb38753641408e865ffe0f23616dad",
            "7c85b5313b0d44c389642f865b16fc40",
            "2754664a912c491cb2e4aa7f2f2534f4",
            "ef4f56c2b1d2418db67790abbeff7efc",
            "65bea3a2a73847179bd6e1159f333645",
            "aa3036eca60c466b962c0a086f924abe",
            "8ff4255bbd674ef69b199420d31b0ea9",
            "91ea808dab7d44f9bc9c7996d18dbca2",
            "30e715625fd14c12a1869c0be6c9b74d",
            "74d17aabc82949b7a1285d2efde447f6",
            "0e655c1fdbad4f3b81c0f37e2da0127a",
            "8a01ec31fbf349188db8fff6dced6063",
            "413fe6722ff244e5abfebcbc369154ef",
            "10f7009a72ef435d826d6f985ef10701",
            "bb6cdda503cc411fa68c0821aca9f212",
            "d4cfc2ca75f54da1aaf6a99a83f4d11b",
            "219dd8e644b04824892a7087b6d81430",
            "d4a60a1ca0ec44e8b6dafd8150cbbf0e",
            "c6568d0fb7414a0e81ba90bdba93e2ed",
            "5b2f255407414a49b6118dbacea8f362",
            "21d24839a8bf4461a49eb0b894782d2c"
          ]
        },
        "id": "yrIBmxM4LkEJ",
        "outputId": "5f0d78c8-fcdf-45e8-dec6-e03109199ed9"
      },
      "source": [
        "# Sweep configuration\n",
        "sweep_config = {\n",
        "  \"name\": \"Assignment 3\",\n",
        "  \"metric\": {\n",
        "      \"name\":\"val_accuracy\",\n",
        "      \"goal\": \"maximize\"\n",
        "  },\n",
        "  \"method\": \"random\",\n",
        "  \"parameters\": {\n",
        "        \"cell_type\": {\n",
        "            \"values\": [\"LSTM\", \"RNN\", \"GRU\"]\n",
        "        },\n",
        "        \"num_cells\": {\n",
        "            \"values\": [128, 256, 512]\n",
        "        },\n",
        "        \"input_embedding_size\": {\n",
        "            \"values\": [16, 32, 64]\n",
        "        },\n",
        "        \"batch_size\": {\n",
        "            \"values\": [16, 64, 128]\n",
        "        },\n",
        "        \"epochs\": {\n",
        "            \"values\": [10,20]\n",
        "        }\n",
        "    }\n",
        "}\n",
        "\n",
        "# Generates a sweep id\n",
        "sweep_id = wandb.sweep(sweep_config, entity=\"ee17b154tony\", project=\"dl_assignment_3\")\n",
        "print(f\"Sweep ID = {sweep_id}\")\n",
        "#sweep_id = \"m6r4du09\"\n",
        "wandb.agent(sweep_id, train_with_wandb, count=20)"
      ],
      "execution_count": null,
      "outputs": [
        {
          "output_type": "stream",
          "text": [
            "Create sweep with ID: g0gjq3mo\n",
            "Sweep URL: https://wandb.ai/ee17b154tony/dl_assignment_3/sweeps/g0gjq3mo\n",
            "Sweep ID = g0gjq3mo\n"
          ],
          "name": "stdout"
        },
        {
          "output_type": "stream",
          "text": [
            "\u001b[34m\u001b[1mwandb\u001b[0m: Agent Starting Run: oxvgnqs1 with config:\n",
            "\u001b[34m\u001b[1mwandb\u001b[0m: \tbatch_size: 128\n",
            "\u001b[34m\u001b[1mwandb\u001b[0m: \tcell_type: RNN\n",
            "\u001b[34m\u001b[1mwandb\u001b[0m: \tepochs: 10\n",
            "\u001b[34m\u001b[1mwandb\u001b[0m: \tinput_embedding_size: 16\n",
            "\u001b[34m\u001b[1mwandb\u001b[0m: \tnum_cells: 128\n"
          ],
          "name": "stderr"
        },
        {
          "output_type": "display_data",
          "data": {
            "text/html": [
              "\n",
              "                Tracking run with wandb version 0.10.30<br/>\n",
              "                Syncing run <strong style=\"color:#cdcd00\">vital-sweep-1</strong> to <a href=\"https://wandb.ai\" target=\"_blank\">Weights & Biases</a> <a href=\"https://docs.wandb.com/integrations/jupyter.html\" target=\"_blank\">(Documentation)</a>.<br/>\n",
              "                Project page: <a href=\"https://wandb.ai/ee17b154tony/dl_assignment_3\" target=\"_blank\">https://wandb.ai/ee17b154tony/dl_assignment_3</a><br/>\n",
              "                Sweep page: <a href=\"https://wandb.ai/ee17b154tony/dl_assignment_3/sweeps/g0gjq3mo\" target=\"_blank\">https://wandb.ai/ee17b154tony/dl_assignment_3/sweeps/g0gjq3mo</a><br/>\n",
              "Run page: <a href=\"https://wandb.ai/ee17b154tony/dl_assignment_3/runs/oxvgnqs1\" target=\"_blank\">https://wandb.ai/ee17b154tony/dl_assignment_3/runs/oxvgnqs1</a><br/>\n",
              "                Run data is saved locally in <code>/content/wandb/run-20210511_060133-oxvgnqs1</code><br/><br/>\n",
              "            "
            ],
            "text/plain": [
              "<IPython.core.display.HTML object>"
            ]
          },
          "metadata": {
            "tags": []
          }
        },
        {
          "output_type": "stream",
          "text": [
            "cell_RNN_ncell_128_emb_16_dp_0.4_bs_128_epoc_10\n",
            "Epoch 1/10\n",
            "324/324 - 59s - loss: 1.0564 - accuracy: 0.1948 - val_loss: 0.8708 - val_accuracy: 0.2528\n",
            "Epoch 2/10\n",
            "324/324 - 54s - loss: 0.8932 - accuracy: 0.2722 - val_loss: 0.7385 - val_accuracy: 0.3371\n",
            "Epoch 3/10\n",
            "324/324 - 54s - loss: 0.7259 - accuracy: 0.3748 - val_loss: 0.5220 - val_accuracy: 0.5019\n",
            "Epoch 4/10\n",
            "324/324 - 55s - loss: 0.5754 - accuracy: 0.4728 - val_loss: 0.3905 - val_accuracy: 0.5875\n",
            "Epoch 5/10\n",
            "324/324 - 54s - loss: 0.4873 - accuracy: 0.5302 - val_loss: 0.3340 - val_accuracy: 0.6247\n",
            "Epoch 6/10\n",
            "324/324 - 54s - loss: 0.4300 - accuracy: 0.5690 - val_loss: 0.2959 - val_accuracy: 0.6511\n",
            "Epoch 7/10\n",
            "324/324 - 54s - loss: 0.3951 - accuracy: 0.5918 - val_loss: 0.2823 - val_accuracy: 0.6573\n",
            "Epoch 8/10\n",
            "324/324 - 53s - loss: 0.3740 - accuracy: 0.6055 - val_loss: 0.2662 - val_accuracy: 0.6693\n",
            "Epoch 9/10\n",
            "324/324 - 53s - loss: 0.3528 - accuracy: 0.6196 - val_loss: 0.2582 - val_accuracy: 0.6752\n",
            "Epoch 10/10\n",
            "324/324 - 54s - loss: 0.3385 - accuracy: 0.6291 - val_loss: 0.2516 - val_accuracy: 0.6786\n",
            "Validation accuracy based on whole string matching = 21.10622541078454 %\n"
          ],
          "name": "stdout"
        },
        {
          "output_type": "display_data",
          "data": {
            "image/png": "[encoded data removed]",
            "text/plain": [
              "<Figure size 432x288 with 1 Axes>"
            ]
          },
          "metadata": {
            "tags": []
          }
        },
        {
          "output_type": "display_data",
          "data": {
            "image/png": "[encoded data removed]",
            "text/plain": [
              "<Figure size 432x288 with 1 Axes>"
            ]
          },
          "metadata": {
            "tags": []
          }
        },
        {
          "output_type": "stream",
          "text": [
            "\u001b[34m\u001b[1mwandb\u001b[0m: \u001b[33mWARNING\u001b[0m Calling run.save without any arguments is deprecated.Changes to attributes are automatically persisted.\n"
          ],
          "name": "stderr"
        },
        {
          "output_type": "display_data",
          "data": {
            "text/html": [
              "<br/>Waiting for W&B process to finish, PID 3784<br/>Program ended successfully."
            ],
            "text/plain": [
              "<IPython.core.display.HTML object>"
            ]
          },
          "metadata": {
            "tags": []
          }
        },
        {
          "output_type": "display_data",
          "data": {
            "application/vnd.jupyter.widget-view+json": {
              "model_id": "9b74f3d5744f4a81a44d150fc50c68b1",
              "version_major": 2,
              "version_minor": 0
            },
            "text/plain": [
              "VBox(children=(Label(value=' 1.18MB of 1.18MB uploaded (0.00MB deduped)\\r'), FloatProgress(value=1.0, max=1.0)…"
            ]
          },
          "metadata": {
            "tags": []
          }
        },
        {
          "output_type": "display_data",
          "data": {
            "text/html": [
              "Find user logs for this run at: <code>/content/wandb/run-20210511_060133-oxvgnqs1/logs/debug.log</code>"
            ],
            "text/plain": [
              "<IPython.core.display.HTML object>"
            ]
          },
          "metadata": {
            "tags": []
          }
        },
        {
          "output_type": "display_data",
          "data": {
            "text/html": [
              "Find internal logs for this run at: <code>/content/wandb/run-20210511_060133-oxvgnqs1/logs/debug-internal.log</code>"
            ],
            "text/plain": [
              "<IPython.core.display.HTML object>"
            ]
          },
          "metadata": {
            "tags": []
          }
        },
        {
          "output_type": "display_data",
          "data": {
            "text/html": [
              "<h3>Run summary:</h3><br/><style>\n",
              "    table.wandb td:nth-child(1) { padding: 0 10px; text-align: right }\n",
              "    </style><table class=\"wandb\">\n",
              "<tr><td>epoch</td><td>9</td></tr><tr><td>loss</td><td>0.33846</td></tr><tr><td>accuracy</td><td>0.62913</td></tr><tr><td>val_loss</td><td>0.25157</td></tr><tr><td>val_accuracy</td><td>0.67856</td></tr><tr><td>_runtime</td><td>566</td></tr><tr><td>_timestamp</td><td>1620713459</td></tr><tr><td>_step</td><td>10</td></tr><tr><td>best_val_loss</td><td>0.25157</td></tr><tr><td>best_epoch</td><td>9</td></tr><tr><td>inference_val_accuracy</td><td>0.21106</td></tr></table>"
            ],
            "text/plain": [
              "<IPython.core.display.HTML object>"
            ]
          },
          "metadata": {
            "tags": []
          }
        },
        {
          "output_type": "display_data",
          "data": {
            "text/html": [
              "<h3>Run history:</h3><br/><style>\n",
              "    table.wandb td:nth-child(1) { padding: 0 10px; text-align: right }\n",
              "    </style><table class=\"wandb\">\n",
              "<tr><td>epoch</td><td>▁▂▃▃▄▅▆▆▇█</td></tr><tr><td>loss</td><td>█▆▅▃▂▂▂▁▁▁</td></tr><tr><td>accuracy</td><td>▁▂▄▅▆▇▇███</td></tr><tr><td>val_loss</td><td>█▇▄▃▂▂▁▁▁▁</td></tr><tr><td>val_accuracy</td><td>▁▂▅▇▇█████</td></tr><tr><td>_runtime</td><td>▁▂▃▃▄▅▆▆▇██</td></tr><tr><td>_timestamp</td><td>▁▂▃▃▄▅▆▆▇██</td></tr><tr><td>_step</td><td>▁▂▂▃▄▅▅▆▇▇█</td></tr><tr><td>inference_val_accuracy</td><td>▁</td></tr></table><br/>"
            ],
            "text/plain": [
              "<IPython.core.display.HTML object>"
            ]
          },
          "metadata": {
            "tags": []
          }
        },
        {
          "output_type": "display_data",
          "data": {
            "text/html": [
              "Synced 5 W&B file(s), 0 media file(s), 0 artifact file(s) and 1 other file(s)"
            ],
            "text/plain": [
              "<IPython.core.display.HTML object>"
            ]
          },
          "metadata": {
            "tags": []
          }
        },
        {
          "output_type": "display_data",
          "data": {
            "text/html": [
              "\n",
              "                    <br/>Synced <strong style=\"color:#cdcd00\">vital-sweep-1</strong>: <a href=\"https://wandb.ai/ee17b154tony/dl_assignment_3/runs/oxvgnqs1\" target=\"_blank\">https://wandb.ai/ee17b154tony/dl_assignment_3/runs/oxvgnqs1</a><br/>\n",
              "                "
            ],
            "text/plain": [
              "<IPython.core.display.HTML object>"
            ]
          },
          "metadata": {
            "tags": []
          }
        },
        {
          "output_type": "stream",
          "text": [
            "\u001b[34m\u001b[1mwandb\u001b[0m: Agent Starting Run: 5z0mpilo with config:\n",
            "\u001b[34m\u001b[1mwandb\u001b[0m: \tbatch_size: 128\n",
            "\u001b[34m\u001b[1mwandb\u001b[0m: \tcell_type: LSTM\n",
            "\u001b[34m\u001b[1mwandb\u001b[0m: \tepochs: 10\n",
            "\u001b[34m\u001b[1mwandb\u001b[0m: \tinput_embedding_size: 16\n",
            "\u001b[34m\u001b[1mwandb\u001b[0m: \tnum_cells: 128\n"
          ],
          "name": "stderr"
        },
        {
          "output_type": "display_data",
          "data": {
            "text/html": [
              "\n",
              "                Tracking run with wandb version 0.10.30<br/>\n",
              "                Syncing run <strong style=\"color:#cdcd00\">lunar-sweep-2</strong> to <a href=\"https://wandb.ai\" target=\"_blank\">Weights & Biases</a> <a href=\"https://docs.wandb.com/integrations/jupyter.html\" target=\"_blank\">(Documentation)</a>.<br/>\n",
              "                Project page: <a href=\"https://wandb.ai/ee17b154tony/dl_assignment_3\" target=\"_blank\">https://wandb.ai/ee17b154tony/dl_assignment_3</a><br/>\n",
              "                Sweep page: <a href=\"https://wandb.ai/ee17b154tony/dl_assignment_3/sweeps/g0gjq3mo\" target=\"_blank\">https://wandb.ai/ee17b154tony/dl_assignment_3/sweeps/g0gjq3mo</a><br/>\n",
              "Run page: <a href=\"https://wandb.ai/ee17b154tony/dl_assignment_3/runs/5z0mpilo\" target=\"_blank\">https://wandb.ai/ee17b154tony/dl_assignment_3/runs/5z0mpilo</a><br/>\n",
              "                Run data is saved locally in <code>/content/wandb/run-20210511_061108-5z0mpilo</code><br/><br/>\n",
              "            "
            ],
            "text/plain": [
              "<IPython.core.display.HTML object>"
            ]
          },
          "metadata": {
            "tags": []
          }
        },
        {
          "output_type": "stream",
          "text": [
            "cell_LSTM_ncell_128_emb_16_dp_0.4_bs_128_epoc_10\n",
            "WARNING:tensorflow:Layer EncoderLayer will not use cuDNN kernel since it doesn't meet the cuDNN kernel criteria. It will use generic GPU kernel as fallback when running on GPU\n",
            "WARNING:tensorflow:Layer DecoderLayer will not use cuDNN kernel since it doesn't meet the cuDNN kernel criteria. It will use generic GPU kernel as fallback when running on GPU\n",
            "Epoch 1/10\n",
            "324/324 - 122s - loss: 1.0278 - accuracy: 0.2141 - val_loss: 0.8374 - val_accuracy: 0.2711\n",
            "Epoch 2/10\n",
            "324/324 - 111s - loss: 0.7759 - accuracy: 0.3384 - val_loss: 0.5640 - val_accuracy: 0.4683\n",
            "Epoch 3/10\n",
            "324/324 - 113s - loss: 0.5100 - accuracy: 0.5171 - val_loss: 0.3465 - val_accuracy: 0.6199\n",
            "Epoch 4/10\n",
            "324/324 - 112s - loss: 0.3694 - accuracy: 0.6115 - val_loss: 0.2966 - val_accuracy: 0.6521\n",
            "Epoch 5/10\n",
            "324/324 - 112s - loss: 0.3148 - accuracy: 0.6466 - val_loss: 0.2570 - val_accuracy: 0.6741\n",
            "Epoch 6/10\n",
            "324/324 - 113s - loss: 0.2835 - accuracy: 0.6662 - val_loss: 0.2585 - val_accuracy: 0.6723\n",
            "Epoch 7/10\n",
            "324/324 - 111s - loss: 0.2687 - accuracy: 0.6749 - val_loss: 0.2186 - val_accuracy: 0.6965\n",
            "Epoch 8/10\n",
            "324/324 - 112s - loss: 0.2507 - accuracy: 0.6861 - val_loss: 0.2169 - val_accuracy: 0.6979\n",
            "Epoch 9/10\n",
            "324/324 - 112s - loss: 0.2369 - accuracy: 0.6945 - val_loss: 0.2041 - val_accuracy: 0.7054\n",
            "Epoch 10/10\n",
            "324/324 - 112s - loss: 0.2296 - accuracy: 0.7003 - val_loss: 0.1973 - val_accuracy: 0.7093\n",
            "Validation accuracy based on whole string matching = 25.827354778986344 %\n"
          ],
          "name": "stdout"
        },
        {
          "output_type": "display_data",
          "data": {
            "image/png": "[encoded data removed]",
            "text/plain": [
              "<Figure size 432x288 with 1 Axes>"
            ]
          },
          "metadata": {
            "tags": [],
            "needs_background": "light"
          }
        },
        {
          "output_type": "display_data",
          "data": {
            "image/png": "[encoded data removed]",
            "text/plain": [
              "<Figure size 432x288 with 1 Axes>"
            ]
          },
          "metadata": {
            "tags": [],
            "needs_background": "light"
          }
        },
        {
          "output_type": "stream",
          "text": [
            "\u001b[34m\u001b[1mwandb\u001b[0m: \u001b[33mWARNING\u001b[0m Calling run.save without any arguments is deprecated.Changes to attributes are automatically persisted.\n"
          ],
          "name": "stderr"
        },
        {
          "output_type": "display_data",
          "data": {
            "text/html": [
              "<br/>Waiting for W&B process to finish, PID 4244<br/>Program ended successfully."
            ],
            "text/plain": [
              "<IPython.core.display.HTML object>"
            ]
          },
          "metadata": {
            "tags": []
          }
        },
        {
          "output_type": "display_data",
          "data": {
            "application/vnd.jupyter.widget-view+json": {
              "model_id": "5069118b5b824dcfa6687c535d70d27b",
              "version_minor": 0,
              "version_major": 2
            },
            "text/plain": [
              "VBox(children=(Label(value=' 2.67MB of 2.67MB uploaded (0.00MB deduped)\\r'), FloatProgress(value=1.0, max=1.0)…"
            ]
          },
          "metadata": {
            "tags": []
          }
        },
        {
          "output_type": "display_data",
          "data": {
            "text/html": [
              "Find user logs for this run at: <code>/content/wandb/run-20210511_061108-5z0mpilo/logs/debug.log</code>"
            ],
            "text/plain": [
              "<IPython.core.display.HTML object>"
            ]
          },
          "metadata": {
            "tags": []
          }
        },
        {
          "output_type": "display_data",
          "data": {
            "text/html": [
              "Find internal logs for this run at: <code>/content/wandb/run-20210511_061108-5z0mpilo/logs/debug-internal.log</code>"
            ],
            "text/plain": [
              "<IPython.core.display.HTML object>"
            ]
          },
          "metadata": {
            "tags": []
          }
        },
        {
          "output_type": "display_data",
          "data": {
            "text/html": [
              "<h3>Run summary:</h3><br/><style>\n",
              "    table.wandb td:nth-child(1) { padding: 0 10px; text-align: right }\n",
              "    </style><table class=\"wandb\">\n",
              "<tr><td>epoch</td><td>9</td></tr><tr><td>loss</td><td>0.22962</td></tr><tr><td>accuracy</td><td>0.70034</td></tr><tr><td>val_loss</td><td>0.19732</td></tr><tr><td>val_accuracy</td><td>0.70925</td></tr><tr><td>_runtime</td><td>1152</td></tr><tr><td>_timestamp</td><td>1620714620</td></tr><tr><td>_step</td><td>10</td></tr><tr><td>best_val_loss</td><td>0.19732</td></tr><tr><td>best_epoch</td><td>9</td></tr><tr><td>inference_val_accuracy</td><td>0.25827</td></tr></table>"
            ],
            "text/plain": [
              "<IPython.core.display.HTML object>"
            ]
          },
          "metadata": {
            "tags": []
          }
        },
        {
          "output_type": "display_data",
          "data": {
            "text/html": [
              "<h3>Run history:</h3><br/><style>\n",
              "    table.wandb td:nth-child(1) { padding: 0 10px; text-align: right }\n",
              "    </style><table class=\"wandb\">\n",
              "<tr><td>epoch</td><td>▁▂▃▃▄▅▆▆▇█</td></tr><tr><td>loss</td><td>█▆▃▂▂▁▁▁▁▁</td></tr><tr><td>accuracy</td><td>▁▃▅▇▇█████</td></tr><tr><td>val_loss</td><td>█▅▃▂▂▂▁▁▁▁</td></tr><tr><td>val_accuracy</td><td>▁▄▇▇▇▇████</td></tr><tr><td>_runtime</td><td>▁▂▃▃▄▅▆▆▇██</td></tr><tr><td>_timestamp</td><td>▁▂▃▃▄▅▆▆▇██</td></tr><tr><td>_step</td><td>▁▂▂▃▄▅▅▆▇▇█</td></tr><tr><td>inference_val_accuracy</td><td>▁</td></tr></table><br/>"
            ],
            "text/plain": [
              "<IPython.core.display.HTML object>"
            ]
          },
          "metadata": {
            "tags": []
          }
        },
        {
          "output_type": "display_data",
          "data": {
            "text/html": [
              "Synced 5 W&B file(s), 0 media file(s), 0 artifact file(s) and 1 other file(s)"
            ],
            "text/plain": [
              "<IPython.core.display.HTML object>"
            ]
          },
          "metadata": {
            "tags": []
          }
        },
        {
          "output_type": "display_data",
          "data": {
            "text/html": [
              "\n",
              "                    <br/>Synced <strong style=\"color:#cdcd00\">lunar-sweep-2</strong>: <a href=\"https://wandb.ai/ee17b154tony/dl_assignment_3/runs/5z0mpilo\" target=\"_blank\">https://wandb.ai/ee17b154tony/dl_assignment_3/runs/5z0mpilo</a><br/>\n",
              "                "
            ],
            "text/plain": [
              "<IPython.core.display.HTML object>"
            ]
          },
          "metadata": {
            "tags": []
          }
        },
        {
          "output_type": "stream",
          "text": [
            "\u001b[34m\u001b[1mwandb\u001b[0m: Agent Starting Run: j4xv9wvf with config:\n",
            "\u001b[34m\u001b[1mwandb\u001b[0m: \tbatch_size: 128\n",
            "\u001b[34m\u001b[1mwandb\u001b[0m: \tcell_type: GRU\n",
            "\u001b[34m\u001b[1mwandb\u001b[0m: \tepochs: 10\n",
            "\u001b[34m\u001b[1mwandb\u001b[0m: \tinput_embedding_size: 16\n",
            "\u001b[34m\u001b[1mwandb\u001b[0m: \tnum_cells: 128\n"
          ],
          "name": "stderr"
        },
        {
          "output_type": "display_data",
          "data": {
            "text/html": [
              "\n",
              "                Tracking run with wandb version 0.10.30<br/>\n",
              "                Syncing run <strong style=\"color:#cdcd00\">generous-sweep-3</strong> to <a href=\"https://wandb.ai\" target=\"_blank\">Weights & Biases</a> <a href=\"https://docs.wandb.com/integrations/jupyter.html\" target=\"_blank\">(Documentation)</a>.<br/>\n",
              "                Project page: <a href=\"https://wandb.ai/ee17b154tony/dl_assignment_3\" target=\"_blank\">https://wandb.ai/ee17b154tony/dl_assignment_3</a><br/>\n",
              "                Sweep page: <a href=\"https://wandb.ai/ee17b154tony/dl_assignment_3/sweeps/g0gjq3mo\" target=\"_blank\">https://wandb.ai/ee17b154tony/dl_assignment_3/sweeps/g0gjq3mo</a><br/>\n",
              "Run page: <a href=\"https://wandb.ai/ee17b154tony/dl_assignment_3/runs/j4xv9wvf\" target=\"_blank\">https://wandb.ai/ee17b154tony/dl_assignment_3/runs/j4xv9wvf</a><br/>\n",
              "                Run data is saved locally in <code>/content/wandb/run-20210511_063030-j4xv9wvf</code><br/><br/>\n",
              "            "
            ],
            "text/plain": [
              "<IPython.core.display.HTML object>"
            ]
          },
          "metadata": {
            "tags": []
          }
        },
        {
          "output_type": "stream",
          "text": [
            "cell_GRU_ncell_128_emb_16_dp_0.4_bs_128_epoc_10\n",
            "WARNING:tensorflow:Layer EncoderLayer will not use cuDNN kernel since it doesn't meet the cuDNN kernel criteria. It will use generic GPU kernel as fallback when running on GPU\n",
            "WARNING:tensorflow:Layer DecoderLayer will not use cuDNN kernel since it doesn't meet the cuDNN kernel criteria. It will use generic GPU kernel as fallback when running on GPU\n",
            "Epoch 1/10\n",
            "324/324 - 109s - loss: 1.0056 - accuracy: 0.2231 - val_loss: 0.7437 - val_accuracy: 0.3457\n",
            "Epoch 2/10\n",
            "324/324 - 99s - loss: 0.5734 - accuracy: 0.4817 - val_loss: 0.3419 - val_accuracy: 0.6221\n",
            "Epoch 3/10\n",
            "324/324 - 99s - loss: 0.3800 - accuracy: 0.6055 - val_loss: 0.2731 - val_accuracy: 0.6669\n",
            "Epoch 4/10\n",
            "324/324 - 98s - loss: 0.3187 - accuracy: 0.6437 - val_loss: 0.2399 - val_accuracy: 0.6852\n",
            "Epoch 5/10\n",
            "324/324 - 98s - loss: 0.2843 - accuracy: 0.6643 - val_loss: 0.2563 - val_accuracy: 0.6679\n",
            "Epoch 6/10\n",
            "324/324 - 99s - loss: 0.2683 - accuracy: 0.6729 - val_loss: 0.2129 - val_accuracy: 0.7018\n",
            "Epoch 7/10\n",
            "324/324 - 99s - loss: 0.2474 - accuracy: 0.6866 - val_loss: 0.2069 - val_accuracy: 0.7036\n",
            "Epoch 8/10\n",
            "324/324 - 99s - loss: 0.2343 - accuracy: 0.6952 - val_loss: 0.2000 - val_accuracy: 0.7117\n",
            "Epoch 9/10\n",
            "324/324 - 99s - loss: 0.2238 - accuracy: 0.7035 - val_loss: 0.1950 - val_accuracy: 0.7154\n",
            "Epoch 10/10\n",
            "324/324 - 99s - loss: 0.2161 - accuracy: 0.7083 - val_loss: 0.2825 - val_accuracy: 0.6662\n",
            "Validation accuracy based on whole string matching = 22.008794260587827 %\n"
          ],
          "name": "stdout"
        },
        {
          "output_type": "display_data",
          "data": {
            "image/png": "[encoded data removed]",
            "text/plain": [
              "<Figure size 432x288 with 1 Axes>"
            ]
          },
          "metadata": {
            "tags": [],
            "needs_background": "light"
          }
        },
        {
          "output_type": "display_data",
          "data": {
            "image/png": "[encoded data removed]",
            "text/plain": [
              "<Figure size 432x288 with 1 Axes>"
            ]
          },
          "metadata": {
            "tags": [],
            "needs_background": "light"
          }
        },
        {
          "output_type": "stream",
          "text": [
            "\u001b[34m\u001b[1mwandb\u001b[0m: \u001b[33mWARNING\u001b[0m Calling run.save without any arguments is deprecated.Changes to attributes are automatically persisted.\n"
          ],
          "name": "stderr"
        },
        {
          "output_type": "display_data",
          "data": {
            "text/html": [
              "<br/>Waiting for W&B process to finish, PID 4664<br/>Program ended successfully."
            ],
            "text/plain": [
              "<IPython.core.display.HTML object>"
            ]
          },
          "metadata": {
            "tags": []
          }
        },
        {
          "output_type": "display_data",
          "data": {
            "application/vnd.jupyter.widget-view+json": {
              "model_id": "f00aae44f6e7442e82a3048d56a22f34",
              "version_minor": 0,
              "version_major": 2
            },
            "text/plain": [
              "VBox(children=(Label(value=' 2.18MB of 2.18MB uploaded (0.00MB deduped)\\r'), FloatProgress(value=1.0, max=1.0)…"
            ]
          },
          "metadata": {
            "tags": []
          }
        },
        {
          "output_type": "display_data",
          "data": {
            "text/html": [
              "Find user logs for this run at: <code>/content/wandb/run-20210511_063030-j4xv9wvf/logs/debug.log</code>"
            ],
            "text/plain": [
              "<IPython.core.display.HTML object>"
            ]
          },
          "metadata": {
            "tags": []
          }
        },
        {
          "output_type": "display_data",
          "data": {
            "text/html": [
              "Find internal logs for this run at: <code>/content/wandb/run-20210511_063030-j4xv9wvf/logs/debug-internal.log</code>"
            ],
            "text/plain": [
              "<IPython.core.display.HTML object>"
            ]
          },
          "metadata": {
            "tags": []
          }
        },
        {
          "output_type": "display_data",
          "data": {
            "text/html": [
              "<h3>Run summary:</h3><br/><style>\n",
              "    table.wandb td:nth-child(1) { padding: 0 10px; text-align: right }\n",
              "    </style><table class=\"wandb\">\n",
              "<tr><td>epoch</td><td>9</td></tr><tr><td>loss</td><td>0.21614</td></tr><tr><td>accuracy</td><td>0.70827</td></tr><tr><td>val_loss</td><td>0.28251</td></tr><tr><td>val_accuracy</td><td>0.66623</td></tr><tr><td>_runtime</td><td>1021</td></tr><tr><td>_timestamp</td><td>1620715651</td></tr><tr><td>_step</td><td>10</td></tr><tr><td>best_val_loss</td><td>0.19498</td></tr><tr><td>best_epoch</td><td>8</td></tr><tr><td>inference_val_accuracy</td><td>0.22009</td></tr></table>"
            ],
            "text/plain": [
              "<IPython.core.display.HTML object>"
            ]
          },
          "metadata": {
            "tags": []
          }
        },
        {
          "output_type": "display_data",
          "data": {
            "text/html": [
              "<h3>Run history:</h3><br/><style>\n",
              "    table.wandb td:nth-child(1) { padding: 0 10px; text-align: right }\n",
              "    </style><table class=\"wandb\">\n",
              "<tr><td>epoch</td><td>▁▂▃▃▄▅▆▆▇█</td></tr><tr><td>loss</td><td>█▄▂▂▂▁▁▁▁▁</td></tr><tr><td>accuracy</td><td>▁▅▇▇▇▇████</td></tr><tr><td>val_loss</td><td>█▃▂▂▂▁▁▁▁▂</td></tr><tr><td>val_accuracy</td><td>▁▆▇▇▇████▇</td></tr><tr><td>_runtime</td><td>▁▂▃▃▄▅▆▆▇██</td></tr><tr><td>_timestamp</td><td>▁▂▃▃▄▅▆▆▇██</td></tr><tr><td>_step</td><td>▁▂▂▃▄▅▅▆▇▇█</td></tr><tr><td>inference_val_accuracy</td><td>▁</td></tr></table><br/>"
            ],
            "text/plain": [
              "<IPython.core.display.HTML object>"
            ]
          },
          "metadata": {
            "tags": []
          }
        },
        {
          "output_type": "display_data",
          "data": {
            "text/html": [
              "Synced 5 W&B file(s), 0 media file(s), 0 artifact file(s) and 1 other file(s)"
            ],
            "text/plain": [
              "<IPython.core.display.HTML object>"
            ]
          },
          "metadata": {
            "tags": []
          }
        },
        {
          "output_type": "display_data",
          "data": {
            "text/html": [
              "\n",
              "                    <br/>Synced <strong style=\"color:#cdcd00\">generous-sweep-3</strong>: <a href=\"https://wandb.ai/ee17b154tony/dl_assignment_3/runs/j4xv9wvf\" target=\"_blank\">https://wandb.ai/ee17b154tony/dl_assignment_3/runs/j4xv9wvf</a><br/>\n",
              "                "
            ],
            "text/plain": [
              "<IPython.core.display.HTML object>"
            ]
          },
          "metadata": {
            "tags": []
          }
        },
        {
          "output_type": "stream",
          "text": [
            "\u001b[34m\u001b[1mwandb\u001b[0m: Agent Starting Run: xuwgt2i9 with config:\n",
            "\u001b[34m\u001b[1mwandb\u001b[0m: \tbatch_size: 128\n",
            "\u001b[34m\u001b[1mwandb\u001b[0m: \tcell_type: RNN\n",
            "\u001b[34m\u001b[1mwandb\u001b[0m: \tepochs: 10\n",
            "\u001b[34m\u001b[1mwandb\u001b[0m: \tinput_embedding_size: 16\n",
            "\u001b[34m\u001b[1mwandb\u001b[0m: \tnum_cells: 128\n"
          ],
          "name": "stderr"
        },
        {
          "output_type": "display_data",
          "data": {
            "text/html": [
              "\n",
              "                Tracking run with wandb version 0.10.30<br/>\n",
              "                Syncing run <strong style=\"color:#cdcd00\">summer-sweep-4</strong> to <a href=\"https://wandb.ai\" target=\"_blank\">Weights & Biases</a> <a href=\"https://docs.wandb.com/integrations/jupyter.html\" target=\"_blank\">(Documentation)</a>.<br/>\n",
              "                Project page: <a href=\"https://wandb.ai/ee17b154tony/dl_assignment_3\" target=\"_blank\">https://wandb.ai/ee17b154tony/dl_assignment_3</a><br/>\n",
              "                Sweep page: <a href=\"https://wandb.ai/ee17b154tony/dl_assignment_3/sweeps/g0gjq3mo\" target=\"_blank\">https://wandb.ai/ee17b154tony/dl_assignment_3/sweeps/g0gjq3mo</a><br/>\n",
              "Run page: <a href=\"https://wandb.ai/ee17b154tony/dl_assignment_3/runs/xuwgt2i9\" target=\"_blank\">https://wandb.ai/ee17b154tony/dl_assignment_3/runs/xuwgt2i9</a><br/>\n",
              "                Run data is saved locally in <code>/content/wandb/run-20210511_064741-xuwgt2i9</code><br/><br/>\n",
              "            "
            ],
            "text/plain": [
              "<IPython.core.display.HTML object>"
            ]
          },
          "metadata": {
            "tags": []
          }
        },
        {
          "output_type": "stream",
          "text": [
            "cell_RNN_ncell_128_emb_16_dp_0.4_bs_128_epoc_10\n",
            "Epoch 1/10\n",
            "324/324 - 59s - loss: 1.0477 - accuracy: 0.1985 - val_loss: 0.8645 - val_accuracy: 0.2600\n",
            "Epoch 2/10\n",
            "324/324 - 54s - loss: 0.8940 - accuracy: 0.2727 - val_loss: 0.7668 - val_accuracy: 0.3264\n",
            "Epoch 3/10\n",
            "324/324 - 55s - loss: 0.7836 - accuracy: 0.3339 - val_loss: 0.5845 - val_accuracy: 0.4378\n",
            "Epoch 4/10\n",
            "324/324 - 54s - loss: 0.6130 - accuracy: 0.4421 - val_loss: 0.4204 - val_accuracy: 0.5629\n",
            "Epoch 5/10\n",
            "324/324 - 54s - loss: 0.5175 - accuracy: 0.5073 - val_loss: 0.3454 - val_accuracy: 0.6184\n",
            "Epoch 6/10\n",
            "324/324 - 54s - loss: 0.4525 - accuracy: 0.5530 - val_loss: 0.3096 - val_accuracy: 0.6426\n",
            "Epoch 7/10\n",
            "324/324 - 54s - loss: 0.4118 - accuracy: 0.5806 - val_loss: 0.3096 - val_accuracy: 0.6394\n",
            "Epoch 8/10\n",
            "324/324 - 54s - loss: 0.3927 - accuracy: 0.5931 - val_loss: 0.2756 - val_accuracy: 0.6641\n",
            "Epoch 9/10\n",
            "324/324 - 55s - loss: 0.3624 - accuracy: 0.6128 - val_loss: 0.2639 - val_accuracy: 0.6691\n",
            "Epoch 10/10\n",
            "324/324 - 54s - loss: 0.3463 - accuracy: 0.6227 - val_loss: 0.2579 - val_accuracy: 0.6729\n",
            "Validation accuracy based on whole string matching = 19.949085859754685 %\n"
          ],
          "name": "stdout"
        },
        {
          "output_type": "display_data",
          "data": {
            "image/png": "[encoded data removed]",
            "text/plain": [
              "<Figure size 432x288 with 1 Axes>"
            ]
          },
          "metadata": {
            "tags": [],
            "needs_background": "light"
          }
        },
        {
          "output_type": "display_data",
          "data": {
            "image/png": "[encoded data removed]",
            "text/plain": [
              "<Figure size 432x288 with 1 Axes>"
            ]
          },
          "metadata": {
            "tags": [],
            "needs_background": "light"
          }
        },
        {
          "output_type": "stream",
          "text": [
            "\u001b[34m\u001b[1mwandb\u001b[0m: \u001b[33mWARNING\u001b[0m Calling run.save without any arguments is deprecated.Changes to attributes are automatically persisted.\n"
          ],
          "name": "stderr"
        },
        {
          "output_type": "display_data",
          "data": {
            "text/html": [
              "<br/>Waiting for W&B process to finish, PID 5065<br/>Program ended successfully."
            ],
            "text/plain": [
              "<IPython.core.display.HTML object>"
            ]
          },
          "metadata": {
            "tags": []
          }
        },
        {
          "output_type": "display_data",
          "data": {
            "application/vnd.jupyter.widget-view+json": {
              "model_id": "aa3036eca60c466b962c0a086f924abe",
              "version_minor": 0,
              "version_major": 2
            },
            "text/plain": [
              "VBox(children=(Label(value=' 1.18MB of 1.18MB uploaded (0.00MB deduped)\\r'), FloatProgress(value=1.0, max=1.0)…"
            ]
          },
          "metadata": {
            "tags": []
          }
        },
        {
          "output_type": "display_data",
          "data": {
            "text/html": [
              "Find user logs for this run at: <code>/content/wandb/run-20210511_064741-xuwgt2i9/logs/debug.log</code>"
            ],
            "text/plain": [
              "<IPython.core.display.HTML object>"
            ]
          },
          "metadata": {
            "tags": []
          }
        },
        {
          "output_type": "display_data",
          "data": {
            "text/html": [
              "Find internal logs for this run at: <code>/content/wandb/run-20210511_064741-xuwgt2i9/logs/debug-internal.log</code>"
            ],
            "text/plain": [
              "<IPython.core.display.HTML object>"
            ]
          },
          "metadata": {
            "tags": []
          }
        },
        {
          "output_type": "display_data",
          "data": {
            "text/html": [
              "<h3>Run summary:</h3><br/><style>\n",
              "    table.wandb td:nth-child(1) { padding: 0 10px; text-align: right }\n",
              "    </style><table class=\"wandb\">\n",
              "<tr><td>epoch</td><td>9</td></tr><tr><td>loss</td><td>0.34628</td></tr><tr><td>accuracy</td><td>0.62266</td></tr><tr><td>val_loss</td><td>0.25786</td></tr><tr><td>val_accuracy</td><td>0.67289</td></tr><tr><td>_runtime</td><td>567</td></tr><tr><td>_timestamp</td><td>1620716228</td></tr><tr><td>_step</td><td>10</td></tr><tr><td>best_val_loss</td><td>0.25786</td></tr><tr><td>best_epoch</td><td>9</td></tr><tr><td>inference_val_accuracy</td><td>0.19949</td></tr></table>"
            ],
            "text/plain": [
              "<IPython.core.display.HTML object>"
            ]
          },
          "metadata": {
            "tags": []
          }
        },
        {
          "output_type": "display_data",
          "data": {
            "text/html": [
              "<h3>Run history:</h3><br/><style>\n",
              "    table.wandb td:nth-child(1) { padding: 0 10px; text-align: right }\n",
              "    </style><table class=\"wandb\">\n",
              "<tr><td>epoch</td><td>▁▂▃▃▄▅▆▆▇█</td></tr><tr><td>loss</td><td>█▆▅▄▃▂▂▁▁▁</td></tr><tr><td>accuracy</td><td>▁▂▃▅▆▇▇███</td></tr><tr><td>val_loss</td><td>█▇▅▃▂▂▂▁▁▁</td></tr><tr><td>val_accuracy</td><td>▁▂▄▆▇▇▇███</td></tr><tr><td>_runtime</td><td>▁▂▃▃▄▅▆▆▇██</td></tr><tr><td>_timestamp</td><td>▁▂▃▃▄▅▆▆▇██</td></tr><tr><td>_step</td><td>▁▂▂▃▄▅▅▆▇▇█</td></tr><tr><td>inference_val_accuracy</td><td>▁</td></tr></table><br/>"
            ],
            "text/plain": [
              "<IPython.core.display.HTML object>"
            ]
          },
          "metadata": {
            "tags": []
          }
        },
        {
          "output_type": "display_data",
          "data": {
            "text/html": [
              "Synced 5 W&B file(s), 0 media file(s), 0 artifact file(s) and 1 other file(s)"
            ],
            "text/plain": [
              "<IPython.core.display.HTML object>"
            ]
          },
          "metadata": {
            "tags": []
          }
        },
        {
          "output_type": "display_data",
          "data": {
            "text/html": [
              "\n",
              "                    <br/>Synced <strong style=\"color:#cdcd00\">summer-sweep-4</strong>: <a href=\"https://wandb.ai/ee17b154tony/dl_assignment_3/runs/xuwgt2i9\" target=\"_blank\">https://wandb.ai/ee17b154tony/dl_assignment_3/runs/xuwgt2i9</a><br/>\n",
              "                "
            ],
            "text/plain": [
              "<IPython.core.display.HTML object>"
            ]
          },
          "metadata": {
            "tags": []
          }
        },
        {
          "output_type": "stream",
          "text": [
            "\u001b[34m\u001b[1mwandb\u001b[0m: Agent Starting Run: 9eni1fjp with config:\n",
            "\u001b[34m\u001b[1mwandb\u001b[0m: \tbatch_size: 128\n",
            "\u001b[34m\u001b[1mwandb\u001b[0m: \tcell_type: LSTM\n",
            "\u001b[34m\u001b[1mwandb\u001b[0m: \tepochs: 10\n",
            "\u001b[34m\u001b[1mwandb\u001b[0m: \tinput_embedding_size: 16\n",
            "\u001b[34m\u001b[1mwandb\u001b[0m: \tnum_cells: 128\n"
          ],
          "name": "stderr"
        },
        {
          "output_type": "display_data",
          "data": {
            "text/html": [
              "\n",
              "                Tracking run with wandb version 0.10.30<br/>\n",
              "                Syncing run <strong style=\"color:#cdcd00\">icy-sweep-5</strong> to <a href=\"https://wandb.ai\" target=\"_blank\">Weights & Biases</a> <a href=\"https://docs.wandb.com/integrations/jupyter.html\" target=\"_blank\">(Documentation)</a>.<br/>\n",
              "                Project page: <a href=\"https://wandb.ai/ee17b154tony/dl_assignment_3\" target=\"_blank\">https://wandb.ai/ee17b154tony/dl_assignment_3</a><br/>\n",
              "                Sweep page: <a href=\"https://wandb.ai/ee17b154tony/dl_assignment_3/sweeps/g0gjq3mo\" target=\"_blank\">https://wandb.ai/ee17b154tony/dl_assignment_3/sweeps/g0gjq3mo</a><br/>\n",
              "Run page: <a href=\"https://wandb.ai/ee17b154tony/dl_assignment_3/runs/9eni1fjp\" target=\"_blank\">https://wandb.ai/ee17b154tony/dl_assignment_3/runs/9eni1fjp</a><br/>\n",
              "                Run data is saved locally in <code>/content/wandb/run-20210511_065718-9eni1fjp</code><br/><br/>\n",
              "            "
            ],
            "text/plain": [
              "<IPython.core.display.HTML object>"
            ]
          },
          "metadata": {
            "tags": []
          }
        },
        {
          "output_type": "stream",
          "text": [
            "cell_LSTM_ncell_128_emb_16_dp_0.4_bs_128_epoc_10\n",
            "WARNING:tensorflow:Layer EncoderLayer will not use cuDNN kernel since it doesn't meet the cuDNN kernel criteria. It will use generic GPU kernel as fallback when running on GPU\n",
            "WARNING:tensorflow:Layer DecoderLayer will not use cuDNN kernel since it doesn't meet the cuDNN kernel criteria. It will use generic GPU kernel as fallback when running on GPU\n",
            "Epoch 1/10\n",
            "324/324 - 121s - loss: 1.0329 - accuracy: 0.2083 - val_loss: 0.8617 - val_accuracy: 0.2584\n",
            "Epoch 2/10\n",
            "324/324 - 112s - loss: 0.8272 - accuracy: 0.3046 - val_loss: 0.6673 - val_accuracy: 0.3862\n",
            "Epoch 3/10\n",
            "324/324 - 112s - loss: 0.5808 - accuracy: 0.4735 - val_loss: 0.3953 - val_accuracy: 0.5897\n",
            "Epoch 4/10\n",
            "324/324 - 111s - loss: 0.3941 - accuracy: 0.5958 - val_loss: 0.2887 - val_accuracy: 0.6501\n",
            "Epoch 5/10\n",
            "324/324 - 111s - loss: 0.3259 - accuracy: 0.6378 - val_loss: 0.2560 - val_accuracy: 0.6712\n",
            "Epoch 6/10\n",
            "324/324 - 111s - loss: 0.2884 - accuracy: 0.6616 - val_loss: 0.2392 - val_accuracy: 0.6856\n",
            "Epoch 7/10\n",
            "324/324 - 111s - loss: 0.2634 - accuracy: 0.6790 - val_loss: 0.2190 - val_accuracy: 0.7017\n",
            "Epoch 8/10\n",
            "324/324 - 111s - loss: 0.2458 - accuracy: 0.6907 - val_loss: 0.2064 - val_accuracy: 0.7094\n",
            "Epoch 9/10\n",
            "324/324 - 111s - loss: 0.2311 - accuracy: 0.7005 - val_loss: 0.2070 - val_accuracy: 0.7062\n",
            "Epoch 10/10\n",
            "324/324 - 110s - loss: 0.2202 - accuracy: 0.7076 - val_loss: 0.2333 - val_accuracy: 0.6880\n",
            "Validation accuracy based on whole string matching = 23.304790557741264 %\n"
          ],
          "name": "stdout"
        },
        {
          "output_type": "display_data",
          "data": {
            "image/png": "[encoded data removed]",
            "text/plain": [
              "<Figure size 432x288 with 1 Axes>"
            ]
          },
          "metadata": {
            "tags": [],
            "needs_background": "light"
          }
        },
        {
          "output_type": "display_data",
          "data": {
            "image/png": "[encoded data removed]",
            "text/plain": [
              "<Figure size 432x288 with 1 Axes>"
            ]
          },
          "metadata": {
            "tags": [],
            "needs_background": "light"
          }
        },
        {
          "output_type": "stream",
          "text": [
            "\u001b[34m\u001b[1mwandb\u001b[0m: \u001b[33mWARNING\u001b[0m Calling run.save without any arguments is deprecated.Changes to attributes are automatically persisted.\n"
          ],
          "name": "stderr"
        },
        {
          "output_type": "display_data",
          "data": {
            "text/html": [
              "<br/>Waiting for W&B process to finish, PID 5466<br/>Program ended successfully."
            ],
            "text/plain": [
              "<IPython.core.display.HTML object>"
            ]
          },
          "metadata": {
            "tags": []
          }
        },
        {
          "output_type": "display_data",
          "data": {
            "application/vnd.jupyter.widget-view+json": {
              "model_id": "10f7009a72ef435d826d6f985ef10701",
              "version_minor": 0,
              "version_major": 2
            },
            "text/plain": [
              "VBox(children=(Label(value=' 2.67MB of 2.67MB uploaded (0.00MB deduped)\\r'), FloatProgress(value=1.0, max=1.0)…"
            ]
          },
          "metadata": {
            "tags": []
          }
        },
        {
          "output_type": "display_data",
          "data": {
            "text/html": [
              "Find user logs for this run at: <code>/content/wandb/run-20210511_065718-9eni1fjp/logs/debug.log</code>"
            ],
            "text/plain": [
              "<IPython.core.display.HTML object>"
            ]
          },
          "metadata": {
            "tags": []
          }
        },
        {
          "output_type": "display_data",
          "data": {
            "text/html": [
              "Find internal logs for this run at: <code>/content/wandb/run-20210511_065718-9eni1fjp/logs/debug-internal.log</code>"
            ],
            "text/plain": [
              "<IPython.core.display.HTML object>"
            ]
          },
          "metadata": {
            "tags": []
          }
        },
        {
          "output_type": "display_data",
          "data": {
            "text/html": [
              "<h3>Run summary:</h3><br/><style>\n",
              "    table.wandb td:nth-child(1) { padding: 0 10px; text-align: right }\n",
              "    </style><table class=\"wandb\">\n",
              "<tr><td>epoch</td><td>9</td></tr><tr><td>loss</td><td>0.22025</td></tr><tr><td>accuracy</td><td>0.70763</td></tr><tr><td>val_loss</td><td>0.23331</td></tr><tr><td>val_accuracy</td><td>0.68803</td></tr><tr><td>_runtime</td><td>1144</td></tr><tr><td>_timestamp</td><td>1620717382</td></tr><tr><td>_step</td><td>10</td></tr><tr><td>best_val_loss</td><td>0.20638</td></tr><tr><td>best_epoch</td><td>7</td></tr><tr><td>inference_val_accuracy</td><td>0.23305</td></tr></table>"
            ],
            "text/plain": [
              "<IPython.core.display.HTML object>"
            ]
          },
          "metadata": {
            "tags": []
          }
        },
        {
          "output_type": "display_data",
          "data": {
            "text/html": [
              "<h3>Run history:</h3><br/><style>\n",
              "    table.wandb td:nth-child(1) { padding: 0 10px; text-align: right }\n",
              "    </style><table class=\"wandb\">\n",
              "<tr><td>epoch</td><td>▁▂▃▃▄▅▆▆▇█</td></tr><tr><td>loss</td><td>█▆▄▂▂▂▁▁▁▁</td></tr><tr><td>accuracy</td><td>▁▂▅▆▇▇████</td></tr><tr><td>val_loss</td><td>█▆▃▂▂▁▁▁▁▁</td></tr><tr><td>val_accuracy</td><td>▁▃▆▇▇█████</td></tr><tr><td>_runtime</td><td>▁▂▃▃▄▅▆▆▇██</td></tr><tr><td>_timestamp</td><td>▁▂▃▃▄▅▆▆▇██</td></tr><tr><td>_step</td><td>▁▂▂▃▄▅▅▆▇▇█</td></tr><tr><td>inference_val_accuracy</td><td>▁</td></tr></table><br/>"
            ],
            "text/plain": [
              "<IPython.core.display.HTML object>"
            ]
          },
          "metadata": {
            "tags": []
          }
        },
        {
          "output_type": "display_data",
          "data": {
            "text/html": [
              "Synced 5 W&B file(s), 0 media file(s), 0 artifact file(s) and 1 other file(s)"
            ],
            "text/plain": [
              "<IPython.core.display.HTML object>"
            ]
          },
          "metadata": {
            "tags": []
          }
        },
        {
          "output_type": "display_data",
          "data": {
            "text/html": [
              "\n",
              "                    <br/>Synced <strong style=\"color:#cdcd00\">icy-sweep-5</strong>: <a href=\"https://wandb.ai/ee17b154tony/dl_assignment_3/runs/9eni1fjp\" target=\"_blank\">https://wandb.ai/ee17b154tony/dl_assignment_3/runs/9eni1fjp</a><br/>\n",
              "                "
            ],
            "text/plain": [
              "<IPython.core.display.HTML object>"
            ]
          },
          "metadata": {
            "tags": []
          }
        },
        {
          "output_type": "stream",
          "text": [
            "\u001b[34m\u001b[1mwandb\u001b[0m: Agent Starting Run: tas7ltmo with config:\n",
            "\u001b[34m\u001b[1mwandb\u001b[0m: \tbatch_size: 128\n",
            "\u001b[34m\u001b[1mwandb\u001b[0m: \tcell_type: GRU\n",
            "\u001b[34m\u001b[1mwandb\u001b[0m: \tepochs: 10\n",
            "\u001b[34m\u001b[1mwandb\u001b[0m: \tinput_embedding_size: 16\n",
            "\u001b[34m\u001b[1mwandb\u001b[0m: \tnum_cells: 128\n"
          ],
          "name": "stderr"
        },
        {
          "output_type": "display_data",
          "data": {
            "text/html": [
              "\n",
              "                Tracking run with wandb version 0.10.30<br/>\n",
              "                Syncing run <strong style=\"color:#cdcd00\">absurd-sweep-6</strong> to <a href=\"https://wandb.ai\" target=\"_blank\">Weights & Biases</a> <a href=\"https://docs.wandb.com/integrations/jupyter.html\" target=\"_blank\">(Documentation)</a>.<br/>\n",
              "                Project page: <a href=\"https://wandb.ai/ee17b154tony/dl_assignment_3\" target=\"_blank\">https://wandb.ai/ee17b154tony/dl_assignment_3</a><br/>\n",
              "                Sweep page: <a href=\"https://wandb.ai/ee17b154tony/dl_assignment_3/sweeps/g0gjq3mo\" target=\"_blank\">https://wandb.ai/ee17b154tony/dl_assignment_3/sweeps/g0gjq3mo</a><br/>\n",
              "Run page: <a href=\"https://wandb.ai/ee17b154tony/dl_assignment_3/runs/tas7ltmo\" target=\"_blank\">https://wandb.ai/ee17b154tony/dl_assignment_3/runs/tas7ltmo</a><br/>\n",
              "                Run data is saved locally in <code>/content/wandb/run-20210511_071633-tas7ltmo</code><br/><br/>\n",
              "            "
            ],
            "text/plain": [
              "<IPython.core.display.HTML object>"
            ]
          },
          "metadata": {
            "tags": []
          }
        },
        {
          "output_type": "stream",
          "text": [
            "cell_GRU_ncell_128_emb_16_dp_0.4_bs_128_epoc_10\n",
            "WARNING:tensorflow:Layer EncoderLayer will not use cuDNN kernel since it doesn't meet the cuDNN kernel criteria. It will use generic GPU kernel as fallback when running on GPU\n",
            "WARNING:tensorflow:Layer DecoderLayer will not use cuDNN kernel since it doesn't meet the cuDNN kernel criteria. It will use generic GPU kernel as fallback when running on GPU\n",
            "Epoch 1/10\n"
          ],
          "name": "stdout"
        },
        {
          "output_type": "stream",
          "text": [
            "\u001b[34m\u001b[1mwandb\u001b[0m: Ctrl + C detected. Stopping sweep.\n"
          ],
          "name": "stderr"
        }
      ]
    },
    {
      "cell_type": "code",
      "metadata": {
        "id": "p6KQLCBFVx8t"
      },
      "source": [
        ""
      ],
      "execution_count": null,
      "outputs": []
    }
  ]
}