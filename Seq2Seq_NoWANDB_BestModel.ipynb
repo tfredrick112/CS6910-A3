{
  "nbformat": 4,
  "nbformat_minor": 0,
  "metadata": {
    "colab": {
      "name": "Seq2Seq_NoWANDB_BestModel.ipynb",
      "provenance": [],
      "collapsed_sections": [],
      "toc_visible": true
    },
    "kernelspec": {
      "name": "python3",
      "display_name": "Python 3"
    },
    "language_info": {
      "name": "python"
    },
    "accelerator": "GPU"
  },
  "cells": [
    {
      "cell_type": "markdown",
      "metadata": {
        "id": "k5-ZQiR2vCOg"
      },
      "source": [
        "### Download the dataset"
      ]
    },
    {
      "cell_type": "code",
      "metadata": {
        "id": "KR1lofiovHQ3"
      },
      "source": [
        "import os\n",
        "import shutil\n",
        "try:\n",
        "    shutil.rmtree(\"/content/hi\")\n",
        "except:\n",
        "    pass\n",
        "\n",
        "try:\n",
        "    os.remove(\"/content/hi.zip\")\n",
        "except:\n",
        "    pass\n",
        "\n",
        "try:\n",
        "    shutil.rmtree(\"/content/wandb\")\n",
        "except:\n",
        "    pass"
      ],
      "execution_count": null,
      "outputs": []
    },
    {
      "cell_type": "code",
      "metadata": {
        "id": "jefgYyjetqZP"
      },
      "source": [
        "%%capture\n",
        "!gdown https://drive.google.com/uc?id=1TkaNm9ucnEn3S5Pz3D5SRFiroFgx4fjs\n",
        "!unzip \"/content/hi.zip\"\n",
        "!pip install wandb"
      ],
      "execution_count": null,
      "outputs": []
    },
    {
      "cell_type": "code",
      "metadata": {
        "colab": {
          "base_uri": "https://localhost:8080/"
        },
        "id": "Tz-nfHW0DKDS",
        "outputId": "c35a5697-cbfc-47ce-bfcb-de834b2b7c46"
      },
      "source": [
        "!nvidia-smi"
      ],
      "execution_count": null,
      "outputs": [
        {
          "output_type": "stream",
          "text": [
            "Mon May 10 11:55:44 2021       \n",
            "+-----------------------------------------------------------------------------+\n",
            "| NVIDIA-SMI 465.19.01    Driver Version: 460.32.03    CUDA Version: 11.2     |\n",
            "|-------------------------------+----------------------+----------------------+\n",
            "| GPU  Name        Persistence-M| Bus-Id        Disp.A | Volatile Uncorr. ECC |\n",
            "| Fan  Temp  Perf  Pwr:Usage/Cap|         Memory-Usage | GPU-Util  Compute M. |\n",
            "|                               |                      |               MIG M. |\n",
            "|===============================+======================+======================|\n",
            "|   0  Tesla K80           Off  | 00000000:00:04.0 Off |                    0 |\n",
            "| N/A   35C    P8    26W / 149W |      0MiB / 11441MiB |      0%      Default |\n",
            "|                               |                      |                  N/A |\n",
            "+-------------------------------+----------------------+----------------------+\n",
            "                                                                               \n",
            "+-----------------------------------------------------------------------------+\n",
            "| Processes:                                                                  |\n",
            "|  GPU   GI   CI        PID   Type   Process name                  GPU Memory |\n",
            "|        ID   ID                                                   Usage      |\n",
            "|=============================================================================|\n",
            "|  No running processes found                                                 |\n",
            "+-----------------------------------------------------------------------------+\n"
          ],
          "name": "stdout"
        }
      ]
    },
    {
      "cell_type": "markdown",
      "metadata": {
        "id": "0ndInECm_vCQ"
      },
      "source": [
        "### Import libraries"
      ]
    },
    {
      "cell_type": "code",
      "metadata": {
        "id": "Do_jSiMNz-wS"
      },
      "source": [
        "import numpy as np\n",
        "import tensorflow as tf\n",
        "from tensorflow import keras\n",
        "import matplotlib.pyplot as plt\n",
        "import pandas as pd\n",
        "import wandb\n",
        "from wandb.keras import WandbCallback"
      ],
      "execution_count": null,
      "outputs": []
    },
    {
      "cell_type": "markdown",
      "metadata": {
        "id": "a58pzJUVGGy7"
      },
      "source": [
        "### Load the data"
      ]
    },
    {
      "cell_type": "code",
      "metadata": {
        "colab": {
          "base_uri": "https://localhost:8080/"
        },
        "id": "B6Nfgwq-FXWp",
        "outputId": "95072e46-fb00-4064-e33b-a3548974d18d"
      },
      "source": [
        "# Load the training lexicons\n",
        "with open(\"hi/lexicons/hi.translit.sampled.train.tsv\") as f:\n",
        "    training_lines = f.readlines()\n",
        "training_pairs = [line.strip(\"\\n\").split(\"\\t\") for line in training_lines]\n",
        "training_map = dict([(example[1], example[0]) for example in training_pairs])\n",
        "\n",
        "# Load the validation lexicons\n",
        "with open(\"hi/lexicons/hi.translit.sampled.dev.tsv\") as f:\n",
        "    validation_lines = f.readlines()\n",
        "validation_pairs = [line.strip(\"\\n\").split(\"\\t\") for line in validation_lines]\n",
        "validation_map = dict([(example[1], example[0]) for example in validation_pairs])\n",
        "\n",
        "# Load the test lexicons\n",
        "with open(\"hi/lexicons/hi.translit.sampled.test.tsv\") as f:\n",
        "    test_lines = f.readlines()\n",
        "test_pairs = [line.strip(\"\\n\").split(\"\\t\") for line in test_lines]\n",
        "test_map = dict([(example[1], example[0]) for example in test_pairs])\n",
        "\n",
        "# Number of training examples\n",
        "M_train = len(training_map.keys())\n",
        "\n",
        "# Number of validation examples\n",
        "M_val = len(validation_map.keys())\n",
        "\n",
        "# Number of test examples\n",
        "M_test = len(test_map.keys())\n",
        "\n",
        "print(f\"Number of training examples = {M_train}\")\n",
        "print(f\"Number of validation examples = {M_val}\")\n",
        "print(f\"Number of test examples = {M_test}\")\n",
        "print()"
      ],
      "execution_count": null,
      "outputs": [
        {
          "output_type": "stream",
          "text": [
            "Number of training examples = 41345\n",
            "Number of validation examples = 4321\n",
            "Number of test examples = 4442\n",
            "\n"
          ],
          "name": "stdout"
        }
      ]
    },
    {
      "cell_type": "markdown",
      "metadata": {
        "id": "KXRxQh-xwfbT"
      },
      "source": [
        "### Prepare the data"
      ]
    },
    {
      "cell_type": "markdown",
      "metadata": {
        "id": "WuU71yP_QJka"
      },
      "source": [
        "We have used \"tab\" for the START sequence character and \"newline\" as the END sequence character."
      ]
    },
    {
      "cell_type": "code",
      "metadata": {
        "id": "Hm4PvtAjQDcc"
      },
      "source": [
        "def extract_data_info(data_dict):\n",
        "    \"\"\"\n",
        "    Returns important information about the data.\n",
        "    \"\"\"\n",
        "    input_words = []\n",
        "    target_words = []\n",
        "    input_characters = []\n",
        "    target_characters = []\n",
        "\n",
        "    for key in data_dict:\n",
        "        # Store the word in the source language\n",
        "        input_words.append(key)\n",
        "        # Store the word in the target language\n",
        "        target_words.append(\"\\t\"+data_dict[key]+\"\\n\")\n",
        "        # Add the characters to the respective character lists\n",
        "        input_characters = list(set(input_characters + list(key)))\n",
        "        target_characters = list(set(target_characters + list(data_dict[key])))\n",
        "\n",
        "    # Sort the input characters\n",
        "    input_characters = sorted(list(set(input_characters)))\n",
        "    # Sort the target characters\n",
        "    target_characters = target_characters + [\"\\t\", \"\\n\"]\n",
        "    target_characters = sorted(list(set(target_characters)))\n",
        "\n",
        "    # Number of unique tokens in the source language\n",
        "    num_input_tokens = len(input_characters)\n",
        "    # Number of unique tokens in the target language\n",
        "    num_target_tokens = len(target_characters)\n",
        "\n",
        "    # Max input word length\n",
        "    max_encoder_seq_length = max([len(word) for word in input_words])\n",
        "    # Max output word length\n",
        "    max_decoder_seq_length = max([len(word) for word in target_words])\n",
        "\n",
        "    print(f\"Number of unique input characters: {num_input_tokens}\")\n",
        "    print(f\"Number of unique output characters: {num_target_tokens}\")\n",
        "    print()\n",
        "    print(f\"Maximum sequence length for the input: {max_encoder_seq_length}\")\n",
        "    print(f\"Maximum sequence length for the output: {max_decoder_seq_length}\")\n",
        "\n",
        "    # Map characters to numerical indices (using +1 to avoid any character being mapped to 0)\n",
        "    input_char_map = dict([(ch, i + 1) for i, ch in enumerate(input_characters)])\n",
        "    target_char_map = dict([(ch, i + 1) for i, ch in enumerate(target_characters)])\n",
        "\n",
        "    return input_characters, target_characters, num_input_tokens, num_target_tokens, max_encoder_seq_length, max_decoder_seq_length, input_char_map, target_char_map\n",
        "\n",
        "def make_one_hot_arrays(data_dict, max_encoder_seq_length, max_decoder_seq_length, num_input_tokens, num_target_tokens):\n",
        "    \"\"\"\n",
        "    This function takes the training/validation/test dictionary as input and produces\n",
        "    the one-hot encoded versions of the respective data.\n",
        "    \"\"\"\n",
        "    input_words = []\n",
        "    target_words = []\n",
        "\n",
        "    for key in data_dict:\n",
        "        # Store the word in the source language\n",
        "        input_words.append(key)\n",
        "        # Store the word in the target language\n",
        "        target_words.append(\"\\t\"+data_dict[key]+\"\\n\")\n",
        "\n",
        "    M = len(data_dict.keys())\n",
        "    encoder_input_array = np.zeros((M, max_encoder_seq_length, num_input_tokens + 1), dtype=\"float\")\n",
        "    decoder_input_array = np.zeros((M, max_decoder_seq_length, num_target_tokens + 1), dtype=\"float\")\n",
        "    decoder_output_array = np.zeros((M, max_decoder_seq_length, num_target_tokens + 1), dtype=\"float\")\n",
        "\n",
        "    for i in range(M):\n",
        "        source_word = input_words[i]\n",
        "        target_word = target_words[i]\n",
        "\n",
        "        # One-hot encoding for the input\n",
        "        for j, ch in enumerate(source_word):\n",
        "            encoder_input_array[i, j, input_char_map[ch]] = 1.0\n",
        "\n",
        "        # One-hot encoding for the output\n",
        "        for j, ch in enumerate(target_word):\n",
        "            decoder_input_array[i, j, target_char_map[ch]]= 1.0\n",
        "            if j >= 1:\n",
        "                # The decoder output is one step ahead of the decoder input\n",
        "                decoder_output_array[i, j-1, target_char_map[ch]] = 1.0\n",
        "\n",
        "    return input_words, target_words, encoder_input_array, decoder_input_array, decoder_output_array"
      ],
      "execution_count": null,
      "outputs": []
    },
    {
      "cell_type": "code",
      "metadata": {
        "colab": {
          "base_uri": "https://localhost:8080/"
        },
        "id": "JIYKpEm9MILL",
        "outputId": "27141f96-3116-4f76-a6b2-a00112d1e105"
      },
      "source": [
        "input_characters, target_characters, num_input_tokens, num_target_tokens, max_encoder_seq_length, max_decoder_seq_length, input_char_map, target_char_map = extract_data_info(training_map)"
      ],
      "execution_count": null,
      "outputs": [
        {
          "output_type": "stream",
          "text": [
            "Number of unique input characters: 26\n",
            "Number of unique output characters: 64\n",
            "\n",
            "Maximum sequence length for the input: 20\n",
            "Maximum sequence length for the output: 21\n"
          ],
          "name": "stdout"
        }
      ]
    },
    {
      "cell_type": "code",
      "metadata": {
        "id": "HVxmygruOuYr"
      },
      "source": [
        "# Get the one-hot training matrices\n",
        "input_words, target_words, encoder_input_array, decoder_input_array, decoder_output_array = make_one_hot_arrays(training_map, max_encoder_seq_length, max_decoder_seq_length, num_input_tokens, num_target_tokens)\n",
        "\n",
        "# # Pad sequences\n",
        "# padded_encoder_input_array = keras.preprocessing.sequence.pad_sequences(encoder_input_array, padding=\"post\", maxlen=max_encoder_seq_length)\n",
        "# padded_decoder_input_array = keras.preprocessing.sequence.pad_sequences(decoder_input_array, padding=\"post\", maxlen=max_decoder_seq_length)\n",
        "# padded_decoder_output_array = keras.preprocessing.sequence.pad_sequences(decoder_output_array, padding=\"post\", maxlen=max_decoder_seq_length)\n",
        "\n",
        "# # Decoder output should be one hot\n",
        "# padded_decoder_output_array_oh = np.zeros((padded_decoder_output_array.shape[0], max_decoder_seq_length, num_target_tokens), dtype=\"float\")\n",
        "# for i in range(padded_decoder_output_array.shape[0]):\n",
        "#     for j in range(max_decoder_seq_length):\n",
        "#         padded_decoder_output_array_oh[i][j][padded_decoder_output_array[i][j]] = 1.0"
      ],
      "execution_count": null,
      "outputs": []
    },
    {
      "cell_type": "code",
      "metadata": {
        "id": "KIiDB6KXveoh"
      },
      "source": [
        "# Get the one-hot validation matrices\n",
        "val_input_words, val_target_words, val_encoder_input_array, val_decoder_input_array, val_decoder_output_array = make_one_hot_arrays(validation_map, max_encoder_seq_length, max_decoder_seq_length, num_input_tokens, num_target_tokens)\n",
        "\n",
        "# # Pad sequences\n",
        "# padded_val_encoder_input_array = keras.preprocessing.sequence.pad_sequences(val_encoder_input_array, padding=\"post\", maxlen=max_encoder_seq_length)\n",
        "# padded_val_decoder_input_array = keras.preprocessing.sequence.pad_sequences(val_decoder_input_array, padding=\"post\", maxlen=max_decoder_seq_length)\n",
        "# padded_val_decoder_output_array = keras.preprocessing.sequence.pad_sequences(val_decoder_output_array, padding=\"post\", maxlen=max_decoder_seq_length)\n",
        "\n",
        "# # Decoder output should be one hot\n",
        "# padded_val_decoder_output_array_oh = np.zeros((padded_val_decoder_output_array.shape[0], max_decoder_seq_length, num_target_tokens), dtype=\"float\")\n",
        "# for i in range(padded_val_decoder_output_array.shape[0]):\n",
        "#     for j in range(max_decoder_seq_length):\n",
        "#         padded_val_decoder_output_array_oh[i][j][padded_val_decoder_output_array[i][j]] = 1.0"
      ],
      "execution_count": null,
      "outputs": []
    },
    {
      "cell_type": "code",
      "metadata": {
        "id": "YPDddQWpi527"
      },
      "source": [
        "# Get the one-hot validation matrices\n",
        "test_input_words, test_target_words, test_encoder_input_array, test_decoder_input_array, test_decoder_output_array = make_one_hot_arrays(test_map, max_encoder_seq_length, max_decoder_seq_length, num_input_tokens, num_target_tokens)\n",
        "\n",
        "# # Pad sequences\n",
        "# padded_test_encoder_input_array = keras.preprocessing.sequence.pad_sequences(test_encoder_input_array, padding=\"post\", maxlen=max_encoder_seq_length)\n",
        "# padded_test_decoder_input_array = keras.preprocessing.sequence.pad_sequences(test_decoder_input_array, padding=\"post\", maxlen=max_decoder_seq_length)\n",
        "# padded_test_decoder_output_array = keras.preprocessing.sequence.pad_sequences(test_decoder_output_array, padding=\"post\", maxlen=max_decoder_seq_length)\n",
        "\n",
        "# # Decoder output should be one hot\n",
        "# padded_test_decoder_output_array_oh = np.zeros((padded_test_decoder_output_array.shape[0], max_decoder_seq_length, num_target_tokens), dtype=\"float\")\n",
        "# for i in range(padded_test_decoder_output_array.shape[0]):\n",
        "#     for j in range(max_decoder_seq_length):\n",
        "#         padded_test_decoder_output_array_oh[i][j][padded_test_decoder_output_array[i][j]] = 1.0"
      ],
      "execution_count": null,
      "outputs": []
    },
    {
      "cell_type": "code",
      "metadata": {
        "id": "HMz64fi4QG9-"
      },
      "source": [
        "# Using label encoding for the encoder inputs (and then find an embedding using the Embedding layer)\n",
        "encoder_input_array = np.argmax(encoder_input_array, axis=2)\n",
        "val_encoder_input_array = np.argmax(val_encoder_input_array, axis=2)\n",
        "test_encoder_input_array = np.argmax(test_encoder_input_array, axis=2)\n",
        "\n",
        "decoder_input_array = np.argmax(decoder_input_array, axis=2)\n",
        "val_decoder_input_array = np.argmax(val_decoder_input_array, axis=2)\n",
        "test_decoder_input_array = np.argmax(test_decoder_input_array, axis=2)\n",
        "\n",
        "# Dictionaries mapping from indices to characters\n",
        "reverse_input_char_map = dict((i, char) for char, i in input_char_map.items())\n",
        "reverse_target_char_map = dict((i, char) for char, i in target_char_map.items())\n",
        "reverse_target_char_map[0] = \"\\n\""
      ],
      "execution_count": null,
      "outputs": []
    },
    {
      "cell_type": "markdown",
      "metadata": {
        "id": "hIE7VXznwkRI"
      },
      "source": [
        "### Define the model"
      ]
    },
    {
      "cell_type": "code",
      "metadata": {
        "id": "G1qE_0-FwGiG"
      },
      "source": [
        "def define_model(num_cells, cell_type, num_encoder_layers, num_decoder_layers, input_embedding_size, dropout_fraction, beam_size):\n",
        "    \"\"\"\n",
        "    num_cells: Number of cells in the encoder and decoder layers\n",
        "    cell_type: choice of cell type: Simple RNN, LSTM, GRU\n",
        "    num_encoder_layers: Number of layers in the encoder\n",
        "    num_decoder_layers: Number of layers in the decoder\n",
        "    input_embedding_size: Dimenions of the vector to represent each character\n",
        "    dropout_fraction: fraction of neurons to drop out\n",
        "    \"\"\"\n",
        "    ## ENCODER\n",
        "    # encoder_input = keras.Input(shape=(None, num_input_tokens), name=\"EncoderInput\")\n",
        "    encoder_input = keras.Input(shape=(None, ), name=\"EncoderInput\")\n",
        "    encoder_embedding = keras.layers.Embedding(num_input_tokens + 1, input_embedding_size, name=\"EncoderInputEmbedding\", mask_zero=True)(encoder_input)\n",
        "\n",
        "    # LSTM/RNN/GRU layer of the encoder\n",
        "    for i in range(1, num_encoder_layers+1):\n",
        "        if cell_type==\"LSTM\":\n",
        "            if i==num_encoder_layers:\n",
        "                encoder = keras.layers.LSTM(num_cells, return_state=True, name=\"EncoderLayer\"+str(i), dropout=dropout_fraction, recurrent_dropout=dropout_fraction)\n",
        "            else:\n",
        "                encoder = keras.layers.LSTM(num_cells, return_state=True, return_sequences=True, name=\"EncoderLayer\"+str(i), dropout=dropout_fraction, recurrent_dropout=dropout_fraction)\n",
        "\n",
        "            if i==1:\n",
        "                encoder_outputs, encoder_state_h_1, encoder_state_c_1 = encoder(encoder_embedding)\n",
        "            if i==2:\n",
        "                encoder_outputs, encoder_state_h_2, encoder_state_c_2 = encoder(encoder_outputs)\n",
        "            if i==3:\n",
        "                encoder_outputs, encoder_state_h_3, encoder_state_c_3 = encoder(encoder_outputs)\n",
        "\n",
        "        if cell_type==\"RNN\":\n",
        "            if i==num_encoder_layers:\n",
        "                encoder = keras.layers.SimpleRNN(num_cells, return_state=True, name=\"EncoderLayer\"+str(i), dropout=dropout_fraction, recurrent_dropout=dropout_fraction)\n",
        "            else:\n",
        "                encoder = keras.layers.SimpleRNN(num_cells, return_state=True, return_sequences=True, name=\"EncoderLayer\"+str(i), dropout=dropout_fraction, recurrent_dropout=dropout_fraction)\n",
        "            if i==1:\n",
        "                whole_sequence_output, rnn_final_state_1 = encoder(encoder_embedding)\n",
        "            if i==2:\n",
        "                whole_sequence_output, rnn_final_state_2 = encoder(whole_sequence_output)\n",
        "            if i==3:\n",
        "                whole_sequence_output, rnn_final_state_3 = encoder(whole_sequence_output)\n",
        "\n",
        "        if cell_type==\"GRU\":\n",
        "            if i==num_encoder_layers:\n",
        "                encoder = keras.layers.GRU(num_cells, return_state=True, name=\"EncoderLayer\"+str(i), dropout=dropout_fraction, recurrent_dropout=dropout_fraction)\n",
        "            else:\n",
        "                encoder = keras.layers.GRU(num_cells, return_state=True, return_sequences=True, name=\"EncoderLayer\"+str(i), dropout=dropout_fraction, recurrent_dropout=dropout_fraction)\n",
        "            if i==1:\n",
        "                whole_sequence_output, gru_final_state_1 = encoder(encoder_embedding)\n",
        "            if i==2:\n",
        "                whole_sequence_output, gru_final_state_2 = encoder(whole_sequence_output)\n",
        "            if i==3:\n",
        "                whole_sequence_output, gru_final_state_3 = encoder(whole_sequence_output)\n",
        "\n",
        "\n",
        "    ## DECODER\n",
        "    decoder_input = keras.Input(shape=(None, ), name=\"DecoderInput\")\n",
        "    decoder_embedding = keras.layers.Embedding(num_target_tokens + 1, 64, name=\"DecoderInputEmbedding\", mask_zero=True)(decoder_input)\n",
        "\n",
        "\n",
        "    for i in range(1, num_decoder_layers+1):\n",
        "        if cell_type==\"LSTM\":\n",
        "            decoder_lstm = keras.layers.LSTM(num_cells, return_sequences=True, return_state=True, name=\"DecoderLayer\"+str(i), dropout=dropout_fraction, recurrent_dropout=dropout_fraction)\n",
        "            if i==1:\n",
        "                decoder_outputs, decoder_state_h, decoder_state_c = decoder_lstm(decoder_embedding, initial_state = [encoder_state_h_1, encoder_state_c_1])\n",
        "            if i==2:\n",
        "                decoder_outputs, decoder_state_h, decoder_state_c = decoder_lstm(decoder_outputs, initial_state = [encoder_state_h_2, encoder_state_c_2])\n",
        "            if i==3:\n",
        "                decoder_outputs, decoder_state_h, decoder_state_c = decoder_lstm(decoder_outputs, initial_state = [encoder_state_h_3, encoder_state_c_3])\n",
        "                \n",
        "\n",
        "        if cell_type==\"RNN\":\n",
        "            decoder_rnn = keras.layers.SimpleRNN(num_cells, return_sequences=True, return_state=True, name=\"DecoderLayer\"+str(i), dropout=dropout_fraction, recurrent_dropout=dropout_fraction)\n",
        "            if i==1:\n",
        "                decoder_outputs, rnn_decoder_final_state = decoder_rnn(decoder_embedding, initial_state = rnn_final_state_1)\n",
        "            if i==2:\n",
        "                decoder_outputs, rnn_decoder_final_state = decoder_rnn(decoder_outputs, initial_state = rnn_final_state_2)\n",
        "            if i==3:\n",
        "                decoder_outputs, rnn_decoder_final_state = decoder_rnn(decoder_outputs, initial_state = rnn_final_state_3)\n",
        "\n",
        "        if cell_type==\"GRU\":\n",
        "            decoder_gru = keras.layers.GRU(num_cells, return_sequences=True, return_state=True, name=\"DecoderLayer\"+str(i), dropout=dropout_fraction, recurrent_dropout=dropout_fraction)\n",
        "            if i==1:\n",
        "                decoder_outputs, gru_decoder_final_state = decoder_gru(decoder_embedding, initial_state = gru_final_state_1)\n",
        "            if i==2:\n",
        "                decoder_outputs, gru_decoder_final_state = decoder_gru(decoder_outputs, initial_state = gru_final_state_2)\n",
        "            if i==3:\n",
        "                decoder_outputs, gru_decoder_final_state = decoder_gru(decoder_outputs, initial_state = gru_final_state_3)\n",
        "\n",
        "    decoder_dense = keras.layers.Dense(num_target_tokens + 1, activation=\"softmax\", name=\"DecoderDenseLayer\") # Softmax picks one character\n",
        "    decoder_outputs = decoder_dense(decoder_outputs)\n",
        "\n",
        "    # Define the model\n",
        "    model = keras.Model([encoder_input, decoder_input], decoder_outputs)\n",
        "\n",
        "    return model"
      ],
      "execution_count": null,
      "outputs": []
    },
    {
      "cell_type": "markdown",
      "metadata": {
        "id": "VinJW3-VJUIK"
      },
      "source": [
        "# Inference Functions"
      ]
    },
    {
      "cell_type": "markdown",
      "metadata": {
        "id": "zBpnbYKfJUIN"
      },
      "source": [
        "### Inference, LSTM, 1 Decoder Layer"
      ]
    },
    {
      "cell_type": "code",
      "metadata": {
        "id": "s0Z6fh2BJUIO",
        "colab": {
          "base_uri": "https://localhost:8080/",
          "height": 126
        },
        "outputId": "09da2d40-32f6-483b-b4b6-a2080a1b8da9"
      },
      "source": [
        "def prepare_inference_model_lstm_1(model, num_cells):\n",
        "        \"\"\"\n",
        "    Inference for LSTM model with 1 encoder layers and 1 decoder layers.\n",
        "    \"\"\"\n",
        "    # Input to the encoder, sequence of characters (word) in the source language\n",
        "    encoder_inputs = model.input[0]\n",
        "    # Output of the encoder\n",
        "    for layer in model.layers:\n",
        "        if \"EncoderLayer\" in layer.name:\n",
        "            _, state_h_enc, state_c_enc = layer.output\n",
        "    encoder_states = [state_h_enc, state_c_enc]\n",
        "\n",
        "    # Create an encoder model which outputs only cell states\n",
        "    encoder_model = keras.Model(encoder_inputs, encoder_states)\n",
        "\n",
        "    # Input to the decoder\n",
        "    decoder_inputs = model.input[1]\n",
        "    for layer in model.layers:\n",
        "        if layer.name==\"DecoderDenseLayer\":\n",
        "            decoder_dense = layer\n",
        "        if \"DecoderLayer1\" in layer.name:\n",
        "            decoder_lstm_first = layer\n",
        "        if layer.name == \"DecoderInputEmbedding\":\n",
        "            decoder_embedding_layer = layer\n",
        "\n",
        "\n",
        "    decoder_state_input_h = keras.Input(shape=(num_cells,))\n",
        "    decoder_state_input_c = keras.Input(shape=(num_cells,))\n",
        "    decoder_states_inputs = [decoder_state_input_h, decoder_state_input_c]\n",
        "\n",
        "    decoder_outputs, state_h_dec, state_c_dec = decoder_lstm_first(decoder_embedding_layer(decoder_inputs), initial_state=decoder_states_inputs)\n",
        "    decoder_states = [state_h_dec, state_c_dec]\n",
        "\n",
        "    # Softmax layer\n",
        "    decoder_outputs = decoder_dense(decoder_outputs)\n",
        "    # Create the decoder model\n",
        "    decoder_model = keras.Model([decoder_inputs] + decoder_states_inputs, [decoder_outputs] + decoder_states)\n",
        "\n",
        "    return encoder_model, decoder_model\n",
        "\n",
        "\n",
        "def transliterate_word_lstm_1(input_words, encoder_model, decoder_model):\n",
        "    \"\"\"\n",
        "    Decodes the given input sequence, one character at a time.\n",
        "    \"\"\"\n",
        "    # Get batch_size\n",
        "    batch_size = input_words.shape[0]\n",
        "    # Encode the input string\n",
        "    encoded_hidden_cell_states = encoder_model.predict(input_words)\n",
        "\n",
        "    target_sequence = np.zeros((batch_size, 1, num_target_tokens+1))\n",
        "    # Set the first character to \"tab\" as it is the start of sequence character\n",
        "    target_sequence[:, 0, target_char_map[\"\\t\"]] = 1.0\n",
        "    target_sequence = np.argmax(target_sequence, axis=2)\n",
        "\n",
        "    decoded_words = [\"\"]*batch_size\n",
        "    for i in range(max_decoder_seq_length):\n",
        "        output_tokens, h, c = decoder_model.predict([target_sequence] + encoded_hidden_cell_states)\n",
        "\n",
        "        # Sample the most probable character using softmax outputs\n",
        "        sampled_char_indices = np.argmax(output_tokens[:, -1, :], axis=1)\n",
        "\n",
        "        # Update the target sequence which goes back as input to the decoder.\n",
        "        target_sequence = np.zeros((batch_size, 1, num_target_tokens+1))\n",
        "\n",
        "        for j, ch_index in enumerate(sampled_char_indices):\n",
        "            decoded_words[j] += reverse_target_char_map[ch_index]\n",
        "            target_sequence[j, 0, ch_index] = 1.0\n",
        "\n",
        "        target_sequence = np.argmax(target_sequence, axis=2)\n",
        "\n",
        "        # Update the hidden state and cell state \n",
        "        encoded_hidden_cell_states = [h, c]\n",
        "\n",
        "    # To remove the \\n chars\n",
        "    decoded_words = [word[:word.find(\"\\n\")] for word in decoded_words]\n",
        "    return decoded_words"
      ],
      "execution_count": null,
      "outputs": [
        {
          "output_type": "error",
          "ename": "IndentationError",
          "evalue": "ignored",
          "traceback": [
            "\u001b[0;36m  File \u001b[0;32m\"<ipython-input-13-66179bb07f84>\"\u001b[0;36m, line \u001b[0;32m6\u001b[0m\n\u001b[0;31m    encoder_inputs = model.input[0]\u001b[0m\n\u001b[0m                                   ^\u001b[0m\n\u001b[0;31mIndentationError\u001b[0m\u001b[0;31m:\u001b[0m unindent does not match any outer indentation level\n"
          ]
        }
      ]
    },
    {
      "cell_type": "markdown",
      "metadata": {
        "id": "SyhXdixtJUIR"
      },
      "source": [
        "### Inference: LSTM, 2 Decoder Layers"
      ]
    },
    {
      "cell_type": "code",
      "metadata": {
        "id": "XQJ_nZ6GJUIR"
      },
      "source": [
        "def prepare_inference_model_lstm_2(model, num_cells):\n",
        "    \"\"\"\n",
        "    Inference for LSTM model with 2 encoder layers and 2 decoder layers.\n",
        "    \"\"\"\n",
        "    # Input to the encoder, sequence of characters (word) in the source language\n",
        "    encoder_inputs = model.input[0]\n",
        "\n",
        "    # Output of the encoder\n",
        "    for layer in model.layers:\n",
        "        if layer.name ==\"EncoderLayer1\":\n",
        "            _, state_h_enc_1, state_c_enc_1 = layer.output\n",
        "        if layer.name ==\"EncoderLayer2\":\n",
        "            _, state_h_enc_2, state_c_enc_2 = layer.output\n",
        "    encoder_states = [state_h_enc_1, state_c_enc_1, state_h_enc_2, state_c_enc_2]\n",
        "\n",
        "    # Create an encoder model which outputs only cell states\n",
        "    encoder_model = keras.Model(encoder_inputs, encoder_states)\n",
        "\n",
        "    # Input to the decoder\n",
        "    decoder_inputs = model.input[1]\n",
        "\n",
        "    for layer in model.layers:\n",
        "        if layer.name==\"DecoderDenseLayer\":\n",
        "            decoder_dense = layer\n",
        "        if layer.name == \"DecoderInputEmbedding\":\n",
        "            decoder_embedding_layer = layer\n",
        "        if layer.name == \"DecoderLayer1\":\n",
        "            decoder_1 = layer\n",
        "        if layer.name == \"DecoderLayer2\":\n",
        "            decoder_2 = layer\n",
        "        if layer.name == \"DecoderLayer3\":\n",
        "            decoder_3 = layer\n",
        "\n",
        "    decoder_state_input_h_1 = keras.Input(shape=(num_cells,))\n",
        "    decoder_state_input_c_1 = keras.Input(shape=(num_cells,))\n",
        "    decoder_state_input_h_2 = keras.Input(shape=(num_cells,))\n",
        "    decoder_state_input_c_2 = keras.Input(shape=(num_cells,))\n",
        "    decoder_states_inputs_1 = [decoder_state_input_h_1, decoder_state_input_c_1]\n",
        "    decoder_states_inputs_2 = [decoder_state_input_h_2, decoder_state_input_c_2]\n",
        "\n",
        "    decoder_outputs, state_h_dec_1, state_c_dec_1 = decoder_1(decoder_embedding_layer(decoder_inputs), initial_state=decoder_states_inputs_1)\n",
        "    decoder_outputs, state_h_dec_2, state_c_dec_2 = decoder_2(decoder_outputs, initial_state = decoder_states_inputs_2)\n",
        "\n",
        "\n",
        "    # Softmax layer\n",
        "    decoder_outputs = decoder_dense(decoder_outputs)\n",
        "    # Create the decoder model\n",
        "    decoder_model = keras.Model([decoder_inputs] + decoder_states_inputs_1 + decoder_states_inputs_2,\n",
        "                                [decoder_outputs] + [state_h_dec_1, state_c_dec_1, state_h_dec_2, state_c_dec_2])\n",
        "    \n",
        "    return encoder_model, decoder_model\n",
        "\n",
        "def transliterate_word_lstm_2(input_words, encoder_model, decoder_model):\n",
        "    \"\"\"\n",
        "    Decodes the given input sequence, one character at a time.\n",
        "    \"\"\"\n",
        "    # Get batch_size\n",
        "    batch_size = input_words.shape[0]\n",
        "    # Encode the input string\n",
        "    encoded_hidden_cell_states = encoder_model.predict(input_words)\n",
        "\n",
        "    target_sequence = np.zeros((batch_size, 1, num_target_tokens+1))\n",
        "    # Set the first character to \"tab\" as it is the start of sequence character\n",
        "    target_sequence[:, 0, target_char_map[\"\\t\"]] = 1.0\n",
        "    target_sequence = np.argmax(target_sequence, axis=2)\n",
        "\n",
        "    decoded_words = [\"\"]*batch_size\n",
        "    for i in range(max_decoder_seq_length):\n",
        "        output_tokens, h1, c1, h2, c2 = decoder_model.predict([target_sequence] + encoded_hidden_cell_states)\n",
        "\n",
        "        # Sample the most probable character using softmax outputs\n",
        "        sampled_char_indices = np.argmax(output_tokens[:, -1, :], axis=1)\n",
        "\n",
        "        # Update the target sequence which goes back as input to the decoder.\n",
        "        target_sequence = np.zeros((batch_size, 1, num_target_tokens+1))\n",
        "\n",
        "        for j, ch_index in enumerate(sampled_char_indices):\n",
        "            decoded_words[j] += reverse_target_char_map[ch_index]\n",
        "            target_sequence[j, 0, ch_index] = 1.0\n",
        "\n",
        "        target_sequence = np.argmax(target_sequence, axis=2)\n",
        "\n",
        "        # Update the hidden states and cell states \n",
        "        encoded_hidden_cell_states = [h1, c1, h2, c2]\n",
        "\n",
        "    # To remove the \\n chars\n",
        "    decoded_words = [word[:word.find(\"\\n\")] for word in decoded_words]\n",
        "    \n",
        "    return decoded_words"
      ],
      "execution_count": null,
      "outputs": []
    },
    {
      "cell_type": "markdown",
      "metadata": {
        "id": "LmQG9hyuJUIU"
      },
      "source": [
        "### Inference: LSTM, 3 Decoder Layers"
      ]
    },
    {
      "cell_type": "code",
      "metadata": {
        "id": "dY5ojLxrJUIU"
      },
      "source": [
        "def prepare_inference_model_lstm_3(model, num_cells):\n",
        "    \"\"\"\n",
        "    Inference for LSTM model with 3 encoder layers and 3 decoder layers.\n",
        "    \"\"\"\n",
        "    # Input to the encoder, sequence of characters (word) in the source language\n",
        "    encoder_inputs = model.input[0]\n",
        "\n",
        "    # Output of the encoder\n",
        "    for layer in model.layers:\n",
        "        if layer.name ==\"EncoderLayer1\":\n",
        "            _, state_h_enc_1, state_c_enc_1 = layer.output\n",
        "        if layer.name ==\"EncoderLayer2\":\n",
        "            _, state_h_enc_2, state_c_enc_2 = layer.output\n",
        "        if layer.name ==\"EncoderLayer3\":\n",
        "            _, state_h_enc_3, state_c_enc_3 = layer.output\n",
        "\n",
        "    encoder_states = [state_h_enc_1, state_c_enc_1, state_h_enc_2, state_c_enc_2, state_h_enc_3, state_c_enc_3]\n",
        "\n",
        "    # Create an encoder model which outputs only cell states\n",
        "    encoder_model = keras.Model(encoder_inputs, encoder_states)\n",
        "\n",
        "    # Input to the decoder\n",
        "    decoder_inputs = model.input[1]\n",
        "\n",
        "    for layer in model.layers:\n",
        "        if layer.name==\"DecoderDenseLayer\":\n",
        "            decoder_dense = layer\n",
        "        if layer.name == \"DecoderInputEmbedding\":\n",
        "            decoder_embedding_layer = layer\n",
        "        if layer.name == \"DecoderLayer1\":\n",
        "            decoder_1 = layer\n",
        "        if layer.name == \"DecoderLayer2\":\n",
        "            decoder_2 = layer\n",
        "        if layer.name == \"DecoderLayer3\":\n",
        "            decoder_3 = layer\n",
        "\n",
        "    decoder_state_input_h_1 = keras.Input(shape=(num_cells,))\n",
        "    decoder_state_input_c_1 = keras.Input(shape=(num_cells,))\n",
        "    decoder_state_input_h_2 = keras.Input(shape=(num_cells,))\n",
        "    decoder_state_input_c_2 = keras.Input(shape=(num_cells,))\n",
        "    decoder_state_input_h_3 = keras.Input(shape=(num_cells,))\n",
        "    decoder_state_input_c_3 = keras.Input(shape=(num_cells,))\n",
        "\n",
        "    decoder_states_inputs_1 = [decoder_state_input_h_1, decoder_state_input_c_1]\n",
        "    decoder_states_inputs_2 = [decoder_state_input_h_2, decoder_state_input_c_2]\n",
        "    decoder_states_inputs_3 = [decoder_state_input_h_3, decoder_state_input_c_3]\n",
        "\n",
        "    decoder_outputs, state_h_dec_1, state_c_dec_1 = decoder_1(decoder_embedding_layer(decoder_inputs), initial_state=decoder_states_inputs_1)\n",
        "    decoder_outputs, state_h_dec_2, state_c_dec_2 = decoder_2(decoder_outputs, initial_state = decoder_states_inputs_2)\n",
        "    decoder_outputs, state_h_dec_3, state_c_dec_3 = decoder_3(decoder_outputs, initial_state = decoder_states_inputs_3)\n",
        "\n",
        "\n",
        "    # Softmax layer\n",
        "    decoder_outputs = decoder_dense(decoder_outputs)\n",
        "    # Create the decoder model\n",
        "    decoder_model = keras.Model([decoder_inputs] + decoder_states_inputs_1 + decoder_states_inputs_2 + decoder_states_inputs_3,\n",
        "                                [decoder_outputs] + [state_h_dec_1, state_c_dec_1, state_h_dec_2, state_c_dec_2,state_h_dec_3, state_c_dec_3])\n",
        "    \n",
        "    return encoder_model, decoder_model\n",
        "\n",
        "def transliterate_word_lstm_3(input_words, encoder_model, decoder_model):\n",
        "    \"\"\"\n",
        "    Decodes the given input sequence, one character at a time.\n",
        "    \"\"\"\n",
        "    # Get batch_size\n",
        "    batch_size = input_words.shape[0]\n",
        "    # Encode the input string\n",
        "    encoded_hidden_cell_states = encoder_model.predict(input_words)\n",
        "\n",
        "    target_sequence = np.zeros((batch_size, 1, num_target_tokens+1))\n",
        "    # Set the first character to \"tab\" as it is the start of sequence character\n",
        "    target_sequence[:, 0, target_char_map[\"\\t\"]] = 1.0\n",
        "    target_sequence = np.argmax(target_sequence, axis=2)\n",
        "\n",
        "    decoded_words = [\"\"]*batch_size\n",
        "    for i in range(max_decoder_seq_length):\n",
        "        output_tokens, h1, c1, h2, c2, h3, c3 = decoder_model.predict([target_sequence] + encoded_hidden_cell_states)\n",
        "\n",
        "        # Sample the most probable character using softmax outputs\n",
        "        sampled_char_indices = np.argmax(output_tokens[:, -1, :], axis=1)\n",
        "\n",
        "        # Update the target sequence which goes back as input to the decoder.\n",
        "        target_sequence = np.zeros((batch_size, 1, num_target_tokens+1))\n",
        "\n",
        "        for j, ch_index in enumerate(sampled_char_indices):\n",
        "            decoded_words[j] += reverse_target_char_map[ch_index]\n",
        "            target_sequence[j, 0, ch_index] = 1.0\n",
        "\n",
        "        target_sequence = np.argmax(target_sequence, axis=2)\n",
        "\n",
        "        # Update the hidden states and cell states \n",
        "        encoded_hidden_cell_states = [h1, c1, h2, c2, h3, c3]\n",
        "\n",
        "    # To remove the \\n chars\n",
        "    decoded_words = [word[:word.find(\"\\n\")] for word in decoded_words]\n",
        "    \n",
        "    return decoded_words"
      ],
      "execution_count": null,
      "outputs": []
    },
    {
      "cell_type": "markdown",
      "metadata": {
        "id": "EMkPN6k0JUIW"
      },
      "source": [
        "### Inference for RNN and GRU\n"
      ]
    },
    {
      "cell_type": "code",
      "metadata": {
        "id": "ZwaxxVhfJUIX"
      },
      "source": [
        "def prepare_inference_model_rnngru_1(model, num_cells):\n",
        "    # Input to the encoder, sequence of characters (word) in the source language\n",
        "    encoder_inputs = model.input[0]\n",
        "    # Output of the encoder\n",
        "    for layer in model.layers:\n",
        "        if \"EncoderLayer\" in layer.name:\n",
        "            _, state = layer.output\n",
        "    encoder_states = [state]\n",
        "\n",
        "    # Create an encoder model which outputs only cell states\n",
        "    encoder_model = keras.Model(encoder_inputs, encoder_states)\n",
        "\n",
        "    # Input to the decoder\n",
        "    decoder_inputs = model.input[1]\n",
        "    for layer in model.layers:\n",
        "        if layer.name==\"DecoderDenseLayer\":\n",
        "            decoder_dense = layer\n",
        "        if \"DecoderLayer1\" in layer.name:\n",
        "            decoder_rnn_first = layer\n",
        "        if layer.name == \"DecoderInputEmbedding\":\n",
        "            decoder_embedding_layer = layer\n",
        "\n",
        "    decoder_states_inputs = keras.Input(shape=(num_cells, ))\n",
        "    decoder_outputs, decoder_states = decoder_rnn_first(decoder_embedding_layer(decoder_inputs), initial_state=[decoder_states_inputs])\n",
        "\n",
        "    # Softmax layer\n",
        "    decoder_outputs = decoder_dense(decoder_outputs)\n",
        "\n",
        "    # Create the decoder model\n",
        "    decoder_model = keras.Model([decoder_inputs] + [decoder_states_inputs], [decoder_outputs] + [decoder_states])\n",
        "\n",
        "    return encoder_model, decoder_model\n",
        "\n",
        "\n",
        "def transliterate_word_rnngru_1(input_words, encoder_model, decoder_model):\n",
        "    \"\"\"\n",
        "    Decodes the given input sequence, one character at a time.\n",
        "    \"\"\"\n",
        "    # Get batch_size\n",
        "    batch_size = input_words.shape[0]\n",
        "    # Encode the input string\n",
        "    encoded_hidden_cell_states = encoder_model.predict(input_words)\n",
        "\n",
        "    target_sequence = np.zeros((batch_size, 1, num_target_tokens+1))\n",
        "    # Set the first character to \"tab\" as it is the start of sequence character\n",
        "    target_sequence[:, 0, target_char_map[\"\\t\"]] = 1.0\n",
        "    target_sequence = np.argmax(target_sequence, axis=2)\n",
        "\n",
        "    decoded_words = [\"\"]*batch_size\n",
        "    for i in range(max_decoder_seq_length):\n",
        "        output_tokens, state = decoder_model.predict([target_sequence] + [encoded_hidden_cell_states])\n",
        "\n",
        "        # Sample the most probable character using softmax outputs\n",
        "        sampled_char_indices = np.argmax(output_tokens[:, -1, :], axis=1)\n",
        "\n",
        "        # Update the target sequence which goes back as input to the decoder.\n",
        "        target_sequence = np.zeros((batch_size, 1, num_target_tokens+1))\n",
        "\n",
        "        for j, ch_index in enumerate(sampled_char_indices):\n",
        "            decoded_words[j] += reverse_target_char_map[ch_index]\n",
        "            target_sequence[j, 0, ch_index] = 1.0\n",
        "\n",
        "        target_sequence = np.argmax(target_sequence, axis=2)\n",
        "\n",
        "        # Update the hidden state and cell state \n",
        "        encoded_hidden_cell_states = [state]\n",
        "\n",
        "    # To remove the \\n chars\n",
        "    decoded_words = [word[:word.find(\"\\n\")] for word in decoded_words]\n",
        "    return decoded_words"
      ],
      "execution_count": null,
      "outputs": []
    },
    {
      "cell_type": "code",
      "metadata": {
        "id": "6l1AYMdeJUIa"
      },
      "source": [
        "def prepare_inference_model_rnngru_2(model, num_cells):\n",
        "    # Input to the encoder, sequence of characters (word) in the source language\n",
        "    encoder_inputs = model.input[0]\n",
        "\n",
        "    # Output of the encoder\n",
        "    for layer in model.layers:\n",
        "        if layer.name ==\"EncoderLayer1\":\n",
        "            _, state_1 = layer.output\n",
        "        if layer.name ==\"EncoderLayer2\":\n",
        "            _, state_2 = layer.output\n",
        "\n",
        "    encoder_states = [state_1, state_2]\n",
        "\n",
        "    # Create an encoder model which outputs only cell states\n",
        "    encoder_model = keras.Model(encoder_inputs, encoder_states)\n",
        "\n",
        "    # Input to the decoder\n",
        "    decoder_inputs = model.input[1]\n",
        "\n",
        "    for layer in model.layers:\n",
        "        if layer.name==\"DecoderDenseLayer\":\n",
        "            decoder_dense = layer\n",
        "        if layer.name == \"DecoderInputEmbedding\":\n",
        "            decoder_embedding_layer = layer\n",
        "        if layer.name == \"DecoderLayer1\":\n",
        "            decoder_1 = layer\n",
        "        if layer.name == \"DecoderLayer2\":\n",
        "            decoder_2 = layer\n",
        "\n",
        "    decoder_states_inputs_1 = keras.Input(shape=(num_cells, ))\n",
        "    decoder_states_inputs_2 = keras.Input(shape=(num_cells, ))\n",
        "\n",
        "    decoder_outputs, decoder_states_1 = decoder_1(decoder_embedding_layer(decoder_inputs), initial_state=[decoder_states_inputs_1])\n",
        "    decoder_outputs, decoder_states_2 = decoder_2(decoder_outputs, initial_state=[decoder_states_inputs_2])\n",
        "\n",
        "    # Softmax layer\n",
        "    decoder_outputs = decoder_dense(decoder_outputs)\n",
        "\n",
        "    # Create the decoder model\n",
        "    decoder_model = keras.Model([decoder_inputs] + [decoder_states_inputs_1, decoder_states_inputs_2],\n",
        "                                [decoder_outputs] + [decoder_states_1, decoder_states_2])\n",
        "    \n",
        "    return encoder_model, decoder_model\n",
        "\n",
        "def transliterate_word_rnngru_2(input_words, encoder_model, decoder_model):\n",
        "    \"\"\"\n",
        "    Decodes the given input sequence, one character at a time.\n",
        "    \"\"\"\n",
        "    # Get batch_size\n",
        "    batch_size = input_words.shape[0]\n",
        "    # Encode the input string\n",
        "    encoded_hidden_cell_states = encoder_model.predict(input_words)\n",
        "\n",
        "    target_sequence = np.zeros((batch_size, 1, num_target_tokens+1))\n",
        "    # Set the first character to \"tab\" as it is the start of sequence character\n",
        "    target_sequence[:, 0, target_char_map[\"\\t\"]] = 1.0\n",
        "    target_sequence = np.argmax(target_sequence, axis=2)\n",
        "\n",
        "    decoded_words = [\"\"]*batch_size\n",
        "    for i in range(max_decoder_seq_length):\n",
        "        output_tokens, state_1, state_2 = decoder_model.predict([target_sequence] + encoded_hidden_cell_states)\n",
        "\n",
        "        # Sample the most probable character using softmax outputs\n",
        "        sampled_char_indices = np.argmax(output_tokens[:, -1, :], axis=1)\n",
        "\n",
        "        # Update the target sequence which goes back as input to the decoder.\n",
        "        target_sequence = np.zeros((batch_size, 1, num_target_tokens+1))\n",
        "\n",
        "        for j, ch_index in enumerate(sampled_char_indices):\n",
        "            decoded_words[j] += reverse_target_char_map[ch_index]\n",
        "            target_sequence[j, 0, ch_index] = 1.0\n",
        "\n",
        "        target_sequence = np.argmax(target_sequence, axis=2)\n",
        "\n",
        "        # Update the hidden states and cell states \n",
        "        encoded_hidden_cell_states = [state_1, state_2]\n",
        "\n",
        "    # To remove the \\n chars\n",
        "    decoded_words = [word[:word.find(\"\\n\")] for word in decoded_words]\n",
        "    \n",
        "    return decoded_words"
      ],
      "execution_count": null,
      "outputs": []
    },
    {
      "cell_type": "code",
      "metadata": {
        "id": "1GdnLod3JUIc"
      },
      "source": [
        "def prepare_inference_model_rnngru_3(model, num_cells):\n",
        "    # Input to the encoder, sequence of characters (word) in the source language\n",
        "    encoder_inputs = model.input[0]\n",
        "\n",
        "    # Output of the encoder\n",
        "    for layer in model.layers:\n",
        "        if layer.name ==\"EncoderLayer1\":\n",
        "            _, state_1 = layer.output\n",
        "        if layer.name ==\"EncoderLayer2\":\n",
        "            _, state_2 = layer.output\n",
        "        if layer.name ==\"EncoderLayer3\":\n",
        "            _, state_3 = layer.output\n",
        "\n",
        "    encoder_states = [state_1, state_2, state_3]\n",
        "\n",
        "    # Create an encoder model which outputs only cell states\n",
        "    encoder_model = keras.Model(encoder_inputs, encoder_states)\n",
        "\n",
        "    # Input to the decoder\n",
        "    decoder_inputs = model.input[1]\n",
        "\n",
        "    for layer in model.layers:\n",
        "        if layer.name==\"DecoderDenseLayer\":\n",
        "            decoder_dense = layer\n",
        "        if layer.name == \"DecoderInputEmbedding\":\n",
        "            decoder_embedding_layer = layer\n",
        "        if layer.name == \"DecoderLayer1\":\n",
        "            decoder_1 = layer\n",
        "        if layer.name == \"DecoderLayer2\":\n",
        "            decoder_2 = layer\n",
        "        if layer.name == \"DecoderLayer3\":\n",
        "            decoder_3 = layer\n",
        "\n",
        "    decoder_states_inputs_1 = keras.Input(shape=(num_cells, ))\n",
        "    decoder_states_inputs_2 = keras.Input(shape=(num_cells, ))\n",
        "    decoder_states_inputs_3 = keras.Input(shape=(num_cells, ))\n",
        "\n",
        "    decoder_outputs, decoder_states_1 = decoder_1(decoder_embedding_layer(decoder_inputs), initial_state=[decoder_states_inputs_1])\n",
        "    decoder_outputs, decoder_states_2 = decoder_2(decoder_outputs, initial_state=[decoder_states_inputs_2])\n",
        "    decoder_outputs, decoder_states_3 = decoder_3(decoder_outputs, initial_state=[decoder_states_inputs_3])\n",
        "\n",
        "    # Softmax layer\n",
        "    decoder_outputs = decoder_dense(decoder_outputs)\n",
        "\n",
        "    # Create the decoder model\n",
        "    decoder_model = keras.Model([decoder_inputs] + [decoder_states_inputs_1, decoder_states_inputs_2, decoder_states_inputs_3],\n",
        "                                [decoder_outputs] + [decoder_states_1, decoder_states_2, decoder_states_3])\n",
        "    \n",
        "    return encoder_model, decoder_model\n",
        "\n",
        "def transliterate_word_rnngru_3(input_words, encoder_model, decoder_model):\n",
        "    \"\"\"\n",
        "    Decodes the given input sequence, one character at a time.\n",
        "    \"\"\"\n",
        "    # Get batch_size\n",
        "    batch_size = input_words.shape[0]\n",
        "    # Encode the input string\n",
        "    encoded_hidden_cell_states = encoder_model.predict(input_words)\n",
        "\n",
        "    target_sequence = np.zeros((batch_size, 1, num_target_tokens+1))\n",
        "    # Set the first character to \"tab\" as it is the start of sequence character\n",
        "    target_sequence[:, 0, target_char_map[\"\\t\"]] = 1.0\n",
        "    target_sequence = np.argmax(target_sequence, axis=2)\n",
        "\n",
        "    decoded_words = [\"\"]*batch_size\n",
        "    for i in range(max_decoder_seq_length):\n",
        "        output_tokens, state_1, state_2, state_3 = decoder_model.predict([target_sequence] + encoded_hidden_cell_states)\n",
        "\n",
        "        # Sample the most probable character using softmax outputs\n",
        "        sampled_char_indices = np.argmax(output_tokens[:, -1, :], axis=1)\n",
        "\n",
        "        # Update the target sequence which goes back as input to the decoder.\n",
        "        target_sequence = np.zeros((batch_size, 1, num_target_tokens+1))\n",
        "\n",
        "        for j, ch_index in enumerate(sampled_char_indices):\n",
        "            decoded_words[j] += reverse_target_char_map[ch_index]\n",
        "            target_sequence[j, 0, ch_index] = 1.0\n",
        "\n",
        "        target_sequence = np.argmax(target_sequence, axis=2)\n",
        "\n",
        "        # Update the hidden states and cell states \n",
        "        encoded_hidden_cell_states = [state_1, state_2, state_3]\n",
        "\n",
        "    # To remove the \\n chars\n",
        "    decoded_words = [word[:word.find(\"\\n\")] for word in decoded_words]\n",
        "    return decoded_words"
      ],
      "execution_count": null,
      "outputs": []
    },
    {
      "cell_type": "markdown",
      "metadata": {
        "id": "XNe8FjULEHzM"
      },
      "source": [
        "# Training the Best Model\n",
        "\n",
        "Use this to train the model with the best choice of hyperparameters obtained from Wandb."
      ]
    },
    {
      "cell_type": "code",
      "metadata": {
        "id": "PksoqHo4Mn0L"
      },
      "source": [
        "def train(num_cells, cell_type, num_layers, input_embedding_size, dropout_fraction, beam_size):\n",
        "    \"\"\"\n",
        "    Function to train the model with the best set of hyperparameters (without WANDB)\n",
        "    \"\"\"\n",
        "    # Define the model\n",
        "\n",
        "    model = define_model(num_cells, cell_type, num_layers, num_layers, input_embedding_size, dropout_fraction, beam_size)\n",
        "    print(model.summary())\n",
        "\n",
        "    # Compile the model\n",
        "    model.compile(optimizer=\"adam\", loss=\"categorical_crossentropy\", metrics=[\"accuracy\"])\n",
        "\n",
        "    # Train the model\n",
        "    history = model.fit(\n",
        "            [encoder_input_array, decoder_input_array],\n",
        "            decoder_output_array,\n",
        "            batch_size = 64,\n",
        "            epochs = 20,\n",
        "            verbose = 2,\n",
        "            validation_data = ([val_encoder_input_array, val_decoder_input_array], val_decoder_output_array)\n",
        "            )\n",
        "\n",
        "    # Save the trained model\n",
        "    model.save(\"best_model_seq2seq.h5\")\n",
        "\n",
        "    if cell_type == \"LSTM\":\n",
        "        cell = \"lstm\"\n",
        "    else:\n",
        "        cell = \"rnngru\"\n",
        "\n",
        "    func1_name = \"prepare_inference_model_\" + cell + \"_\" + str(num_layers)\n",
        "    func2_name = \"transliterate_word_\" + cell + \"_\" + str(num_layers)\n",
        "\n",
        "    # Get the encoder and decoder model\n",
        "    encoder_model, decoder_model = globals()[func1_name](model, num_cells)\n",
        "\n",
        "    outputs = []\n",
        "    n = encoder_input_array.shape[0]\n",
        "    batch_size = 1000\n",
        "    for i in range(0, n, batch_size):\n",
        "        # Inputs\n",
        "        query = encoder_input_array[i:i+batch_size]\n",
        "        # Results\n",
        "        decoded_words = globals()[func2_name](query, encoder_model, decoder_model)\n",
        "        outputs = outputs + decoded_words\n",
        "\n",
        "    # To remove the tab and newline characters from the ground truth\n",
        "    ground_truths = [word[1:-1] for word in target_words]\n",
        "    # Calculate training accuracy\n",
        "    training_inference_accuracy = np.mean(np.array(outputs) == np.array(ground_truths))\n",
        "    print(\"Training accuracy based on whole string matching = {} %\".format(training_inference_accuracy*100.0))\n",
        "\n",
        "\n",
        "    outputs = []\n",
        "    n = val_encoder_input_array.shape[0]\n",
        "    batch_size = 1000\n",
        "    for i in range(0, n, batch_size):\n",
        "        # Inputs\n",
        "        query = val_encoder_input_array[i:i+batch_size]\n",
        "        # Results\n",
        "        decoded_words = globals()[func2_name](query, encoder_model, decoder_model)\n",
        "        outputs = outputs + decoded_words\n",
        "\n",
        "    # To remove the tab and newline characters from the ground truth\n",
        "    ground_truths = [word[1:-1] for word in val_target_words]\n",
        "    # Calculate validation accuracy\n",
        "    validation_inference_accuracy = np.mean(np.array(outputs) == np.array(ground_truths))\n",
        "    print(\"Validation accuracy based on whole string matching = {} %\".format(validation_inference_accuracy*100.0))\n",
        "\n",
        "    # Plots of accuracy and loss\n",
        "    plt.plot(history.history[\"val_accuracy\"], label=\"Validation accuracy\")\n",
        "    plt.plot(history.history[\"accuracy\"], label = \"Training accuracy\")\n",
        "    plt.title(\"Accuracy vs epoch\", size=14)\n",
        "    plt.legend()\n",
        "    plt.show()\n",
        "\n",
        "    plt.plot(history.history[\"val_loss\"], label=\"Validation loss\")\n",
        "    plt.plot(history.history[\"loss\"], label = \"Training loss\")\n",
        "    plt.title(\"Loss vs epoch\", size=14)\n",
        "    plt.legend()\n",
        "    plt.show()\n",
        "\n",
        "    return model, history"
      ],
      "execution_count": null,
      "outputs": []
    },
    {
      "cell_type": "markdown",
      "metadata": {
        "id": "TwPkQtbtDytI"
      },
      "source": [
        "### Training with the Best Hyperparameters\n",
        "\n",
        "These are the best hyperparameters that we got from WANDB."
      ]
    },
    {
      "cell_type": "code",
      "metadata": {
        "colab": {
          "base_uri": "https://localhost:8080/",
          "height": 1000
        },
        "id": "jO77Y1kPNJ1O",
        "outputId": "83aa1aad-0105-4f57-c21d-0275756d3dcf"
      },
      "source": [
        "# Best hyperparameters\n",
        "num_cells = 256\n",
        "cell_type = \"GRU\"\n",
        "num_layers = 2\n",
        "num_encoder_layers = num_layers\n",
        "num_decoder_layers = num_layers\n",
        "input_embedding_size = 32\n",
        "dropout_fraction = 0.1\n",
        "beam_size = 1\n",
        "\n",
        "model, history = train(num_cells, cell_type, num_layers, input_embedding_size, dropout_fraction, beam_size)"
      ],
      "execution_count": null,
      "outputs": [
        {
          "output_type": "stream",
          "text": [
            "WARNING:tensorflow:Layer EncoderLayer1 will not use cuDNN kernel since it doesn't meet the cuDNN kernel criteria. It will use generic GPU kernel as fallback when running on GPU\n",
            "WARNING:tensorflow:Layer EncoderLayer2 will not use cuDNN kernel since it doesn't meet the cuDNN kernel criteria. It will use generic GPU kernel as fallback when running on GPU\n",
            "WARNING:tensorflow:Layer DecoderLayer1 will not use cuDNN kernel since it doesn't meet the cuDNN kernel criteria. It will use generic GPU kernel as fallback when running on GPU\n",
            "WARNING:tensorflow:Layer DecoderLayer2 will not use cuDNN kernel since it doesn't meet the cuDNN kernel criteria. It will use generic GPU kernel as fallback when running on GPU\n",
            "Model: \"model\"\n",
            "__________________________________________________________________________________________________\n",
            "Layer (type)                    Output Shape         Param #     Connected to                     \n",
            "==================================================================================================\n",
            "EncoderInput (InputLayer)       [(None, None)]       0                                            \n",
            "__________________________________________________________________________________________________\n",
            "DecoderInput (InputLayer)       [(None, None)]       0                                            \n",
            "__________________________________________________________________________________________________\n",
            "EncoderInputEmbedding (Embeddin (None, None, 32)     864         EncoderInput[0][0]               \n",
            "__________________________________________________________________________________________________\n",
            "DecoderInputEmbedding (Embeddin (None, None, 64)     4160        DecoderInput[0][0]               \n",
            "__________________________________________________________________________________________________\n",
            "EncoderLayer1 (GRU)             [(None, None, 256),  222720      EncoderInputEmbedding[0][0]      \n",
            "__________________________________________________________________________________________________\n",
            "DecoderLayer1 (GRU)             [(None, None, 256),  247296      DecoderInputEmbedding[0][0]      \n",
            "                                                                 EncoderLayer1[0][1]              \n",
            "__________________________________________________________________________________________________\n",
            "EncoderLayer2 (GRU)             [(None, 256), (None, 394752      EncoderLayer1[0][0]              \n",
            "__________________________________________________________________________________________________\n",
            "DecoderLayer2 (GRU)             [(None, None, 256),  394752      DecoderLayer1[0][0]              \n",
            "                                                                 EncoderLayer2[0][1]              \n",
            "__________________________________________________________________________________________________\n",
            "DecoderDenseLayer (Dense)       (None, None, 65)     16705       DecoderLayer2[0][0]              \n",
            "==================================================================================================\n",
            "Total params: 1,281,249\n",
            "Trainable params: 1,281,249\n",
            "Non-trainable params: 0\n",
            "__________________________________________________________________________________________________\n",
            "None\n",
            "Epoch 1/20\n",
            "647/647 - 304s - loss: 0.8359 - accuracy: 0.3132 - val_loss: 0.5911 - val_accuracy: 0.4436\n",
            "Epoch 2/20\n",
            "647/647 - 286s - loss: 0.4619 - accuracy: 0.5460 - val_loss: 0.3195 - val_accuracy: 0.6329\n",
            "Epoch 3/20\n",
            "647/647 - 287s - loss: 0.2827 - accuracy: 0.6693 - val_loss: 0.2255 - val_accuracy: 0.6975\n",
            "Epoch 4/20\n",
            "647/647 - 288s - loss: 0.2101 - accuracy: 0.7189 - val_loss: 0.2029 - val_accuracy: 0.7104\n",
            "Epoch 5/20\n",
            "647/647 - 285s - loss: 0.1754 - accuracy: 0.7442 - val_loss: 0.1786 - val_accuracy: 0.7295\n",
            "Epoch 6/20\n",
            "647/647 - 285s - loss: 0.1538 - accuracy: 0.7604 - val_loss: 0.1677 - val_accuracy: 0.7393\n",
            "Epoch 7/20\n",
            "647/647 - 287s - loss: 0.1358 - accuracy: 0.7732 - val_loss: 0.1635 - val_accuracy: 0.7427\n",
            "Epoch 8/20\n",
            "647/647 - 284s - loss: 0.1230 - accuracy: 0.7833 - val_loss: 0.1623 - val_accuracy: 0.7444\n",
            "Epoch 9/20\n",
            "647/647 - 290s - loss: 0.1147 - accuracy: 0.7891 - val_loss: 0.1599 - val_accuracy: 0.7462\n",
            "Epoch 10/20\n",
            "647/647 - 286s - loss: 0.1036 - accuracy: 0.7978 - val_loss: 0.1580 - val_accuracy: 0.7496\n",
            "Epoch 11/20\n",
            "647/647 - 286s - loss: 0.0972 - accuracy: 0.8026 - val_loss: 0.1597 - val_accuracy: 0.7499\n",
            "Epoch 12/20\n",
            "647/647 - 284s - loss: 0.0910 - accuracy: 0.8075 - val_loss: 0.1584 - val_accuracy: 0.7518\n",
            "Epoch 13/20\n",
            "647/647 - 281s - loss: 0.0855 - accuracy: 0.8112 - val_loss: 0.1619 - val_accuracy: 0.7498\n",
            "Epoch 14/20\n",
            "647/647 - 281s - loss: 0.0824 - accuracy: 0.8139 - val_loss: 0.1617 - val_accuracy: 0.7521\n",
            "Epoch 15/20\n",
            "647/647 - 281s - loss: 0.0755 - accuracy: 0.8189 - val_loss: 0.1646 - val_accuracy: 0.7515\n",
            "Epoch 16/20\n",
            "647/647 - 278s - loss: 0.0786 - accuracy: 0.8161 - val_loss: 0.1649 - val_accuracy: 0.7520\n",
            "Epoch 17/20\n",
            "647/647 - 286s - loss: 0.0695 - accuracy: 0.8233 - val_loss: 0.1686 - val_accuracy: 0.7527\n",
            "Epoch 18/20\n",
            "647/647 - 284s - loss: 0.0671 - accuracy: 0.8249 - val_loss: 0.1703 - val_accuracy: 0.7521\n",
            "Epoch 19/20\n",
            "647/647 - 281s - loss: 0.0644 - accuracy: 0.8265 - val_loss: 0.1730 - val_accuracy: 0.7498\n",
            "Epoch 20/20\n",
            "647/647 - 284s - loss: 0.0617 - accuracy: 0.8291 - val_loss: 0.1720 - val_accuracy: 0.7537\n",
            "Training accuracy based on whole string matching = 83.71991776514693 %\n",
            "Validation accuracy based on whole string matching = 38.60217542235594 %\n"
          ],
          "name": "stdout"
        },
        {
          "output_type": "display_data",
          "data": {
            "image/png": "[encoded data removed]",
            "text/plain": [
              "<Figure size 432x288 with 1 Axes>"
            ]
          },
          "metadata": {
            "tags": [],
            "needs_background": "light"
          }
        },
        {
          "output_type": "display_data",
          "data": {
            "image/png": "[encoded data removed]",
            "text/plain": [
              "<Figure size 432x288 with 1 Axes>"
            ]
          },
          "metadata": {
            "tags": [],
            "needs_background": "light"
          }
        }
      ]
    },
    {
      "cell_type": "markdown",
      "metadata": {
        "id": "7ymGRpAu9JiJ"
      },
      "source": [
        "### Load the best model\n",
        "\n"
      ]
    },
    {
      "cell_type": "code",
      "metadata": {
        "id": "s7GJYs06GhCn",
        "colab": {
          "base_uri": "https://localhost:8080/"
        },
        "outputId": "5b89a11f-75ea-44cc-b7e1-64f71a64c13f"
      },
      "source": [
        "model = keras.models.load_model(\"best_model_seq2seq.h5\")\n",
        "encoder_model, decoder_model = prepare_inference_model_rnngru_2(model, num_cells)"
      ],
      "execution_count": null,
      "outputs": [
        {
          "output_type": "stream",
          "text": [
            "WARNING:tensorflow:Layer EncoderLayer1 will not use cuDNN kernel since it doesn't meet the cuDNN kernel criteria. It will use generic GPU kernel as fallback when running on GPU\n",
            "WARNING:tensorflow:Layer DecoderLayer1 will not use cuDNN kernel since it doesn't meet the cuDNN kernel criteria. It will use generic GPU kernel as fallback when running on GPU\n",
            "WARNING:tensorflow:Layer EncoderLayer2 will not use cuDNN kernel since it doesn't meet the cuDNN kernel criteria. It will use generic GPU kernel as fallback when running on GPU\n",
            "WARNING:tensorflow:Layer DecoderLayer2 will not use cuDNN kernel since it doesn't meet the cuDNN kernel criteria. It will use generic GPU kernel as fallback when running on GPU\n"
          ],
          "name": "stdout"
        }
      ]
    },
    {
      "cell_type": "markdown",
      "metadata": {
        "id": "kneJ-brPEX4T"
      },
      "source": [
        "### Diagram of the Best Model"
      ]
    },
    {
      "cell_type": "code",
      "metadata": {
        "colab": {
          "base_uri": "https://localhost:8080/",
          "height": 563
        },
        "id": "sdhBHveBGjwP",
        "outputId": "e7940a7e-5e48-41af-8a42-9948432eb040"
      },
      "source": [
        "keras.utils.plot_model(model)"
      ],
      "execution_count": null,
      "outputs": [
        {
          "output_type": "execute_result",
          "data": {
            "image/png": "[encoded data removed]",
            "text/plain": [
              "<IPython.core.display.Image object>"
            ]
          },
          "metadata": {
            "tags": []
          },
          "execution_count": 24
        }
      ]
    },
    {
      "cell_type": "markdown",
      "metadata": {
        "id": "q8Af0_QDE2VC"
      },
      "source": [
        "### Character-wise accuracy scores"
      ]
    },
    {
      "cell_type": "code",
      "metadata": {
        "id": "GrmwW_C4EyLI",
        "colab": {
          "base_uri": "https://localhost:8080/"
        },
        "outputId": "22120942-5fae-4d70-bc65-54c24dfeda86"
      },
      "source": [
        "train_eval = model.evaluate([encoder_input_array, decoder_input_array], decoder_output_array)\n",
        "val_eval = model.evaluate([val_encoder_input_array, val_decoder_input_array], val_decoder_output_array)\n",
        "test_eval = model.evaluate([test_encoder_input_array, test_decoder_input_array], test_decoder_output_array)\n",
        "\n",
        "print(\"Character-wise training accuracy = {} %\".format(train_eval[1]*100.0))\n",
        "print(\"Character-wise validation accuracy = {} %\".format(val_eval[1]*100.0))\n",
        "print(\"Character-wise test accuracy = {} %\".format(test_eval[1]*100.0))"
      ],
      "execution_count": null,
      "outputs": [
        {
          "output_type": "stream",
          "text": [
            "1293/1293 [==============================] - 54s 41ms/step - loss: 0.0298 - accuracy: 0.8583\n",
            "136/136 [==============================] - 6s 41ms/step - loss: 0.1720 - accuracy: 0.7537\n",
            "139/139 [==============================] - 6s 41ms/step - loss: 0.1694 - accuracy: 0.7517\n",
            "Character-wise training accuracy = 85.83393692970276 %\n",
            "Character-wise validation accuracy = 75.37280917167664 %\n",
            "Character-wise test accuracy = 75.17355680465698 %\n"
          ],
          "name": "stdout"
        }
      ]
    },
    {
      "cell_type": "markdown",
      "metadata": {
        "id": "inEhHujMEbmN"
      },
      "source": [
        "### Inference using the best model (Training Set)"
      ]
    },
    {
      "cell_type": "code",
      "metadata": {
        "colab": {
          "base_uri": "https://localhost:8080/"
        },
        "id": "QQaN2h2Y02mS",
        "outputId": "db0c91c7-ea23-40cd-8ada-912300bfa5f6"
      },
      "source": [
        "outputs = []\n",
        "\n",
        "n = encoder_input_array.shape[0]\n",
        "batch_size = 1000\n",
        "\n",
        "for i in range(0, n, batch_size):\n",
        "    # Inputs\n",
        "    query = encoder_input_array[i:i+batch_size]\n",
        "    # Results\n",
        "    decoded_words = transliterate_word_rnngru_2(query, encoder_model, decoder_model)\n",
        "    outputs = outputs + decoded_words\n",
        "\n",
        "# To remove the tab and newline characters from the ground truth\n",
        "ground_truths = [word[1:-1] for word in target_words[:n]]\n",
        "\n",
        "df_train = pd.DataFrame({\"Input\": input_words[:n], \"Ground Truth\" : ground_truths, \"Model output\":outputs})\n",
        "\n",
        "# Calculate training accuracy\n",
        "training_inference_accuracy = np.mean(np.array(outputs) == np.array(ground_truths))\n",
        "print(\"Training Inference accuracy based on whole string matching = {} %\".format(training_inference_accuracy*100.0))\n",
        "\n",
        "# Save the inference results\n",
        "df_train.to_csv(\"TrainingSetPredictions.csv\", index=False)"
      ],
      "execution_count": null,
      "outputs": [
        {
          "output_type": "stream",
          "text": [
            "Training Inference accuracy based on whole string matching = 83.71991776514693 %\n"
          ],
          "name": "stdout"
        }
      ]
    },
    {
      "cell_type": "markdown",
      "metadata": {
        "id": "PqYdZ4_SElqE"
      },
      "source": [
        "### Inference using the best model (Validation Set)"
      ]
    },
    {
      "cell_type": "code",
      "metadata": {
        "colab": {
          "base_uri": "https://localhost:8080/"
        },
        "id": "NjH5t-C-02j4",
        "outputId": "15a3ad8f-6ac8-4f68-c63b-fc1271fcf4af"
      },
      "source": [
        "outputs = []\n",
        "\n",
        "n = val_encoder_input_array.shape[0]\n",
        "\n",
        "batch_size = 1000\n",
        "for i in range(0, n, batch_size):\n",
        "    # Inputs\n",
        "    query = val_encoder_input_array[i:i+batch_size]\n",
        "    # Results\n",
        "    decoded_words = transliterate_word_rnngru_2(query, encoder_model, decoder_model)\n",
        "    outputs = outputs + decoded_words\n",
        "\n",
        "# To remove the tab and newline characters from the ground truth\n",
        "ground_truths = [word[1:-1] for word in val_target_words]\n",
        "\n",
        "df_val = pd.DataFrame({\"Input\": val_input_words, \"Ground Truth\" : ground_truths, \"Model output\":outputs})\n",
        "\n",
        "# Calculate validation accuracy\n",
        "validation_inference_accuracy = np.mean(np.array(outputs) == np.array(ground_truths))\n",
        "print(\"Validation set inference accuracy based on whole string matching = {} %\".format(validation_inference_accuracy*100.0))\n",
        "\n",
        "# Save the inference results\n",
        "df_val.to_csv(\"ValidationSetPredictions.csv\", index=False)"
      ],
      "execution_count": null,
      "outputs": [
        {
          "output_type": "stream",
          "text": [
            "Validation set inference accuracy based on whole string matching = 38.60217542235594 %\n"
          ],
          "name": "stdout"
        }
      ]
    },
    {
      "cell_type": "markdown",
      "metadata": {
        "id": "Y-hdV8OpEm6t"
      },
      "source": [
        "### Inference using the best model (Test Set)"
      ]
    },
    {
      "cell_type": "code",
      "metadata": {
        "id": "lJACRORyEqXo",
        "colab": {
          "base_uri": "https://localhost:8080/"
        },
        "outputId": "0ec4fcb5-8181-47c9-dc5d-eb675ad7a9de"
      },
      "source": [
        "outputs = []\n",
        "\n",
        "n = test_encoder_input_array.shape[0]\n",
        "\n",
        "batch_size = 1000\n",
        "for i in range(0, n, batch_size):\n",
        "    # Inputs\n",
        "    query = test_encoder_input_array[i:i+batch_size]\n",
        "    # Results\n",
        "    decoded_words = transliterate_word_rnngru_2(query, encoder_model, decoder_model)\n",
        "    outputs = outputs + decoded_words\n",
        "\n",
        "# To remove the tab and newline characters from the ground truth\n",
        "ground_truths = [word[1:-1] for word in test_target_words]\n",
        "\n",
        "df_test = pd.DataFrame({\"Input\": test_input_words, \"Ground Truth\" : ground_truths, \"Model output\":outputs})\n",
        "\n",
        "# Calculate validation accuracy\n",
        "test_inference_accuracy = np.mean(np.array(outputs) == np.array(ground_truths))\n",
        "print(\"Test set Inference accuracy based on whole string matching = {} %\".format(test_inference_accuracy*100.0))\n",
        "\n",
        "# Save the inference results\n",
        "df_test.to_csv(\"TestSetPredictions.csv\", index=False)"
      ],
      "execution_count": null,
      "outputs": [
        {
          "output_type": "stream",
          "text": [
            "Test set Inference accuracy based on whole string matching = 37.57316524088248 %\n"
          ],
          "name": "stdout"
        }
      ]
    },
    {
      "cell_type": "markdown",
      "metadata": {
        "id": "ycp-anBHHxfd"
      },
      "source": [
        "### Visualize the Test Set results"
      ]
    },
    {
      "cell_type": "code",
      "metadata": {
        "colab": {
          "base_uri": "https://localhost:8080/",
          "height": 766
        },
        "id": "1Fqf5KwKHwrM",
        "outputId": "c2b266d7-1bd1-4d0d-f0c4-68ad4af9ba2c"
      },
      "source": [
        "df_test = pd.read_csv(\"TestSetPredictions.csv\")\n",
        "df_test = df_test.sample(frac=1)\n",
        "df_test.head(25)"
      ],
      "execution_count": null,
      "outputs": [
        {
          "output_type": "execute_result",
          "data": {
            "text/html": [
              "<div>\n",
              "<style scoped>\n",
              "    .dataframe tbody tr th:only-of-type {\n",
              "        vertical-align: middle;\n",
              "    }\n",
              "\n",
              "    .dataframe tbody tr th {\n",
              "        vertical-align: top;\n",
              "    }\n",
              "\n",
              "    .dataframe thead th {\n",
              "        text-align: right;\n",
              "    }\n",
              "</style>\n",
              "<table border=\"1\" class=\"dataframe\">\n",
              "  <thead>\n",
              "    <tr style=\"text-align: right;\">\n",
              "      <th></th>\n",
              "      <th>Input</th>\n",
              "      <th>Ground Truth</th>\n",
              "      <th>Model output</th>\n",
              "    </tr>\n",
              "  </thead>\n",
              "  <tbody>\n",
              "    <tr>\n",
              "      <th>1300</th>\n",
              "      <td>zamana</td>\n",
              "      <td>ज़माना</td>\n",
              "      <td>जमाना</td>\n",
              "    </tr>\n",
              "    <tr>\n",
              "      <th>76</th>\n",
              "      <td>adhivas</td>\n",
              "      <td>अधिवास</td>\n",
              "      <td>अधिवास</td>\n",
              "    </tr>\n",
              "    <tr>\n",
              "      <th>4401</th>\n",
              "      <td>hingis</td>\n",
              "      <td>हिंगिस</td>\n",
              "      <td>हिंगिस</td>\n",
              "    </tr>\n",
              "    <tr>\n",
              "      <th>3830</th>\n",
              "      <td>vyaghat</td>\n",
              "      <td>व्याघात</td>\n",
              "      <td>व्याघात</td>\n",
              "    </tr>\n",
              "    <tr>\n",
              "      <th>2929</th>\n",
              "      <td>bhira</td>\n",
              "      <td>भीरा</td>\n",
              "      <td>भीरा</td>\n",
              "    </tr>\n",
              "    <tr>\n",
              "      <th>3359</th>\n",
              "      <td>raatrichar</td>\n",
              "      <td>रात्रिचर</td>\n",
              "      <td>रात्रिचार</td>\n",
              "    </tr>\n",
              "    <tr>\n",
              "      <th>3316</th>\n",
              "      <td>ralhan</td>\n",
              "      <td>रल्हन</td>\n",
              "      <td>रालहण</td>\n",
              "    </tr>\n",
              "    <tr>\n",
              "      <th>339</th>\n",
              "      <td>aawajen</td>\n",
              "      <td>आवाज़ें</td>\n",
              "      <td>आवाजें</td>\n",
              "    </tr>\n",
              "    <tr>\n",
              "      <th>1687</th>\n",
              "      <td>tiwari</td>\n",
              "      <td>तिवारी</td>\n",
              "      <td>तीवारी</td>\n",
              "    </tr>\n",
              "    <tr>\n",
              "      <th>1041</th>\n",
              "      <td>grandson</td>\n",
              "      <td>ग्रैंडसन</td>\n",
              "      <td>ग्रांडसों</td>\n",
              "    </tr>\n",
              "    <tr>\n",
              "      <th>23</th>\n",
              "      <td>ambaani</td>\n",
              "      <td>अंबानी</td>\n",
              "      <td>अमबानी</td>\n",
              "    </tr>\n",
              "    <tr>\n",
              "      <th>1144</th>\n",
              "      <td>chunar</td>\n",
              "      <td>चूनर</td>\n",
              "      <td>चुनार</td>\n",
              "    </tr>\n",
              "    <tr>\n",
              "      <th>16</th>\n",
              "      <td>antmurkh</td>\n",
              "      <td>अंतर्मुख</td>\n",
              "      <td>अंतरपुर्क</td>\n",
              "    </tr>\n",
              "    <tr>\n",
              "      <th>1755</th>\n",
              "      <td>dadrewa</td>\n",
              "      <td>ददरेवा</td>\n",
              "      <td>दद्रेवा</td>\n",
              "    </tr>\n",
              "    <tr>\n",
              "      <th>2443</th>\n",
              "      <td>prastavon</td>\n",
              "      <td>प्रस्तावों</td>\n",
              "      <td>प्रस्तावों</td>\n",
              "    </tr>\n",
              "    <tr>\n",
              "      <th>2256</th>\n",
              "      <td>pide</td>\n",
              "      <td>पाइड</td>\n",
              "      <td>पीढ़े</td>\n",
              "    </tr>\n",
              "    <tr>\n",
              "      <th>2934</th>\n",
              "      <td>bhugata</td>\n",
              "      <td>भुगता</td>\n",
              "      <td>भुगता</td>\n",
              "    </tr>\n",
              "    <tr>\n",
              "      <th>3223</th>\n",
              "      <td>mainan</td>\n",
              "      <td>मैनन</td>\n",
              "      <td>मैनन</td>\n",
              "    </tr>\n",
              "    <tr>\n",
              "      <th>4280</th>\n",
              "      <td>squash</td>\n",
              "      <td>स्क्वैश</td>\n",
              "      <td>स्क्वाश</td>\n",
              "    </tr>\n",
              "    <tr>\n",
              "      <th>1618</th>\n",
              "      <td>dhundh</td>\n",
              "      <td>ढूंढ</td>\n",
              "      <td>धुंध</td>\n",
              "    </tr>\n",
              "    <tr>\n",
              "      <th>913</th>\n",
              "      <td>khalnayak</td>\n",
              "      <td>खलनायक</td>\n",
              "      <td>खलनायक</td>\n",
              "    </tr>\n",
              "    <tr>\n",
              "      <th>4046</th>\n",
              "      <td>sarguja</td>\n",
              "      <td>सरगुजा</td>\n",
              "      <td>सरगुजा</td>\n",
              "    </tr>\n",
              "    <tr>\n",
              "      <th>1110</th>\n",
              "      <td>chadron</td>\n",
              "      <td>चादरों</td>\n",
              "      <td>चाद्रों</td>\n",
              "    </tr>\n",
              "    <tr>\n",
              "      <th>1406</th>\n",
              "      <td>jealous</td>\n",
              "      <td>जूलूस</td>\n",
              "      <td>जिलूस</td>\n",
              "    </tr>\n",
              "    <tr>\n",
              "      <th>2912</th>\n",
              "      <td>bharani</td>\n",
              "      <td>भरनी</td>\n",
              "      <td>भरणी</td>\n",
              "    </tr>\n",
              "  </tbody>\n",
              "</table>\n",
              "</div>"
            ],
            "text/plain": [
              "           Input Ground Truth Model output\n",
              "1300      zamana       ज़माना        जमाना\n",
              "76       adhivas       अधिवास       अधिवास\n",
              "4401      hingis       हिंगिस       हिंगिस\n",
              "3830     vyaghat      व्याघात      व्याघात\n",
              "2929       bhira         भीरा         भीरा\n",
              "3359  raatrichar     रात्रिचर    रात्रिचार\n",
              "3316      ralhan        रल्हन        रालहण\n",
              "339      aawajen      आवाज़ें       आवाजें\n",
              "1687      tiwari       तिवारी       तीवारी\n",
              "1041    grandson     ग्रैंडसन    ग्रांडसों\n",
              "23       ambaani       अंबानी       अमबानी\n",
              "1144      chunar         चूनर        चुनार\n",
              "16      antmurkh     अंतर्मुख    अंतरपुर्क\n",
              "1755     dadrewa       ददरेवा      दद्रेवा\n",
              "2443   prastavon   प्रस्तावों   प्रस्तावों\n",
              "2256        pide         पाइड        पीढ़े\n",
              "2934     bhugata        भुगता        भुगता\n",
              "3223      mainan         मैनन         मैनन\n",
              "4280      squash      स्क्वैश      स्क्वाश\n",
              "1618      dhundh         ढूंढ         धुंध\n",
              "913    khalnayak       खलनायक       खलनायक\n",
              "4046     sarguja       सरगुजा       सरगुजा\n",
              "1110     chadron       चादरों      चाद्रों\n",
              "1406     jealous        जूलूस        जिलूस\n",
              "2912     bharani         भरनी         भरणी"
            ]
          },
          "metadata": {
            "tags": []
          },
          "execution_count": 32
        }
      ]
    },
    {
      "cell_type": "code",
      "metadata": {
        "id": "pBEDPNIYnvn0"
      },
      "source": [
        ""
      ],
      "execution_count": null,
      "outputs": []
    }
  ]
}